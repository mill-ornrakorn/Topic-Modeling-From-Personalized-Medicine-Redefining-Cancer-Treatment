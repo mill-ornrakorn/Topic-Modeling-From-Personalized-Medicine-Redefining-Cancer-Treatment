{
  "cells": [
    {
      "cell_type": "markdown",
      "id": "19cf2936",
      "metadata": {
        "id": "19cf2936"
      },
      "source": [
        "# 💊 **Topic Modeling From Personalized Medicine: Redefining Cancer Treatment**  "
      ]
    },
    {
      "cell_type": "markdown",
      "id": "3de97718",
      "metadata": {
        "id": "3de97718"
      },
      "source": [
        "**Dataset มาจาก:** https://www.kaggle.com/competitions/msk-redefining-cancer-treatment/data"
      ]
    },
    {
      "cell_type": "markdown",
      "source": [
        "**Objective:** เพื่อศึกษาว่าใน Dataset นี้ แต่ละ Class (ทั้ง 9 class) สื่อถึงอะไร โดยใช้การทำ Topic Modeling "
      ],
      "metadata": {
        "id": "6slRkLlRpG88"
      },
      "id": "6slRkLlRpG88"
    },
    {
      "cell_type": "markdown",
      "id": "53fd2fc6",
      "metadata": {
        "id": "53fd2fc6"
      },
      "source": [
        "## **1. Data Understanding:** 📦"
      ]
    },
    {
      "cell_type": "code",
      "source": [
        "from google.colab import drive\n",
        "drive.mount('/content/drive')"
      ],
      "metadata": {
        "colab": {
          "base_uri": "https://localhost:8080/"
        },
        "id": "IJVHydAKHhfp",
        "outputId": "ff783e16-0983-4b92-8bed-f94dd7612967"
      },
      "id": "IJVHydAKHhfp",
      "execution_count": null,
      "outputs": [
        {
          "output_type": "stream",
          "name": "stdout",
          "text": [
            "Drive already mounted at /content/drive; to attempt to forcibly remount, call drive.mount(\"/content/drive\", force_remount=True).\n"
          ]
        }
      ]
    },
    {
      "cell_type": "markdown",
      "id": "a33d8365",
      "metadata": {
        "id": "a33d8365"
      },
      "source": [
        "### Train set"
      ]
    },
    {
      "cell_type": "code",
      "execution_count": null,
      "id": "384cb796",
      "metadata": {
        "id": "384cb796"
      },
      "outputs": [],
      "source": [
        "import pandas as pd"
      ]
    },
    {
      "cell_type": "code",
      "execution_count": null,
      "id": "8db57f45",
      "metadata": {
        "colab": {
          "base_uri": "https://localhost:8080/",
          "height": 206
        },
        "id": "8db57f45",
        "outputId": "56da15b9-4da9-4dd2-9ded-f189129cbc6c"
      },
      "outputs": [
        {
          "output_type": "execute_result",
          "data": {
            "text/plain": [
              "   ID    Gene             Variation  Class\n",
              "0   0  FAM58A  Truncating Mutations      1\n",
              "1   1     CBL                 W802*      2\n",
              "2   2     CBL                 Q249E      2\n",
              "3   3     CBL                 N454D      3\n",
              "4   4     CBL                 L399V      4"
            ],
            "text/html": [
              "\n",
              "  <div id=\"df-bb07b406-f209-4b77-a61f-0ac83ff87dec\">\n",
              "    <div class=\"colab-df-container\">\n",
              "      <div>\n",
              "<style scoped>\n",
              "    .dataframe tbody tr th:only-of-type {\n",
              "        vertical-align: middle;\n",
              "    }\n",
              "\n",
              "    .dataframe tbody tr th {\n",
              "        vertical-align: top;\n",
              "    }\n",
              "\n",
              "    .dataframe thead th {\n",
              "        text-align: right;\n",
              "    }\n",
              "</style>\n",
              "<table border=\"1\" class=\"dataframe\">\n",
              "  <thead>\n",
              "    <tr style=\"text-align: right;\">\n",
              "      <th></th>\n",
              "      <th>ID</th>\n",
              "      <th>Gene</th>\n",
              "      <th>Variation</th>\n",
              "      <th>Class</th>\n",
              "    </tr>\n",
              "  </thead>\n",
              "  <tbody>\n",
              "    <tr>\n",
              "      <th>0</th>\n",
              "      <td>0</td>\n",
              "      <td>FAM58A</td>\n",
              "      <td>Truncating Mutations</td>\n",
              "      <td>1</td>\n",
              "    </tr>\n",
              "    <tr>\n",
              "      <th>1</th>\n",
              "      <td>1</td>\n",
              "      <td>CBL</td>\n",
              "      <td>W802*</td>\n",
              "      <td>2</td>\n",
              "    </tr>\n",
              "    <tr>\n",
              "      <th>2</th>\n",
              "      <td>2</td>\n",
              "      <td>CBL</td>\n",
              "      <td>Q249E</td>\n",
              "      <td>2</td>\n",
              "    </tr>\n",
              "    <tr>\n",
              "      <th>3</th>\n",
              "      <td>3</td>\n",
              "      <td>CBL</td>\n",
              "      <td>N454D</td>\n",
              "      <td>3</td>\n",
              "    </tr>\n",
              "    <tr>\n",
              "      <th>4</th>\n",
              "      <td>4</td>\n",
              "      <td>CBL</td>\n",
              "      <td>L399V</td>\n",
              "      <td>4</td>\n",
              "    </tr>\n",
              "  </tbody>\n",
              "</table>\n",
              "</div>\n",
              "      <button class=\"colab-df-convert\" onclick=\"convertToInteractive('df-bb07b406-f209-4b77-a61f-0ac83ff87dec')\"\n",
              "              title=\"Convert this dataframe to an interactive table.\"\n",
              "              style=\"display:none;\">\n",
              "        \n",
              "  <svg xmlns=\"http://www.w3.org/2000/svg\" height=\"24px\"viewBox=\"0 0 24 24\"\n",
              "       width=\"24px\">\n",
              "    <path d=\"M0 0h24v24H0V0z\" fill=\"none\"/>\n",
              "    <path d=\"M18.56 5.44l.94 2.06.94-2.06 2.06-.94-2.06-.94-.94-2.06-.94 2.06-2.06.94zm-11 1L8.5 8.5l.94-2.06 2.06-.94-2.06-.94L8.5 2.5l-.94 2.06-2.06.94zm10 10l.94 2.06.94-2.06 2.06-.94-2.06-.94-.94-2.06-.94 2.06-2.06.94z\"/><path d=\"M17.41 7.96l-1.37-1.37c-.4-.4-.92-.59-1.43-.59-.52 0-1.04.2-1.43.59L10.3 9.45l-7.72 7.72c-.78.78-.78 2.05 0 2.83L4 21.41c.39.39.9.59 1.41.59.51 0 1.02-.2 1.41-.59l7.78-7.78 2.81-2.81c.8-.78.8-2.07 0-2.86zM5.41 20L4 18.59l7.72-7.72 1.47 1.35L5.41 20z\"/>\n",
              "  </svg>\n",
              "      </button>\n",
              "      \n",
              "  <style>\n",
              "    .colab-df-container {\n",
              "      display:flex;\n",
              "      flex-wrap:wrap;\n",
              "      gap: 12px;\n",
              "    }\n",
              "\n",
              "    .colab-df-convert {\n",
              "      background-color: #E8F0FE;\n",
              "      border: none;\n",
              "      border-radius: 50%;\n",
              "      cursor: pointer;\n",
              "      display: none;\n",
              "      fill: #1967D2;\n",
              "      height: 32px;\n",
              "      padding: 0 0 0 0;\n",
              "      width: 32px;\n",
              "    }\n",
              "\n",
              "    .colab-df-convert:hover {\n",
              "      background-color: #E2EBFA;\n",
              "      box-shadow: 0px 1px 2px rgba(60, 64, 67, 0.3), 0px 1px 3px 1px rgba(60, 64, 67, 0.15);\n",
              "      fill: #174EA6;\n",
              "    }\n",
              "\n",
              "    [theme=dark] .colab-df-convert {\n",
              "      background-color: #3B4455;\n",
              "      fill: #D2E3FC;\n",
              "    }\n",
              "\n",
              "    [theme=dark] .colab-df-convert:hover {\n",
              "      background-color: #434B5C;\n",
              "      box-shadow: 0px 1px 3px 1px rgba(0, 0, 0, 0.15);\n",
              "      filter: drop-shadow(0px 1px 2px rgba(0, 0, 0, 0.3));\n",
              "      fill: #FFFFFF;\n",
              "    }\n",
              "  </style>\n",
              "\n",
              "      <script>\n",
              "        const buttonEl =\n",
              "          document.querySelector('#df-bb07b406-f209-4b77-a61f-0ac83ff87dec button.colab-df-convert');\n",
              "        buttonEl.style.display =\n",
              "          google.colab.kernel.accessAllowed ? 'block' : 'none';\n",
              "\n",
              "        async function convertToInteractive(key) {\n",
              "          const element = document.querySelector('#df-bb07b406-f209-4b77-a61f-0ac83ff87dec');\n",
              "          const dataTable =\n",
              "            await google.colab.kernel.invokeFunction('convertToInteractive',\n",
              "                                                     [key], {});\n",
              "          if (!dataTable) return;\n",
              "\n",
              "          const docLinkHtml = 'Like what you see? Visit the ' +\n",
              "            '<a target=\"_blank\" href=https://colab.research.google.com/notebooks/data_table.ipynb>data table notebook</a>'\n",
              "            + ' to learn more about interactive tables.';\n",
              "          element.innerHTML = '';\n",
              "          dataTable['output_type'] = 'display_data';\n",
              "          await google.colab.output.renderOutput(dataTable, element);\n",
              "          const docLink = document.createElement('div');\n",
              "          docLink.innerHTML = docLinkHtml;\n",
              "          element.appendChild(docLink);\n",
              "        }\n",
              "      </script>\n",
              "    </div>\n",
              "  </div>\n",
              "  "
            ]
          },
          "metadata": {},
          "execution_count": 118
        }
      ],
      "source": [
        "#train_variants = pd.read_csv('training_variants.csv')\n",
        "train_variants = pd.read_csv('/content/drive/MyDrive/ColabNotebooks/CHHD304 Project/training_variants.csv')\n",
        "train_variants.head()"
      ]
    },
    {
      "cell_type": "code",
      "execution_count": null,
      "id": "ba1f185c",
      "metadata": {
        "id": "ba1f185c",
        "outputId": "b8519440-ff7b-4da9-f9d7-16de789bd63e",
        "colab": {
          "base_uri": "https://localhost:8080/"
        }
      },
      "outputs": [
        {
          "output_type": "stream",
          "name": "stdout",
          "text": [
            "<class 'pandas.core.frame.DataFrame'>\n",
            "RangeIndex: 3321 entries, 0 to 3320\n",
            "Data columns (total 4 columns):\n",
            " #   Column     Non-Null Count  Dtype \n",
            "---  ------     --------------  ----- \n",
            " 0   ID         3321 non-null   int64 \n",
            " 1   Gene       3321 non-null   object\n",
            " 2   Variation  3321 non-null   object\n",
            " 3   Class      3321 non-null   int64 \n",
            "dtypes: int64(2), object(2)\n",
            "memory usage: 103.9+ KB\n"
          ]
        }
      ],
      "source": [
        "train_variants.info()"
      ]
    },
    {
      "cell_type": "code",
      "execution_count": null,
      "id": "4f4aaa50",
      "metadata": {
        "id": "4f4aaa50",
        "outputId": "72503801-012e-438a-9264-2addd3960a4e",
        "colab": {
          "base_uri": "https://localhost:8080/"
        }
      },
      "outputs": [
        {
          "output_type": "execute_result",
          "data": {
            "text/plain": [
              "ID           0\n",
              "Gene         0\n",
              "Variation    0\n",
              "Class        0\n",
              "dtype: int64"
            ]
          },
          "metadata": {},
          "execution_count": 120
        }
      ],
      "source": [
        "#ตรวจสอบ na ในข้อมูล\n",
        "train_variants.isna().sum()"
      ]
    },
    {
      "cell_type": "code",
      "execution_count": null,
      "id": "f0c9f5ec",
      "metadata": {
        "colab": {
          "base_uri": "https://localhost:8080/",
          "height": 261
        },
        "id": "f0c9f5ec",
        "outputId": "b6a72453-f402-48fd-d224-51bbf8f2afe5"
      },
      "outputs": [
        {
          "output_type": "stream",
          "name": "stderr",
          "text": [
            "/usr/local/lib/python3.7/dist-packages/pandas/util/_decorators.py:311: ParserWarning: Falling back to the 'python' engine because the 'c' engine does not support regex separators (separators > 1 char and different from '\\s+' are interpreted as regex); you can avoid this warning by specifying engine='python'.\n",
            "  return func(*args, **kwargs)\n"
          ]
        },
        {
          "output_type": "execute_result",
          "data": {
            "text/plain": [
              "   ID                                               TEXT\n",
              "0   0  Cyclin-dependent kinases (CDKs) regulate a var...\n",
              "1   1   Abstract Background  Non-small cell lung canc...\n",
              "2   2   Abstract Background  Non-small cell lung canc...\n",
              "3   3  Recent evidence has demonstrated that acquired...\n",
              "4   4  Oncogenic mutations in the monomeric Casitas B..."
            ],
            "text/html": [
              "\n",
              "  <div id=\"df-f4af2970-2d0b-4727-a848-1af56e56dd6e\">\n",
              "    <div class=\"colab-df-container\">\n",
              "      <div>\n",
              "<style scoped>\n",
              "    .dataframe tbody tr th:only-of-type {\n",
              "        vertical-align: middle;\n",
              "    }\n",
              "\n",
              "    .dataframe tbody tr th {\n",
              "        vertical-align: top;\n",
              "    }\n",
              "\n",
              "    .dataframe thead th {\n",
              "        text-align: right;\n",
              "    }\n",
              "</style>\n",
              "<table border=\"1\" class=\"dataframe\">\n",
              "  <thead>\n",
              "    <tr style=\"text-align: right;\">\n",
              "      <th></th>\n",
              "      <th>ID</th>\n",
              "      <th>TEXT</th>\n",
              "    </tr>\n",
              "  </thead>\n",
              "  <tbody>\n",
              "    <tr>\n",
              "      <th>0</th>\n",
              "      <td>0</td>\n",
              "      <td>Cyclin-dependent kinases (CDKs) regulate a var...</td>\n",
              "    </tr>\n",
              "    <tr>\n",
              "      <th>1</th>\n",
              "      <td>1</td>\n",
              "      <td>Abstract Background  Non-small cell lung canc...</td>\n",
              "    </tr>\n",
              "    <tr>\n",
              "      <th>2</th>\n",
              "      <td>2</td>\n",
              "      <td>Abstract Background  Non-small cell lung canc...</td>\n",
              "    </tr>\n",
              "    <tr>\n",
              "      <th>3</th>\n",
              "      <td>3</td>\n",
              "      <td>Recent evidence has demonstrated that acquired...</td>\n",
              "    </tr>\n",
              "    <tr>\n",
              "      <th>4</th>\n",
              "      <td>4</td>\n",
              "      <td>Oncogenic mutations in the monomeric Casitas B...</td>\n",
              "    </tr>\n",
              "  </tbody>\n",
              "</table>\n",
              "</div>\n",
              "      <button class=\"colab-df-convert\" onclick=\"convertToInteractive('df-f4af2970-2d0b-4727-a848-1af56e56dd6e')\"\n",
              "              title=\"Convert this dataframe to an interactive table.\"\n",
              "              style=\"display:none;\">\n",
              "        \n",
              "  <svg xmlns=\"http://www.w3.org/2000/svg\" height=\"24px\"viewBox=\"0 0 24 24\"\n",
              "       width=\"24px\">\n",
              "    <path d=\"M0 0h24v24H0V0z\" fill=\"none\"/>\n",
              "    <path d=\"M18.56 5.44l.94 2.06.94-2.06 2.06-.94-2.06-.94-.94-2.06-.94 2.06-2.06.94zm-11 1L8.5 8.5l.94-2.06 2.06-.94-2.06-.94L8.5 2.5l-.94 2.06-2.06.94zm10 10l.94 2.06.94-2.06 2.06-.94-2.06-.94-.94-2.06-.94 2.06-2.06.94z\"/><path d=\"M17.41 7.96l-1.37-1.37c-.4-.4-.92-.59-1.43-.59-.52 0-1.04.2-1.43.59L10.3 9.45l-7.72 7.72c-.78.78-.78 2.05 0 2.83L4 21.41c.39.39.9.59 1.41.59.51 0 1.02-.2 1.41-.59l7.78-7.78 2.81-2.81c.8-.78.8-2.07 0-2.86zM5.41 20L4 18.59l7.72-7.72 1.47 1.35L5.41 20z\"/>\n",
              "  </svg>\n",
              "      </button>\n",
              "      \n",
              "  <style>\n",
              "    .colab-df-container {\n",
              "      display:flex;\n",
              "      flex-wrap:wrap;\n",
              "      gap: 12px;\n",
              "    }\n",
              "\n",
              "    .colab-df-convert {\n",
              "      background-color: #E8F0FE;\n",
              "      border: none;\n",
              "      border-radius: 50%;\n",
              "      cursor: pointer;\n",
              "      display: none;\n",
              "      fill: #1967D2;\n",
              "      height: 32px;\n",
              "      padding: 0 0 0 0;\n",
              "      width: 32px;\n",
              "    }\n",
              "\n",
              "    .colab-df-convert:hover {\n",
              "      background-color: #E2EBFA;\n",
              "      box-shadow: 0px 1px 2px rgba(60, 64, 67, 0.3), 0px 1px 3px 1px rgba(60, 64, 67, 0.15);\n",
              "      fill: #174EA6;\n",
              "    }\n",
              "\n",
              "    [theme=dark] .colab-df-convert {\n",
              "      background-color: #3B4455;\n",
              "      fill: #D2E3FC;\n",
              "    }\n",
              "\n",
              "    [theme=dark] .colab-df-convert:hover {\n",
              "      background-color: #434B5C;\n",
              "      box-shadow: 0px 1px 3px 1px rgba(0, 0, 0, 0.15);\n",
              "      filter: drop-shadow(0px 1px 2px rgba(0, 0, 0, 0.3));\n",
              "      fill: #FFFFFF;\n",
              "    }\n",
              "  </style>\n",
              "\n",
              "      <script>\n",
              "        const buttonEl =\n",
              "          document.querySelector('#df-f4af2970-2d0b-4727-a848-1af56e56dd6e button.colab-df-convert');\n",
              "        buttonEl.style.display =\n",
              "          google.colab.kernel.accessAllowed ? 'block' : 'none';\n",
              "\n",
              "        async function convertToInteractive(key) {\n",
              "          const element = document.querySelector('#df-f4af2970-2d0b-4727-a848-1af56e56dd6e');\n",
              "          const dataTable =\n",
              "            await google.colab.kernel.invokeFunction('convertToInteractive',\n",
              "                                                     [key], {});\n",
              "          if (!dataTable) return;\n",
              "\n",
              "          const docLinkHtml = 'Like what you see? Visit the ' +\n",
              "            '<a target=\"_blank\" href=https://colab.research.google.com/notebooks/data_table.ipynb>data table notebook</a>'\n",
              "            + ' to learn more about interactive tables.';\n",
              "          element.innerHTML = '';\n",
              "          dataTable['output_type'] = 'display_data';\n",
              "          await google.colab.output.renderOutput(dataTable, element);\n",
              "          const docLink = document.createElement('div');\n",
              "          docLink.innerHTML = docLinkHtml;\n",
              "          element.appendChild(docLink);\n",
              "        }\n",
              "      </script>\n",
              "    </div>\n",
              "  </div>\n",
              "  "
            ]
          },
          "metadata": {},
          "execution_count": 121
        }
      ],
      "source": [
        "# พอดีไฟล์นี้มันเปิดอ่านแบบไฟล์ด้านบนไม่ได้ เลยต้องใส่เงื่อนไขเพิ่มถึงจะอ่านไฟล์ได้จ้า\n",
        "train_text = pd.read_csv('/content/drive/MyDrive/ColabNotebooks/CHHD304 Project/training_text.csv',sep=\"\\|\\|\", names=[\"ID\",\"TEXT\"],skiprows=1)\n",
        "train_text.head()"
      ]
    },
    {
      "cell_type": "code",
      "execution_count": null,
      "id": "1d4792a1",
      "metadata": {
        "id": "1d4792a1",
        "outputId": "8ffc9403-a2d5-4380-cf4e-87e1379a6990",
        "colab": {
          "base_uri": "https://localhost:8080/"
        }
      },
      "outputs": [
        {
          "output_type": "stream",
          "name": "stdout",
          "text": [
            "<class 'pandas.core.frame.DataFrame'>\n",
            "RangeIndex: 3321 entries, 0 to 3320\n",
            "Data columns (total 2 columns):\n",
            " #   Column  Non-Null Count  Dtype \n",
            "---  ------  --------------  ----- \n",
            " 0   ID      3321 non-null   int64 \n",
            " 1   TEXT    3316 non-null   object\n",
            "dtypes: int64(1), object(1)\n",
            "memory usage: 52.0+ KB\n"
          ]
        }
      ],
      "source": [
        "train_text.info()"
      ]
    },
    {
      "cell_type": "code",
      "execution_count": null,
      "id": "7e9c4aa6",
      "metadata": {
        "id": "7e9c4aa6",
        "outputId": "a35d52e4-9855-48b5-fa48-0caea080973d",
        "colab": {
          "base_uri": "https://localhost:8080/"
        }
      },
      "outputs": [
        {
          "output_type": "execute_result",
          "data": {
            "text/plain": [
              "ID      0\n",
              "TEXT    5\n",
              "dtype: int64"
            ]
          },
          "metadata": {},
          "execution_count": 123
        }
      ],
      "source": [
        "#ตรวจสอบ na ในข้อมูล\n",
        "train_text.isna().sum()"
      ]
    },
    {
      "cell_type": "code",
      "source": [
        "#จัดการกับ na ในข้อมูล โดยเติม unknown เข้าไป\n",
        "train_text['TEXT'].fillna('unknown',inplace=True)"
      ],
      "metadata": {
        "id": "vJupJD8JHi37"
      },
      "id": "vJupJD8JHi37",
      "execution_count": null,
      "outputs": []
    },
    {
      "cell_type": "code",
      "source": [
        "#ตรวจสอบ na ในข้อมูล\n",
        "train_text.isna().sum()"
      ],
      "metadata": {
        "colab": {
          "base_uri": "https://localhost:8080/"
        },
        "id": "FyST0ZUVHinH",
        "outputId": "342b83e4-c24e-41cb-dfdf-1334eee7b9dd"
      },
      "id": "FyST0ZUVHinH",
      "execution_count": null,
      "outputs": [
        {
          "output_type": "execute_result",
          "data": {
            "text/plain": [
              "ID      0\n",
              "TEXT    0\n",
              "dtype: int64"
            ]
          },
          "metadata": {},
          "execution_count": 125
        }
      ]
    },
    {
      "cell_type": "code",
      "execution_count": null,
      "id": "65841c5e",
      "metadata": {
        "scrolled": true,
        "colab": {
          "base_uri": "https://localhost:8080/",
          "height": 206
        },
        "id": "65841c5e",
        "outputId": "d8dd5cb5-b5cd-4346-9696-c1ce43ca81e6"
      },
      "outputs": [
        {
          "output_type": "execute_result",
          "data": {
            "text/plain": [
              "   ID    Gene             Variation  Class  \\\n",
              "0   0  FAM58A  Truncating Mutations      1   \n",
              "1   1     CBL                 W802*      2   \n",
              "2   2     CBL                 Q249E      2   \n",
              "3   3     CBL                 N454D      3   \n",
              "4   4     CBL                 L399V      4   \n",
              "\n",
              "                                                TEXT  \n",
              "0  Cyclin-dependent kinases (CDKs) regulate a var...  \n",
              "1   Abstract Background  Non-small cell lung canc...  \n",
              "2   Abstract Background  Non-small cell lung canc...  \n",
              "3  Recent evidence has demonstrated that acquired...  \n",
              "4  Oncogenic mutations in the monomeric Casitas B...  "
            ],
            "text/html": [
              "\n",
              "  <div id=\"df-5648ba39-543d-4ad5-9214-d5cdbcfcc72b\">\n",
              "    <div class=\"colab-df-container\">\n",
              "      <div>\n",
              "<style scoped>\n",
              "    .dataframe tbody tr th:only-of-type {\n",
              "        vertical-align: middle;\n",
              "    }\n",
              "\n",
              "    .dataframe tbody tr th {\n",
              "        vertical-align: top;\n",
              "    }\n",
              "\n",
              "    .dataframe thead th {\n",
              "        text-align: right;\n",
              "    }\n",
              "</style>\n",
              "<table border=\"1\" class=\"dataframe\">\n",
              "  <thead>\n",
              "    <tr style=\"text-align: right;\">\n",
              "      <th></th>\n",
              "      <th>ID</th>\n",
              "      <th>Gene</th>\n",
              "      <th>Variation</th>\n",
              "      <th>Class</th>\n",
              "      <th>TEXT</th>\n",
              "    </tr>\n",
              "  </thead>\n",
              "  <tbody>\n",
              "    <tr>\n",
              "      <th>0</th>\n",
              "      <td>0</td>\n",
              "      <td>FAM58A</td>\n",
              "      <td>Truncating Mutations</td>\n",
              "      <td>1</td>\n",
              "      <td>Cyclin-dependent kinases (CDKs) regulate a var...</td>\n",
              "    </tr>\n",
              "    <tr>\n",
              "      <th>1</th>\n",
              "      <td>1</td>\n",
              "      <td>CBL</td>\n",
              "      <td>W802*</td>\n",
              "      <td>2</td>\n",
              "      <td>Abstract Background  Non-small cell lung canc...</td>\n",
              "    </tr>\n",
              "    <tr>\n",
              "      <th>2</th>\n",
              "      <td>2</td>\n",
              "      <td>CBL</td>\n",
              "      <td>Q249E</td>\n",
              "      <td>2</td>\n",
              "      <td>Abstract Background  Non-small cell lung canc...</td>\n",
              "    </tr>\n",
              "    <tr>\n",
              "      <th>3</th>\n",
              "      <td>3</td>\n",
              "      <td>CBL</td>\n",
              "      <td>N454D</td>\n",
              "      <td>3</td>\n",
              "      <td>Recent evidence has demonstrated that acquired...</td>\n",
              "    </tr>\n",
              "    <tr>\n",
              "      <th>4</th>\n",
              "      <td>4</td>\n",
              "      <td>CBL</td>\n",
              "      <td>L399V</td>\n",
              "      <td>4</td>\n",
              "      <td>Oncogenic mutations in the monomeric Casitas B...</td>\n",
              "    </tr>\n",
              "  </tbody>\n",
              "</table>\n",
              "</div>\n",
              "      <button class=\"colab-df-convert\" onclick=\"convertToInteractive('df-5648ba39-543d-4ad5-9214-d5cdbcfcc72b')\"\n",
              "              title=\"Convert this dataframe to an interactive table.\"\n",
              "              style=\"display:none;\">\n",
              "        \n",
              "  <svg xmlns=\"http://www.w3.org/2000/svg\" height=\"24px\"viewBox=\"0 0 24 24\"\n",
              "       width=\"24px\">\n",
              "    <path d=\"M0 0h24v24H0V0z\" fill=\"none\"/>\n",
              "    <path d=\"M18.56 5.44l.94 2.06.94-2.06 2.06-.94-2.06-.94-.94-2.06-.94 2.06-2.06.94zm-11 1L8.5 8.5l.94-2.06 2.06-.94-2.06-.94L8.5 2.5l-.94 2.06-2.06.94zm10 10l.94 2.06.94-2.06 2.06-.94-2.06-.94-.94-2.06-.94 2.06-2.06.94z\"/><path d=\"M17.41 7.96l-1.37-1.37c-.4-.4-.92-.59-1.43-.59-.52 0-1.04.2-1.43.59L10.3 9.45l-7.72 7.72c-.78.78-.78 2.05 0 2.83L4 21.41c.39.39.9.59 1.41.59.51 0 1.02-.2 1.41-.59l7.78-7.78 2.81-2.81c.8-.78.8-2.07 0-2.86zM5.41 20L4 18.59l7.72-7.72 1.47 1.35L5.41 20z\"/>\n",
              "  </svg>\n",
              "      </button>\n",
              "      \n",
              "  <style>\n",
              "    .colab-df-container {\n",
              "      display:flex;\n",
              "      flex-wrap:wrap;\n",
              "      gap: 12px;\n",
              "    }\n",
              "\n",
              "    .colab-df-convert {\n",
              "      background-color: #E8F0FE;\n",
              "      border: none;\n",
              "      border-radius: 50%;\n",
              "      cursor: pointer;\n",
              "      display: none;\n",
              "      fill: #1967D2;\n",
              "      height: 32px;\n",
              "      padding: 0 0 0 0;\n",
              "      width: 32px;\n",
              "    }\n",
              "\n",
              "    .colab-df-convert:hover {\n",
              "      background-color: #E2EBFA;\n",
              "      box-shadow: 0px 1px 2px rgba(60, 64, 67, 0.3), 0px 1px 3px 1px rgba(60, 64, 67, 0.15);\n",
              "      fill: #174EA6;\n",
              "    }\n",
              "\n",
              "    [theme=dark] .colab-df-convert {\n",
              "      background-color: #3B4455;\n",
              "      fill: #D2E3FC;\n",
              "    }\n",
              "\n",
              "    [theme=dark] .colab-df-convert:hover {\n",
              "      background-color: #434B5C;\n",
              "      box-shadow: 0px 1px 3px 1px rgba(0, 0, 0, 0.15);\n",
              "      filter: drop-shadow(0px 1px 2px rgba(0, 0, 0, 0.3));\n",
              "      fill: #FFFFFF;\n",
              "    }\n",
              "  </style>\n",
              "\n",
              "      <script>\n",
              "        const buttonEl =\n",
              "          document.querySelector('#df-5648ba39-543d-4ad5-9214-d5cdbcfcc72b button.colab-df-convert');\n",
              "        buttonEl.style.display =\n",
              "          google.colab.kernel.accessAllowed ? 'block' : 'none';\n",
              "\n",
              "        async function convertToInteractive(key) {\n",
              "          const element = document.querySelector('#df-5648ba39-543d-4ad5-9214-d5cdbcfcc72b');\n",
              "          const dataTable =\n",
              "            await google.colab.kernel.invokeFunction('convertToInteractive',\n",
              "                                                     [key], {});\n",
              "          if (!dataTable) return;\n",
              "\n",
              "          const docLinkHtml = 'Like what you see? Visit the ' +\n",
              "            '<a target=\"_blank\" href=https://colab.research.google.com/notebooks/data_table.ipynb>data table notebook</a>'\n",
              "            + ' to learn more about interactive tables.';\n",
              "          element.innerHTML = '';\n",
              "          dataTable['output_type'] = 'display_data';\n",
              "          await google.colab.output.renderOutput(dataTable, element);\n",
              "          const docLink = document.createElement('div');\n",
              "          docLink.innerHTML = docLinkHtml;\n",
              "          element.appendChild(docLink);\n",
              "        }\n",
              "      </script>\n",
              "    </div>\n",
              "  </div>\n",
              "  "
            ]
          },
          "metadata": {},
          "execution_count": 154
        }
      ],
      "source": [
        "# merge ไฟล์ทั้งสอง\n",
        "train_merge = pd.merge(train_variants, train_text, on='ID')\n",
        "train_merge.head()"
      ]
    },
    {
      "cell_type": "code",
      "execution_count": null,
      "id": "68ccbe4a",
      "metadata": {
        "id": "68ccbe4a"
      },
      "outputs": [],
      "source": []
    },
    {
      "cell_type": "code",
      "execution_count": null,
      "id": "5765af1e",
      "metadata": {
        "id": "5765af1e"
      },
      "outputs": [],
      "source": [
        "# save file ออกเป็น .xlsx เพื่อเอาไป plot ใน tableau เสย ๆ \n",
        "#train_merge.to_excel('train_merge.xlsx', index=False)"
      ]
    },
    {
      "cell_type": "markdown",
      "id": "5016fc9b",
      "metadata": {
        "id": "5016fc9b"
      },
      "source": [
        "---"
      ]
    },
    {
      "cell_type": "markdown",
      "id": "2a7e56ba",
      "metadata": {
        "id": "2a7e56ba"
      },
      "source": [
        "### ดูความยาวของ Text"
      ]
    },
    {
      "cell_type": "code",
      "execution_count": null,
      "id": "d70ee084",
      "metadata": {
        "id": "d70ee084",
        "colab": {
          "base_uri": "https://localhost:8080/"
        },
        "outputId": "6893065e-f923-4c31-f341-2dbfb52d160f"
      },
      "outputs": [
        {
          "output_type": "execute_result",
          "data": {
            "text/plain": [
              "          count unique                   top freq\n",
              "Gene       3321    264                 BRCA1  264\n",
              "Variation  3321   2996  Truncating Mutations   93"
            ],
            "text/html": [
              "\n",
              "  <div id=\"df-6a712864-f2b9-44ca-84b4-f5f07b93e6b3\">\n",
              "    <div class=\"colab-df-container\">\n",
              "      <div>\n",
              "<style scoped>\n",
              "    .dataframe tbody tr th:only-of-type {\n",
              "        vertical-align: middle;\n",
              "    }\n",
              "\n",
              "    .dataframe tbody tr th {\n",
              "        vertical-align: top;\n",
              "    }\n",
              "\n",
              "    .dataframe thead th {\n",
              "        text-align: right;\n",
              "    }\n",
              "</style>\n",
              "<table border=\"1\" class=\"dataframe\">\n",
              "  <thead>\n",
              "    <tr style=\"text-align: right;\">\n",
              "      <th></th>\n",
              "      <th>count</th>\n",
              "      <th>unique</th>\n",
              "      <th>top</th>\n",
              "      <th>freq</th>\n",
              "    </tr>\n",
              "  </thead>\n",
              "  <tbody>\n",
              "    <tr>\n",
              "      <th>Gene</th>\n",
              "      <td>3321</td>\n",
              "      <td>264</td>\n",
              "      <td>BRCA1</td>\n",
              "      <td>264</td>\n",
              "    </tr>\n",
              "    <tr>\n",
              "      <th>Variation</th>\n",
              "      <td>3321</td>\n",
              "      <td>2996</td>\n",
              "      <td>Truncating Mutations</td>\n",
              "      <td>93</td>\n",
              "    </tr>\n",
              "  </tbody>\n",
              "</table>\n",
              "</div>\n",
              "      <button class=\"colab-df-convert\" onclick=\"convertToInteractive('df-6a712864-f2b9-44ca-84b4-f5f07b93e6b3')\"\n",
              "              title=\"Convert this dataframe to an interactive table.\"\n",
              "              style=\"display:none;\">\n",
              "        \n",
              "  <svg xmlns=\"http://www.w3.org/2000/svg\" height=\"24px\"viewBox=\"0 0 24 24\"\n",
              "       width=\"24px\">\n",
              "    <path d=\"M0 0h24v24H0V0z\" fill=\"none\"/>\n",
              "    <path d=\"M18.56 5.44l.94 2.06.94-2.06 2.06-.94-2.06-.94-.94-2.06-.94 2.06-2.06.94zm-11 1L8.5 8.5l.94-2.06 2.06-.94-2.06-.94L8.5 2.5l-.94 2.06-2.06.94zm10 10l.94 2.06.94-2.06 2.06-.94-2.06-.94-.94-2.06-.94 2.06-2.06.94z\"/><path d=\"M17.41 7.96l-1.37-1.37c-.4-.4-.92-.59-1.43-.59-.52 0-1.04.2-1.43.59L10.3 9.45l-7.72 7.72c-.78.78-.78 2.05 0 2.83L4 21.41c.39.39.9.59 1.41.59.51 0 1.02-.2 1.41-.59l7.78-7.78 2.81-2.81c.8-.78.8-2.07 0-2.86zM5.41 20L4 18.59l7.72-7.72 1.47 1.35L5.41 20z\"/>\n",
              "  </svg>\n",
              "      </button>\n",
              "      \n",
              "  <style>\n",
              "    .colab-df-container {\n",
              "      display:flex;\n",
              "      flex-wrap:wrap;\n",
              "      gap: 12px;\n",
              "    }\n",
              "\n",
              "    .colab-df-convert {\n",
              "      background-color: #E8F0FE;\n",
              "      border: none;\n",
              "      border-radius: 50%;\n",
              "      cursor: pointer;\n",
              "      display: none;\n",
              "      fill: #1967D2;\n",
              "      height: 32px;\n",
              "      padding: 0 0 0 0;\n",
              "      width: 32px;\n",
              "    }\n",
              "\n",
              "    .colab-df-convert:hover {\n",
              "      background-color: #E2EBFA;\n",
              "      box-shadow: 0px 1px 2px rgba(60, 64, 67, 0.3), 0px 1px 3px 1px rgba(60, 64, 67, 0.15);\n",
              "      fill: #174EA6;\n",
              "    }\n",
              "\n",
              "    [theme=dark] .colab-df-convert {\n",
              "      background-color: #3B4455;\n",
              "      fill: #D2E3FC;\n",
              "    }\n",
              "\n",
              "    [theme=dark] .colab-df-convert:hover {\n",
              "      background-color: #434B5C;\n",
              "      box-shadow: 0px 1px 3px 1px rgba(0, 0, 0, 0.15);\n",
              "      filter: drop-shadow(0px 1px 2px rgba(0, 0, 0, 0.3));\n",
              "      fill: #FFFFFF;\n",
              "    }\n",
              "  </style>\n",
              "\n",
              "      <script>\n",
              "        const buttonEl =\n",
              "          document.querySelector('#df-6a712864-f2b9-44ca-84b4-f5f07b93e6b3 button.colab-df-convert');\n",
              "        buttonEl.style.display =\n",
              "          google.colab.kernel.accessAllowed ? 'block' : 'none';\n",
              "\n",
              "        async function convertToInteractive(key) {\n",
              "          const element = document.querySelector('#df-6a712864-f2b9-44ca-84b4-f5f07b93e6b3');\n",
              "          const dataTable =\n",
              "            await google.colab.kernel.invokeFunction('convertToInteractive',\n",
              "                                                     [key], {});\n",
              "          if (!dataTable) return;\n",
              "\n",
              "          const docLinkHtml = 'Like what you see? Visit the ' +\n",
              "            '<a target=\"_blank\" href=https://colab.research.google.com/notebooks/data_table.ipynb>data table notebook</a>'\n",
              "            + ' to learn more about interactive tables.';\n",
              "          element.innerHTML = '';\n",
              "          dataTable['output_type'] = 'display_data';\n",
              "          await google.colab.output.renderOutput(dataTable, element);\n",
              "          const docLink = document.createElement('div');\n",
              "          docLink.innerHTML = docLinkHtml;\n",
              "          element.appendChild(docLink);\n",
              "        }\n",
              "      </script>\n",
              "    </div>\n",
              "  </div>\n",
              "  "
            ]
          },
          "metadata": {},
          "execution_count": 127
        }
      ],
      "source": [
        "train_merge[['Gene','Variation']].describe(include='O').T"
      ]
    },
    {
      "cell_type": "code",
      "execution_count": null,
      "id": "3da65899",
      "metadata": {
        "id": "3da65899"
      },
      "outputs": [],
      "source": [
        "# เพิ่ม col length \n",
        "train_merge['length'] = train_merge['TEXT'].str.len()"
      ]
    },
    {
      "cell_type": "code",
      "execution_count": null,
      "id": "16f6e0a6",
      "metadata": {
        "scrolled": true,
        "id": "16f6e0a6",
        "colab": {
          "base_uri": "https://localhost:8080/"
        },
        "outputId": "f1b708cd-700a-4f73-ab26-3a9499049584"
      },
      "outputs": [
        {
          "output_type": "execute_result",
          "data": {
            "text/plain": [
              "        ID    Gene             Variation  Class  \\\n",
              "0        0  FAM58A  Truncating Mutations      1   \n",
              "1        1     CBL                 W802*      2   \n",
              "2        2     CBL                 Q249E      2   \n",
              "3        3     CBL                 N454D      3   \n",
              "4        4     CBL                 L399V      4   \n",
              "...    ...     ...                   ...    ...   \n",
              "3316  3316   RUNX1                 D171N      4   \n",
              "3317  3317   RUNX1                 A122*      1   \n",
              "3318  3318   RUNX1               Fusions      1   \n",
              "3319  3319   RUNX1                  R80C      4   \n",
              "3320  3320   RUNX1                  K83E      4   \n",
              "\n",
              "                                                   TEXT  length  \n",
              "0     Cyclin-dependent kinases (CDKs) regulate a var...   39672  \n",
              "1      Abstract Background  Non-small cell lung canc...   36691  \n",
              "2      Abstract Background  Non-small cell lung canc...   36691  \n",
              "3     Recent evidence has demonstrated that acquired...   36238  \n",
              "4     Oncogenic mutations in the monomeric Casitas B...   41308  \n",
              "...                                                 ...     ...  \n",
              "3316  Introduction  Myelodysplastic syndromes (MDS) ...   73895  \n",
              "3317  Introduction  Myelodysplastic syndromes (MDS) ...   40127  \n",
              "3318  The Runt-related transcription factor 1 gene (...   36200  \n",
              "3319  The RUNX1/AML1 gene is the most frequent targe...   32520  \n",
              "3320  The most frequent mutations associated with le...   67136  \n",
              "\n",
              "[3321 rows x 6 columns]"
            ],
            "text/html": [
              "\n",
              "  <div id=\"df-272d601c-0f6a-47fb-86ad-ee19de0bc535\">\n",
              "    <div class=\"colab-df-container\">\n",
              "      <div>\n",
              "<style scoped>\n",
              "    .dataframe tbody tr th:only-of-type {\n",
              "        vertical-align: middle;\n",
              "    }\n",
              "\n",
              "    .dataframe tbody tr th {\n",
              "        vertical-align: top;\n",
              "    }\n",
              "\n",
              "    .dataframe thead th {\n",
              "        text-align: right;\n",
              "    }\n",
              "</style>\n",
              "<table border=\"1\" class=\"dataframe\">\n",
              "  <thead>\n",
              "    <tr style=\"text-align: right;\">\n",
              "      <th></th>\n",
              "      <th>ID</th>\n",
              "      <th>Gene</th>\n",
              "      <th>Variation</th>\n",
              "      <th>Class</th>\n",
              "      <th>TEXT</th>\n",
              "      <th>length</th>\n",
              "    </tr>\n",
              "  </thead>\n",
              "  <tbody>\n",
              "    <tr>\n",
              "      <th>0</th>\n",
              "      <td>0</td>\n",
              "      <td>FAM58A</td>\n",
              "      <td>Truncating Mutations</td>\n",
              "      <td>1</td>\n",
              "      <td>Cyclin-dependent kinases (CDKs) regulate a var...</td>\n",
              "      <td>39672</td>\n",
              "    </tr>\n",
              "    <tr>\n",
              "      <th>1</th>\n",
              "      <td>1</td>\n",
              "      <td>CBL</td>\n",
              "      <td>W802*</td>\n",
              "      <td>2</td>\n",
              "      <td>Abstract Background  Non-small cell lung canc...</td>\n",
              "      <td>36691</td>\n",
              "    </tr>\n",
              "    <tr>\n",
              "      <th>2</th>\n",
              "      <td>2</td>\n",
              "      <td>CBL</td>\n",
              "      <td>Q249E</td>\n",
              "      <td>2</td>\n",
              "      <td>Abstract Background  Non-small cell lung canc...</td>\n",
              "      <td>36691</td>\n",
              "    </tr>\n",
              "    <tr>\n",
              "      <th>3</th>\n",
              "      <td>3</td>\n",
              "      <td>CBL</td>\n",
              "      <td>N454D</td>\n",
              "      <td>3</td>\n",
              "      <td>Recent evidence has demonstrated that acquired...</td>\n",
              "      <td>36238</td>\n",
              "    </tr>\n",
              "    <tr>\n",
              "      <th>4</th>\n",
              "      <td>4</td>\n",
              "      <td>CBL</td>\n",
              "      <td>L399V</td>\n",
              "      <td>4</td>\n",
              "      <td>Oncogenic mutations in the monomeric Casitas B...</td>\n",
              "      <td>41308</td>\n",
              "    </tr>\n",
              "    <tr>\n",
              "      <th>...</th>\n",
              "      <td>...</td>\n",
              "      <td>...</td>\n",
              "      <td>...</td>\n",
              "      <td>...</td>\n",
              "      <td>...</td>\n",
              "      <td>...</td>\n",
              "    </tr>\n",
              "    <tr>\n",
              "      <th>3316</th>\n",
              "      <td>3316</td>\n",
              "      <td>RUNX1</td>\n",
              "      <td>D171N</td>\n",
              "      <td>4</td>\n",
              "      <td>Introduction  Myelodysplastic syndromes (MDS) ...</td>\n",
              "      <td>73895</td>\n",
              "    </tr>\n",
              "    <tr>\n",
              "      <th>3317</th>\n",
              "      <td>3317</td>\n",
              "      <td>RUNX1</td>\n",
              "      <td>A122*</td>\n",
              "      <td>1</td>\n",
              "      <td>Introduction  Myelodysplastic syndromes (MDS) ...</td>\n",
              "      <td>40127</td>\n",
              "    </tr>\n",
              "    <tr>\n",
              "      <th>3318</th>\n",
              "      <td>3318</td>\n",
              "      <td>RUNX1</td>\n",
              "      <td>Fusions</td>\n",
              "      <td>1</td>\n",
              "      <td>The Runt-related transcription factor 1 gene (...</td>\n",
              "      <td>36200</td>\n",
              "    </tr>\n",
              "    <tr>\n",
              "      <th>3319</th>\n",
              "      <td>3319</td>\n",
              "      <td>RUNX1</td>\n",
              "      <td>R80C</td>\n",
              "      <td>4</td>\n",
              "      <td>The RUNX1/AML1 gene is the most frequent targe...</td>\n",
              "      <td>32520</td>\n",
              "    </tr>\n",
              "    <tr>\n",
              "      <th>3320</th>\n",
              "      <td>3320</td>\n",
              "      <td>RUNX1</td>\n",
              "      <td>K83E</td>\n",
              "      <td>4</td>\n",
              "      <td>The most frequent mutations associated with le...</td>\n",
              "      <td>67136</td>\n",
              "    </tr>\n",
              "  </tbody>\n",
              "</table>\n",
              "<p>3321 rows × 6 columns</p>\n",
              "</div>\n",
              "      <button class=\"colab-df-convert\" onclick=\"convertToInteractive('df-272d601c-0f6a-47fb-86ad-ee19de0bc535')\"\n",
              "              title=\"Convert this dataframe to an interactive table.\"\n",
              "              style=\"display:none;\">\n",
              "        \n",
              "  <svg xmlns=\"http://www.w3.org/2000/svg\" height=\"24px\"viewBox=\"0 0 24 24\"\n",
              "       width=\"24px\">\n",
              "    <path d=\"M0 0h24v24H0V0z\" fill=\"none\"/>\n",
              "    <path d=\"M18.56 5.44l.94 2.06.94-2.06 2.06-.94-2.06-.94-.94-2.06-.94 2.06-2.06.94zm-11 1L8.5 8.5l.94-2.06 2.06-.94-2.06-.94L8.5 2.5l-.94 2.06-2.06.94zm10 10l.94 2.06.94-2.06 2.06-.94-2.06-.94-.94-2.06-.94 2.06-2.06.94z\"/><path d=\"M17.41 7.96l-1.37-1.37c-.4-.4-.92-.59-1.43-.59-.52 0-1.04.2-1.43.59L10.3 9.45l-7.72 7.72c-.78.78-.78 2.05 0 2.83L4 21.41c.39.39.9.59 1.41.59.51 0 1.02-.2 1.41-.59l7.78-7.78 2.81-2.81c.8-.78.8-2.07 0-2.86zM5.41 20L4 18.59l7.72-7.72 1.47 1.35L5.41 20z\"/>\n",
              "  </svg>\n",
              "      </button>\n",
              "      \n",
              "  <style>\n",
              "    .colab-df-container {\n",
              "      display:flex;\n",
              "      flex-wrap:wrap;\n",
              "      gap: 12px;\n",
              "    }\n",
              "\n",
              "    .colab-df-convert {\n",
              "      background-color: #E8F0FE;\n",
              "      border: none;\n",
              "      border-radius: 50%;\n",
              "      cursor: pointer;\n",
              "      display: none;\n",
              "      fill: #1967D2;\n",
              "      height: 32px;\n",
              "      padding: 0 0 0 0;\n",
              "      width: 32px;\n",
              "    }\n",
              "\n",
              "    .colab-df-convert:hover {\n",
              "      background-color: #E2EBFA;\n",
              "      box-shadow: 0px 1px 2px rgba(60, 64, 67, 0.3), 0px 1px 3px 1px rgba(60, 64, 67, 0.15);\n",
              "      fill: #174EA6;\n",
              "    }\n",
              "\n",
              "    [theme=dark] .colab-df-convert {\n",
              "      background-color: #3B4455;\n",
              "      fill: #D2E3FC;\n",
              "    }\n",
              "\n",
              "    [theme=dark] .colab-df-convert:hover {\n",
              "      background-color: #434B5C;\n",
              "      box-shadow: 0px 1px 3px 1px rgba(0, 0, 0, 0.15);\n",
              "      filter: drop-shadow(0px 1px 2px rgba(0, 0, 0, 0.3));\n",
              "      fill: #FFFFFF;\n",
              "    }\n",
              "  </style>\n",
              "\n",
              "      <script>\n",
              "        const buttonEl =\n",
              "          document.querySelector('#df-272d601c-0f6a-47fb-86ad-ee19de0bc535 button.colab-df-convert');\n",
              "        buttonEl.style.display =\n",
              "          google.colab.kernel.accessAllowed ? 'block' : 'none';\n",
              "\n",
              "        async function convertToInteractive(key) {\n",
              "          const element = document.querySelector('#df-272d601c-0f6a-47fb-86ad-ee19de0bc535');\n",
              "          const dataTable =\n",
              "            await google.colab.kernel.invokeFunction('convertToInteractive',\n",
              "                                                     [key], {});\n",
              "          if (!dataTable) return;\n",
              "\n",
              "          const docLinkHtml = 'Like what you see? Visit the ' +\n",
              "            '<a target=\"_blank\" href=https://colab.research.google.com/notebooks/data_table.ipynb>data table notebook</a>'\n",
              "            + ' to learn more about interactive tables.';\n",
              "          element.innerHTML = '';\n",
              "          dataTable['output_type'] = 'display_data';\n",
              "          await google.colab.output.renderOutput(dataTable, element);\n",
              "          const docLink = document.createElement('div');\n",
              "          docLink.innerHTML = docLinkHtml;\n",
              "          element.appendChild(docLink);\n",
              "        }\n",
              "      </script>\n",
              "    </div>\n",
              "  </div>\n",
              "  "
            ]
          },
          "metadata": {},
          "execution_count": 129
        }
      ],
      "source": [
        "train_merge"
      ]
    },
    {
      "cell_type": "code",
      "execution_count": null,
      "id": "8ac325e9",
      "metadata": {
        "id": "8ac325e9",
        "colab": {
          "base_uri": "https://localhost:8080/"
        },
        "outputId": "fcf8c5f2-e8dd-4aa0-f16f-ff94f21b529a"
      },
      "outputs": [
        {
          "output_type": "execute_result",
          "data": {
            "text/plain": [
              "<matplotlib.axes._subplots.AxesSubplot at 0x7fd825ef8350>"
            ]
          },
          "metadata": {},
          "execution_count": 130
        },
        {
          "output_type": "display_data",
          "data": {
            "text/plain": [
              "<Figure size 576x72 with 1 Axes>"
            ],
            "image/png": "[encoded data removed]"
          },
          "metadata": {
            "needs_background": "light"
          }
        }
      ],
      "source": [
        "train_merge['length'].plot(kind='box', vert=False, figsize=(8, 1))"
      ]
    },
    {
      "cell_type": "code",
      "execution_count": null,
      "id": "101465dc",
      "metadata": {
        "id": "101465dc",
        "colab": {
          "base_uri": "https://localhost:8080/"
        },
        "outputId": "5f9280ea-a404-43bb-e76c-afb5d9498c4f"
      },
      "outputs": [
        {
          "output_type": "execute_result",
          "data": {
            "text/plain": [
              "        ID    Gene      Variation  Class  \\\n",
              "200    200    EGFR          L861Q      7   \n",
              "908    908  PDGFRA          D842V      7   \n",
              "1195  1195  PIK3CA         H1047R      7   \n",
              "1198  1198  PIK3CA  Amplification      2   \n",
              "1242  1242    YAP1  Amplification      7   \n",
              "1530  1530     ALK         F1174L      7   \n",
              "\n",
              "                                                   TEXT  length  \n",
              "200   Purpose: Clinical features of epidermal growth...  460446  \n",
              "908   Purpose: Platelet-derived growth factor recept...  409756  \n",
              "1195  Activation of the phosphoinositide 3-kinase (P...  523393  \n",
              "1198  Ovarian cancer is the fifth-leading cause of c...  419966  \n",
              "1242  The development of array comparative genomic h...  438030  \n",
              "1530  In the era of personalized medicine, understan...  492326  "
            ],
            "text/html": [
              "\n",
              "  <div id=\"df-430ed9d7-a276-4bec-8e0b-c1d7e2b05b97\">\n",
              "    <div class=\"colab-df-container\">\n",
              "      <div>\n",
              "<style scoped>\n",
              "    .dataframe tbody tr th:only-of-type {\n",
              "        vertical-align: middle;\n",
              "    }\n",
              "\n",
              "    .dataframe tbody tr th {\n",
              "        vertical-align: top;\n",
              "    }\n",
              "\n",
              "    .dataframe thead th {\n",
              "        text-align: right;\n",
              "    }\n",
              "</style>\n",
              "<table border=\"1\" class=\"dataframe\">\n",
              "  <thead>\n",
              "    <tr style=\"text-align: right;\">\n",
              "      <th></th>\n",
              "      <th>ID</th>\n",
              "      <th>Gene</th>\n",
              "      <th>Variation</th>\n",
              "      <th>Class</th>\n",
              "      <th>TEXT</th>\n",
              "      <th>length</th>\n",
              "    </tr>\n",
              "  </thead>\n",
              "  <tbody>\n",
              "    <tr>\n",
              "      <th>200</th>\n",
              "      <td>200</td>\n",
              "      <td>EGFR</td>\n",
              "      <td>L861Q</td>\n",
              "      <td>7</td>\n",
              "      <td>Purpose: Clinical features of epidermal growth...</td>\n",
              "      <td>460446</td>\n",
              "    </tr>\n",
              "    <tr>\n",
              "      <th>908</th>\n",
              "      <td>908</td>\n",
              "      <td>PDGFRA</td>\n",
              "      <td>D842V</td>\n",
              "      <td>7</td>\n",
              "      <td>Purpose: Platelet-derived growth factor recept...</td>\n",
              "      <td>409756</td>\n",
              "    </tr>\n",
              "    <tr>\n",
              "      <th>1195</th>\n",
              "      <td>1195</td>\n",
              "      <td>PIK3CA</td>\n",
              "      <td>H1047R</td>\n",
              "      <td>7</td>\n",
              "      <td>Activation of the phosphoinositide 3-kinase (P...</td>\n",
              "      <td>523393</td>\n",
              "    </tr>\n",
              "    <tr>\n",
              "      <th>1198</th>\n",
              "      <td>1198</td>\n",
              "      <td>PIK3CA</td>\n",
              "      <td>Amplification</td>\n",
              "      <td>2</td>\n",
              "      <td>Ovarian cancer is the fifth-leading cause of c...</td>\n",
              "      <td>419966</td>\n",
              "    </tr>\n",
              "    <tr>\n",
              "      <th>1242</th>\n",
              "      <td>1242</td>\n",
              "      <td>YAP1</td>\n",
              "      <td>Amplification</td>\n",
              "      <td>7</td>\n",
              "      <td>The development of array comparative genomic h...</td>\n",
              "      <td>438030</td>\n",
              "    </tr>\n",
              "    <tr>\n",
              "      <th>1530</th>\n",
              "      <td>1530</td>\n",
              "      <td>ALK</td>\n",
              "      <td>F1174L</td>\n",
              "      <td>7</td>\n",
              "      <td>In the era of personalized medicine, understan...</td>\n",
              "      <td>492326</td>\n",
              "    </tr>\n",
              "  </tbody>\n",
              "</table>\n",
              "</div>\n",
              "      <button class=\"colab-df-convert\" onclick=\"convertToInteractive('df-430ed9d7-a276-4bec-8e0b-c1d7e2b05b97')\"\n",
              "              title=\"Convert this dataframe to an interactive table.\"\n",
              "              style=\"display:none;\">\n",
              "        \n",
              "  <svg xmlns=\"http://www.w3.org/2000/svg\" height=\"24px\"viewBox=\"0 0 24 24\"\n",
              "       width=\"24px\">\n",
              "    <path d=\"M0 0h24v24H0V0z\" fill=\"none\"/>\n",
              "    <path d=\"M18.56 5.44l.94 2.06.94-2.06 2.06-.94-2.06-.94-.94-2.06-.94 2.06-2.06.94zm-11 1L8.5 8.5l.94-2.06 2.06-.94-2.06-.94L8.5 2.5l-.94 2.06-2.06.94zm10 10l.94 2.06.94-2.06 2.06-.94-2.06-.94-.94-2.06-.94 2.06-2.06.94z\"/><path d=\"M17.41 7.96l-1.37-1.37c-.4-.4-.92-.59-1.43-.59-.52 0-1.04.2-1.43.59L10.3 9.45l-7.72 7.72c-.78.78-.78 2.05 0 2.83L4 21.41c.39.39.9.59 1.41.59.51 0 1.02-.2 1.41-.59l7.78-7.78 2.81-2.81c.8-.78.8-2.07 0-2.86zM5.41 20L4 18.59l7.72-7.72 1.47 1.35L5.41 20z\"/>\n",
              "  </svg>\n",
              "      </button>\n",
              "      \n",
              "  <style>\n",
              "    .colab-df-container {\n",
              "      display:flex;\n",
              "      flex-wrap:wrap;\n",
              "      gap: 12px;\n",
              "    }\n",
              "\n",
              "    .colab-df-convert {\n",
              "      background-color: #E8F0FE;\n",
              "      border: none;\n",
              "      border-radius: 50%;\n",
              "      cursor: pointer;\n",
              "      display: none;\n",
              "      fill: #1967D2;\n",
              "      height: 32px;\n",
              "      padding: 0 0 0 0;\n",
              "      width: 32px;\n",
              "    }\n",
              "\n",
              "    .colab-df-convert:hover {\n",
              "      background-color: #E2EBFA;\n",
              "      box-shadow: 0px 1px 2px rgba(60, 64, 67, 0.3), 0px 1px 3px 1px rgba(60, 64, 67, 0.15);\n",
              "      fill: #174EA6;\n",
              "    }\n",
              "\n",
              "    [theme=dark] .colab-df-convert {\n",
              "      background-color: #3B4455;\n",
              "      fill: #D2E3FC;\n",
              "    }\n",
              "\n",
              "    [theme=dark] .colab-df-convert:hover {\n",
              "      background-color: #434B5C;\n",
              "      box-shadow: 0px 1px 3px 1px rgba(0, 0, 0, 0.15);\n",
              "      filter: drop-shadow(0px 1px 2px rgba(0, 0, 0, 0.3));\n",
              "      fill: #FFFFFF;\n",
              "    }\n",
              "  </style>\n",
              "\n",
              "      <script>\n",
              "        const buttonEl =\n",
              "          document.querySelector('#df-430ed9d7-a276-4bec-8e0b-c1d7e2b05b97 button.colab-df-convert');\n",
              "        buttonEl.style.display =\n",
              "          google.colab.kernel.accessAllowed ? 'block' : 'none';\n",
              "\n",
              "        async function convertToInteractive(key) {\n",
              "          const element = document.querySelector('#df-430ed9d7-a276-4bec-8e0b-c1d7e2b05b97');\n",
              "          const dataTable =\n",
              "            await google.colab.kernel.invokeFunction('convertToInteractive',\n",
              "                                                     [key], {});\n",
              "          if (!dataTable) return;\n",
              "\n",
              "          const docLinkHtml = 'Like what you see? Visit the ' +\n",
              "            '<a target=\"_blank\" href=https://colab.research.google.com/notebooks/data_table.ipynb>data table notebook</a>'\n",
              "            + ' to learn more about interactive tables.';\n",
              "          element.innerHTML = '';\n",
              "          dataTable['output_type'] = 'display_data';\n",
              "          await google.colab.output.renderOutput(dataTable, element);\n",
              "          const docLink = document.createElement('div');\n",
              "          docLink.innerHTML = docLinkHtml;\n",
              "          element.appendChild(docLink);\n",
              "        }\n",
              "      </script>\n",
              "    </div>\n",
              "  </div>\n",
              "  "
            ]
          },
          "metadata": {},
          "execution_count": 131
        }
      ],
      "source": [
        "train_merge[train_merge['length']>=400000]"
      ]
    },
    {
      "cell_type": "code",
      "execution_count": null,
      "id": "ec493d7c",
      "metadata": {
        "id": "ec493d7c",
        "colab": {
          "base_uri": "https://localhost:8080/"
        },
        "outputId": "7f824689-7e4c-4fa3-e30e-9bd601038b10"
      },
      "outputs": [
        {
          "output_type": "execute_result",
          "data": {
            "text/plain": [
              "<matplotlib.axes._subplots.AxesSubplot at 0x7fd82626de90>"
            ]
          },
          "metadata": {},
          "execution_count": 132
        },
        {
          "output_type": "display_data",
          "data": {
            "text/plain": [
              "<Figure size 432x288 with 1 Axes>"
            ],
            "image/png": "[encoded data removed]"
          },
          "metadata": {
            "needs_background": "light"
          }
        }
      ],
      "source": [
        "train_merge['length'].plot(kind='hist', bins=30, figsize=(6, 4), edgecolor='k')"
      ]
    },
    {
      "cell_type": "markdown",
      "id": "271d74d7",
      "metadata": {
        "id": "271d74d7"
      },
      "source": [
        "## **2. Data Preparation** "
      ]
    },
    {
      "cell_type": "markdown",
      "id": "29c4a839",
      "metadata": {
        "id": "29c4a839"
      },
      "source": [
        "### Train set"
      ]
    },
    {
      "cell_type": "code",
      "execution_count": null,
      "id": "4cd3d474",
      "metadata": {
        "id": "4cd3d474"
      },
      "outputs": [],
      "source": [
        "import nltk\n",
        "import re"
      ]
    },
    {
      "cell_type": "code",
      "execution_count": null,
      "id": "6ec5eeeb",
      "metadata": {
        "colab": {
          "base_uri": "https://localhost:8080/"
        },
        "id": "6ec5eeeb",
        "outputId": "4a068bb8-2d81-48ff-fdcc-78182248e89d"
      },
      "outputs": [
        {
          "output_type": "stream",
          "name": "stderr",
          "text": [
            "[nltk_data] Downloading package stopwords to /root/nltk_data...\n",
            "[nltk_data]   Package stopwords is already up-to-date!\n"
          ]
        }
      ],
      "source": [
        "nltk.download('stopwords')\n",
        "stopwords = set(nltk.corpus.stopwords.words('english'))\n",
        "#stopwords"
      ]
    },
    {
      "cell_type": "code",
      "execution_count": null,
      "id": "5774053d",
      "metadata": {
        "id": "5774053d"
      },
      "outputs": [],
      "source": [
        "def tokenize(text):\n",
        "    return re.sub('[^a-zA-Z0-9\\n]', ' ', text) # เท่าที่เข้าใจคือจะแทนที่ทุกตัวที่ไม่ใช่ a-z, A-Z, 0-9, \\n ด้วย ' '"
      ]
    },
    {
      "cell_type": "code",
      "execution_count": null,
      "id": "69bbb643",
      "metadata": {
        "id": "69bbb643"
      },
      "outputs": [],
      "source": [
        "pipeline = [str, tokenize]\n",
        "\n",
        "def prepare(text, pipeline):\n",
        "    tokens = text\n",
        "    for transform in pipeline:\n",
        "        tokens = transform(tokens)\n",
        "    return tokens"
      ]
    },
    {
      "cell_type": "code",
      "execution_count": null,
      "id": "fdc1144b",
      "metadata": {
        "id": "fdc1144b"
      },
      "outputs": [],
      "source": [
        "train_merge['TEXT_cleaned'] = train_merge['TEXT'].apply(prepare, pipeline = pipeline) # ใช้ prepare() function"
      ]
    },
    {
      "cell_type": "code",
      "execution_count": null,
      "id": "441c7e36",
      "metadata": {
        "id": "441c7e36"
      },
      "outputs": [],
      "source": [
        "# ทำให้ str เป็นตัวพิมพ์เล็ก\n",
        "train_merge['TEXT_cleaned'] = train_merge['TEXT_cleaned'].str.lower()"
      ]
    },
    {
      "cell_type": "code",
      "execution_count": null,
      "id": "79b8f03f",
      "metadata": {
        "id": "79b8f03f"
      },
      "outputs": [],
      "source": [
        "# ลบ stopwords ออก\n",
        "train_merge['TEXT_cleaned'] = train_merge['TEXT_cleaned'].str.split(' ').apply(lambda x: ' '.join(k for k in x if k not in stopwords))"
      ]
    },
    {
      "cell_type": "code",
      "source": [
        "# ลบ et al ออก \n",
        "train_merge['TEXT_cleaned'] = train_merge['TEXT_cleaned'].str.replace(r'et al', ' ', regex=True)\n",
        "train_merge['TEXT_cleaned'] = train_merge['TEXT_cleaned'].str.replace(r'table', ' ', regex=True)\n",
        "train_merge['TEXT_cleaned'] = train_merge['TEXT_cleaned'].str.replace(r'fig', ' ', regex=True)\n",
        "train_merge['TEXT_cleaned'] = train_merge['TEXT_cleaned'].str.replace(r'figure', ' ', regex=True)\n",
        "train_merge['TEXT_cleaned'] = train_merge['TEXT_cleaned'].str.replace(r'figure', ' ', regex=True)"
      ],
      "metadata": {
        "id": "c10R9WTxletF"
      },
      "id": "c10R9WTxletF",
      "execution_count": null,
      "outputs": []
    },
    {
      "cell_type": "code",
      "execution_count": null,
      "id": "97748061",
      "metadata": {
        "id": "97748061"
      },
      "outputs": [],
      "source": [
        "# ลบ spacebar หลาย ๆ ครั้งออก\n",
        "train_merge['TEXT_cleaned'] = train_merge['TEXT_cleaned'].str.replace(r'\\s+', ' ', regex=True)"
      ]
    },
    {
      "cell_type": "code",
      "execution_count": null,
      "id": "b2e0f038",
      "metadata": {
        "id": "b2e0f038"
      },
      "outputs": [],
      "source": [
        "# ตัดแบ่งคำ ไว้ใน col ใหม่ tokens_word\n",
        "train_merge['tokens_word'] = train_merge['TEXT_cleaned'].str.split()"
      ]
    },
    {
      "cell_type": "code",
      "execution_count": null,
      "id": "f4a26574",
      "metadata": {
        "colab": {
          "base_uri": "https://localhost:8080/"
        },
        "id": "f4a26574",
        "outputId": "e6e96ce6-b05b-44e2-c852-eb720f6c0285"
      },
      "outputs": [
        {
          "output_type": "execute_result",
          "data": {
            "text/plain": [
              "        ID    Gene             Variation  Class  \\\n",
              "0        0  FAM58A  Truncating Mutations      1   \n",
              "1        1     CBL                 W802*      2   \n",
              "2        2     CBL                 Q249E      2   \n",
              "3        3     CBL                 N454D      3   \n",
              "4        4     CBL                 L399V      4   \n",
              "...    ...     ...                   ...    ...   \n",
              "3316  3316   RUNX1                 D171N      4   \n",
              "3317  3317   RUNX1                 A122*      1   \n",
              "3318  3318   RUNX1               Fusions      1   \n",
              "3319  3319   RUNX1                  R80C      4   \n",
              "3320  3320   RUNX1                  K83E      4   \n",
              "\n",
              "                                                   TEXT  \\\n",
              "0     Cyclin-dependent kinases (CDKs) regulate a var...   \n",
              "1      Abstract Background  Non-small cell lung canc...   \n",
              "2      Abstract Background  Non-small cell lung canc...   \n",
              "3     Recent evidence has demonstrated that acquired...   \n",
              "4     Oncogenic mutations in the monomeric Casitas B...   \n",
              "...                                                 ...   \n",
              "3316  Introduction  Myelodysplastic syndromes (MDS) ...   \n",
              "3317  Introduction  Myelodysplastic syndromes (MDS) ...   \n",
              "3318  The Runt-related transcription factor 1 gene (...   \n",
              "3319  The RUNX1/AML1 gene is the most frequent targe...   \n",
              "3320  The most frequent mutations associated with le...   \n",
              "\n",
              "                                           TEXT_cleaned  \\\n",
              "0     cyclin dependent kinases cdks regulate variety...   \n",
              "1      abstract background non small cell lung cance...   \n",
              "2      abstract background non small cell lung cance...   \n",
              "3     recent evidence demonstrated acquired uniparen...   \n",
              "4     oncogenic mutations monomeric casitas b lineag...   \n",
              "...                                                 ...   \n",
              "3316  introduction myelodysplastic syndromes mds het...   \n",
              "3317  introduction myelodysplastic syndromes mds het...   \n",
              "3318  runt related transcription factor 1 gene runx1...   \n",
              "3319  runx1 aml1 gene frequent target chromosomal tr...   \n",
              "3320  frequent mutations associated leukemia recurre...   \n",
              "\n",
              "                                            tokens_word  \n",
              "0     [cyclin, dependent, kinases, cdks, regulate, v...  \n",
              "1     [abstract, background, non, small, cell, lung,...  \n",
              "2     [abstract, background, non, small, cell, lung,...  \n",
              "3     [recent, evidence, demonstrated, acquired, uni...  \n",
              "4     [oncogenic, mutations, monomeric, casitas, b, ...  \n",
              "...                                                 ...  \n",
              "3316  [introduction, myelodysplastic, syndromes, mds...  \n",
              "3317  [introduction, myelodysplastic, syndromes, mds...  \n",
              "3318  [runt, related, transcription, factor, 1, gene...  \n",
              "3319  [runx1, aml1, gene, frequent, target, chromoso...  \n",
              "3320  [frequent, mutations, associated, leukemia, re...  \n",
              "\n",
              "[3321 rows x 7 columns]"
            ],
            "text/html": [
              "\n",
              "  <div id=\"df-36619a1b-5a55-4748-8f14-e9c34ed243c3\">\n",
              "    <div class=\"colab-df-container\">\n",
              "      <div>\n",
              "<style scoped>\n",
              "    .dataframe tbody tr th:only-of-type {\n",
              "        vertical-align: middle;\n",
              "    }\n",
              "\n",
              "    .dataframe tbody tr th {\n",
              "        vertical-align: top;\n",
              "    }\n",
              "\n",
              "    .dataframe thead th {\n",
              "        text-align: right;\n",
              "    }\n",
              "</style>\n",
              "<table border=\"1\" class=\"dataframe\">\n",
              "  <thead>\n",
              "    <tr style=\"text-align: right;\">\n",
              "      <th></th>\n",
              "      <th>ID</th>\n",
              "      <th>Gene</th>\n",
              "      <th>Variation</th>\n",
              "      <th>Class</th>\n",
              "      <th>TEXT</th>\n",
              "      <th>TEXT_cleaned</th>\n",
              "      <th>tokens_word</th>\n",
              "    </tr>\n",
              "  </thead>\n",
              "  <tbody>\n",
              "    <tr>\n",
              "      <th>0</th>\n",
              "      <td>0</td>\n",
              "      <td>FAM58A</td>\n",
              "      <td>Truncating Mutations</td>\n",
              "      <td>1</td>\n",
              "      <td>Cyclin-dependent kinases (CDKs) regulate a var...</td>\n",
              "      <td>cyclin dependent kinases cdks regulate variety...</td>\n",
              "      <td>[cyclin, dependent, kinases, cdks, regulate, v...</td>\n",
              "    </tr>\n",
              "    <tr>\n",
              "      <th>1</th>\n",
              "      <td>1</td>\n",
              "      <td>CBL</td>\n",
              "      <td>W802*</td>\n",
              "      <td>2</td>\n",
              "      <td>Abstract Background  Non-small cell lung canc...</td>\n",
              "      <td>abstract background non small cell lung cance...</td>\n",
              "      <td>[abstract, background, non, small, cell, lung,...</td>\n",
              "    </tr>\n",
              "    <tr>\n",
              "      <th>2</th>\n",
              "      <td>2</td>\n",
              "      <td>CBL</td>\n",
              "      <td>Q249E</td>\n",
              "      <td>2</td>\n",
              "      <td>Abstract Background  Non-small cell lung canc...</td>\n",
              "      <td>abstract background non small cell lung cance...</td>\n",
              "      <td>[abstract, background, non, small, cell, lung,...</td>\n",
              "    </tr>\n",
              "    <tr>\n",
              "      <th>3</th>\n",
              "      <td>3</td>\n",
              "      <td>CBL</td>\n",
              "      <td>N454D</td>\n",
              "      <td>3</td>\n",
              "      <td>Recent evidence has demonstrated that acquired...</td>\n",
              "      <td>recent evidence demonstrated acquired uniparen...</td>\n",
              "      <td>[recent, evidence, demonstrated, acquired, uni...</td>\n",
              "    </tr>\n",
              "    <tr>\n",
              "      <th>4</th>\n",
              "      <td>4</td>\n",
              "      <td>CBL</td>\n",
              "      <td>L399V</td>\n",
              "      <td>4</td>\n",
              "      <td>Oncogenic mutations in the monomeric Casitas B...</td>\n",
              "      <td>oncogenic mutations monomeric casitas b lineag...</td>\n",
              "      <td>[oncogenic, mutations, monomeric, casitas, b, ...</td>\n",
              "    </tr>\n",
              "    <tr>\n",
              "      <th>...</th>\n",
              "      <td>...</td>\n",
              "      <td>...</td>\n",
              "      <td>...</td>\n",
              "      <td>...</td>\n",
              "      <td>...</td>\n",
              "      <td>...</td>\n",
              "      <td>...</td>\n",
              "    </tr>\n",
              "    <tr>\n",
              "      <th>3316</th>\n",
              "      <td>3316</td>\n",
              "      <td>RUNX1</td>\n",
              "      <td>D171N</td>\n",
              "      <td>4</td>\n",
              "      <td>Introduction  Myelodysplastic syndromes (MDS) ...</td>\n",
              "      <td>introduction myelodysplastic syndromes mds het...</td>\n",
              "      <td>[introduction, myelodysplastic, syndromes, mds...</td>\n",
              "    </tr>\n",
              "    <tr>\n",
              "      <th>3317</th>\n",
              "      <td>3317</td>\n",
              "      <td>RUNX1</td>\n",
              "      <td>A122*</td>\n",
              "      <td>1</td>\n",
              "      <td>Introduction  Myelodysplastic syndromes (MDS) ...</td>\n",
              "      <td>introduction myelodysplastic syndromes mds het...</td>\n",
              "      <td>[introduction, myelodysplastic, syndromes, mds...</td>\n",
              "    </tr>\n",
              "    <tr>\n",
              "      <th>3318</th>\n",
              "      <td>3318</td>\n",
              "      <td>RUNX1</td>\n",
              "      <td>Fusions</td>\n",
              "      <td>1</td>\n",
              "      <td>The Runt-related transcription factor 1 gene (...</td>\n",
              "      <td>runt related transcription factor 1 gene runx1...</td>\n",
              "      <td>[runt, related, transcription, factor, 1, gene...</td>\n",
              "    </tr>\n",
              "    <tr>\n",
              "      <th>3319</th>\n",
              "      <td>3319</td>\n",
              "      <td>RUNX1</td>\n",
              "      <td>R80C</td>\n",
              "      <td>4</td>\n",
              "      <td>The RUNX1/AML1 gene is the most frequent targe...</td>\n",
              "      <td>runx1 aml1 gene frequent target chromosomal tr...</td>\n",
              "      <td>[runx1, aml1, gene, frequent, target, chromoso...</td>\n",
              "    </tr>\n",
              "    <tr>\n",
              "      <th>3320</th>\n",
              "      <td>3320</td>\n",
              "      <td>RUNX1</td>\n",
              "      <td>K83E</td>\n",
              "      <td>4</td>\n",
              "      <td>The most frequent mutations associated with le...</td>\n",
              "      <td>frequent mutations associated leukemia recurre...</td>\n",
              "      <td>[frequent, mutations, associated, leukemia, re...</td>\n",
              "    </tr>\n",
              "  </tbody>\n",
              "</table>\n",
              "<p>3321 rows × 7 columns</p>\n",
              "</div>\n",
              "      <button class=\"colab-df-convert\" onclick=\"convertToInteractive('df-36619a1b-5a55-4748-8f14-e9c34ed243c3')\"\n",
              "              title=\"Convert this dataframe to an interactive table.\"\n",
              "              style=\"display:none;\">\n",
              "        \n",
              "  <svg xmlns=\"http://www.w3.org/2000/svg\" height=\"24px\"viewBox=\"0 0 24 24\"\n",
              "       width=\"24px\">\n",
              "    <path d=\"M0 0h24v24H0V0z\" fill=\"none\"/>\n",
              "    <path d=\"M18.56 5.44l.94 2.06.94-2.06 2.06-.94-2.06-.94-.94-2.06-.94 2.06-2.06.94zm-11 1L8.5 8.5l.94-2.06 2.06-.94-2.06-.94L8.5 2.5l-.94 2.06-2.06.94zm10 10l.94 2.06.94-2.06 2.06-.94-2.06-.94-.94-2.06-.94 2.06-2.06.94z\"/><path d=\"M17.41 7.96l-1.37-1.37c-.4-.4-.92-.59-1.43-.59-.52 0-1.04.2-1.43.59L10.3 9.45l-7.72 7.72c-.78.78-.78 2.05 0 2.83L4 21.41c.39.39.9.59 1.41.59.51 0 1.02-.2 1.41-.59l7.78-7.78 2.81-2.81c.8-.78.8-2.07 0-2.86zM5.41 20L4 18.59l7.72-7.72 1.47 1.35L5.41 20z\"/>\n",
              "  </svg>\n",
              "      </button>\n",
              "      \n",
              "  <style>\n",
              "    .colab-df-container {\n",
              "      display:flex;\n",
              "      flex-wrap:wrap;\n",
              "      gap: 12px;\n",
              "    }\n",
              "\n",
              "    .colab-df-convert {\n",
              "      background-color: #E8F0FE;\n",
              "      border: none;\n",
              "      border-radius: 50%;\n",
              "      cursor: pointer;\n",
              "      display: none;\n",
              "      fill: #1967D2;\n",
              "      height: 32px;\n",
              "      padding: 0 0 0 0;\n",
              "      width: 32px;\n",
              "    }\n",
              "\n",
              "    .colab-df-convert:hover {\n",
              "      background-color: #E2EBFA;\n",
              "      box-shadow: 0px 1px 2px rgba(60, 64, 67, 0.3), 0px 1px 3px 1px rgba(60, 64, 67, 0.15);\n",
              "      fill: #174EA6;\n",
              "    }\n",
              "\n",
              "    [theme=dark] .colab-df-convert {\n",
              "      background-color: #3B4455;\n",
              "      fill: #D2E3FC;\n",
              "    }\n",
              "\n",
              "    [theme=dark] .colab-df-convert:hover {\n",
              "      background-color: #434B5C;\n",
              "      box-shadow: 0px 1px 3px 1px rgba(0, 0, 0, 0.15);\n",
              "      filter: drop-shadow(0px 1px 2px rgba(0, 0, 0, 0.3));\n",
              "      fill: #FFFFFF;\n",
              "    }\n",
              "  </style>\n",
              "\n",
              "      <script>\n",
              "        const buttonEl =\n",
              "          document.querySelector('#df-36619a1b-5a55-4748-8f14-e9c34ed243c3 button.colab-df-convert');\n",
              "        buttonEl.style.display =\n",
              "          google.colab.kernel.accessAllowed ? 'block' : 'none';\n",
              "\n",
              "        async function convertToInteractive(key) {\n",
              "          const element = document.querySelector('#df-36619a1b-5a55-4748-8f14-e9c34ed243c3');\n",
              "          const dataTable =\n",
              "            await google.colab.kernel.invokeFunction('convertToInteractive',\n",
              "                                                     [key], {});\n",
              "          if (!dataTable) return;\n",
              "\n",
              "          const docLinkHtml = 'Like what you see? Visit the ' +\n",
              "            '<a target=\"_blank\" href=https://colab.research.google.com/notebooks/data_table.ipynb>data table notebook</a>'\n",
              "            + ' to learn more about interactive tables.';\n",
              "          element.innerHTML = '';\n",
              "          dataTable['output_type'] = 'display_data';\n",
              "          await google.colab.output.renderOutput(dataTable, element);\n",
              "          const docLink = document.createElement('div');\n",
              "          docLink.innerHTML = docLinkHtml;\n",
              "          element.appendChild(docLink);\n",
              "        }\n",
              "      </script>\n",
              "    </div>\n",
              "  </div>\n",
              "  "
            ]
          },
          "metadata": {},
          "execution_count": 165
        }
      ],
      "source": [
        "train_merge"
      ]
    },
    {
      "cell_type": "markdown",
      "id": "646f2f60",
      "metadata": {
        "id": "646f2f60"
      },
      "source": [
        "### ทำ Lemmatisation"
      ]
    },
    {
      "cell_type": "code",
      "source": [
        "nltk.download('wordnet')\n",
        "nltk.download('omw-1.4')"
      ],
      "metadata": {
        "colab": {
          "base_uri": "https://localhost:8080/"
        },
        "id": "vhlW4idpIdyz",
        "outputId": "2655872e-71e0-4dfc-d110-3661930046bc"
      },
      "id": "vhlW4idpIdyz",
      "execution_count": null,
      "outputs": [
        {
          "output_type": "stream",
          "name": "stderr",
          "text": [
            "[nltk_data] Downloading package wordnet to /root/nltk_data...\n",
            "[nltk_data]   Package wordnet is already up-to-date!\n",
            "[nltk_data] Downloading package omw-1.4 to /root/nltk_data...\n",
            "[nltk_data]   Package omw-1.4 is already up-to-date!\n"
          ]
        },
        {
          "output_type": "execute_result",
          "data": {
            "text/plain": [
              "True"
            ]
          },
          "metadata": {},
          "execution_count": 166
        }
      ]
    },
    {
      "cell_type": "code",
      "execution_count": null,
      "id": "d66ca9d7",
      "metadata": {
        "id": "d66ca9d7"
      },
      "outputs": [],
      "source": [
        "from nltk.stem import PorterStemmer, WordNetLemmatizer\n",
        "wnl = WordNetLemmatizer()\n",
        "def lemmatize(s):\n",
        "    s = [wnl.lemmatize(word) for word in s]\n",
        "    return s\n",
        "\n",
        "train_merge = train_merge.assign(tokens_word_lemma = train_merge.tokens_word.apply(lambda x: lemmatize(x)))"
      ]
    },
    {
      "cell_type": "code",
      "execution_count": null,
      "id": "cc8017cc",
      "metadata": {
        "colab": {
          "base_uri": "https://localhost:8080/"
        },
        "id": "cc8017cc",
        "outputId": "b5d5b674-457d-4c1d-bb29-1f4feea558d6"
      },
      "outputs": [
        {
          "output_type": "execute_result",
          "data": {
            "text/plain": [
              "        ID    Gene             Variation  Class  \\\n",
              "0        0  FAM58A  Truncating Mutations      1   \n",
              "1        1     CBL                 W802*      2   \n",
              "2        2     CBL                 Q249E      2   \n",
              "3        3     CBL                 N454D      3   \n",
              "4        4     CBL                 L399V      4   \n",
              "...    ...     ...                   ...    ...   \n",
              "3316  3316   RUNX1                 D171N      4   \n",
              "3317  3317   RUNX1                 A122*      1   \n",
              "3318  3318   RUNX1               Fusions      1   \n",
              "3319  3319   RUNX1                  R80C      4   \n",
              "3320  3320   RUNX1                  K83E      4   \n",
              "\n",
              "                                                   TEXT  \\\n",
              "0     Cyclin-dependent kinases (CDKs) regulate a var...   \n",
              "1      Abstract Background  Non-small cell lung canc...   \n",
              "2      Abstract Background  Non-small cell lung canc...   \n",
              "3     Recent evidence has demonstrated that acquired...   \n",
              "4     Oncogenic mutations in the monomeric Casitas B...   \n",
              "...                                                 ...   \n",
              "3316  Introduction  Myelodysplastic syndromes (MDS) ...   \n",
              "3317  Introduction  Myelodysplastic syndromes (MDS) ...   \n",
              "3318  The Runt-related transcription factor 1 gene (...   \n",
              "3319  The RUNX1/AML1 gene is the most frequent targe...   \n",
              "3320  The most frequent mutations associated with le...   \n",
              "\n",
              "                                           TEXT_cleaned  \\\n",
              "0     cyclin dependent kinases cdks regulate variety...   \n",
              "1      abstract background non small cell lung cance...   \n",
              "2      abstract background non small cell lung cance...   \n",
              "3     recent evidence demonstrated acquired uniparen...   \n",
              "4     oncogenic mutations monomeric casitas b lineag...   \n",
              "...                                                 ...   \n",
              "3316  introduction myelodysplastic syndromes mds het...   \n",
              "3317  introduction myelodysplastic syndromes mds het...   \n",
              "3318  runt related transcription factor 1 gene runx1...   \n",
              "3319  runx1 aml1 gene frequent target chromosomal tr...   \n",
              "3320  frequent mutations associated leukemia recurre...   \n",
              "\n",
              "                                            tokens_word  \\\n",
              "0     [cyclin, dependent, kinases, cdks, regulate, v...   \n",
              "1     [abstract, background, non, small, cell, lung,...   \n",
              "2     [abstract, background, non, small, cell, lung,...   \n",
              "3     [recent, evidence, demonstrated, acquired, uni...   \n",
              "4     [oncogenic, mutations, monomeric, casitas, b, ...   \n",
              "...                                                 ...   \n",
              "3316  [introduction, myelodysplastic, syndromes, mds...   \n",
              "3317  [introduction, myelodysplastic, syndromes, mds...   \n",
              "3318  [runt, related, transcription, factor, 1, gene...   \n",
              "3319  [runx1, aml1, gene, frequent, target, chromoso...   \n",
              "3320  [frequent, mutations, associated, leukemia, re...   \n",
              "\n",
              "                                      tokens_word_lemma  \n",
              "0     [cyclin, dependent, kinase, cdks, regulate, va...  \n",
              "1     [abstract, background, non, small, cell, lung,...  \n",
              "2     [abstract, background, non, small, cell, lung,...  \n",
              "3     [recent, evidence, demonstrated, acquired, uni...  \n",
              "4     [oncogenic, mutation, monomeric, casitas, b, l...  \n",
              "...                                                 ...  \n",
              "3316  [introduction, myelodysplastic, syndrome, md, ...  \n",
              "3317  [introduction, myelodysplastic, syndrome, md, ...  \n",
              "3318  [runt, related, transcription, factor, 1, gene...  \n",
              "3319  [runx1, aml1, gene, frequent, target, chromoso...  \n",
              "3320  [frequent, mutation, associated, leukemia, rec...  \n",
              "\n",
              "[3321 rows x 8 columns]"
            ],
            "text/html": [
              "\n",
              "  <div id=\"df-1688f152-5b7c-4865-a72d-4e2ef21eb7e8\">\n",
              "    <div class=\"colab-df-container\">\n",
              "      <div>\n",
              "<style scoped>\n",
              "    .dataframe tbody tr th:only-of-type {\n",
              "        vertical-align: middle;\n",
              "    }\n",
              "\n",
              "    .dataframe tbody tr th {\n",
              "        vertical-align: top;\n",
              "    }\n",
              "\n",
              "    .dataframe thead th {\n",
              "        text-align: right;\n",
              "    }\n",
              "</style>\n",
              "<table border=\"1\" class=\"dataframe\">\n",
              "  <thead>\n",
              "    <tr style=\"text-align: right;\">\n",
              "      <th></th>\n",
              "      <th>ID</th>\n",
              "      <th>Gene</th>\n",
              "      <th>Variation</th>\n",
              "      <th>Class</th>\n",
              "      <th>TEXT</th>\n",
              "      <th>TEXT_cleaned</th>\n",
              "      <th>tokens_word</th>\n",
              "      <th>tokens_word_lemma</th>\n",
              "    </tr>\n",
              "  </thead>\n",
              "  <tbody>\n",
              "    <tr>\n",
              "      <th>0</th>\n",
              "      <td>0</td>\n",
              "      <td>FAM58A</td>\n",
              "      <td>Truncating Mutations</td>\n",
              "      <td>1</td>\n",
              "      <td>Cyclin-dependent kinases (CDKs) regulate a var...</td>\n",
              "      <td>cyclin dependent kinases cdks regulate variety...</td>\n",
              "      <td>[cyclin, dependent, kinases, cdks, regulate, v...</td>\n",
              "      <td>[cyclin, dependent, kinase, cdks, regulate, va...</td>\n",
              "    </tr>\n",
              "    <tr>\n",
              "      <th>1</th>\n",
              "      <td>1</td>\n",
              "      <td>CBL</td>\n",
              "      <td>W802*</td>\n",
              "      <td>2</td>\n",
              "      <td>Abstract Background  Non-small cell lung canc...</td>\n",
              "      <td>abstract background non small cell lung cance...</td>\n",
              "      <td>[abstract, background, non, small, cell, lung,...</td>\n",
              "      <td>[abstract, background, non, small, cell, lung,...</td>\n",
              "    </tr>\n",
              "    <tr>\n",
              "      <th>2</th>\n",
              "      <td>2</td>\n",
              "      <td>CBL</td>\n",
              "      <td>Q249E</td>\n",
              "      <td>2</td>\n",
              "      <td>Abstract Background  Non-small cell lung canc...</td>\n",
              "      <td>abstract background non small cell lung cance...</td>\n",
              "      <td>[abstract, background, non, small, cell, lung,...</td>\n",
              "      <td>[abstract, background, non, small, cell, lung,...</td>\n",
              "    </tr>\n",
              "    <tr>\n",
              "      <th>3</th>\n",
              "      <td>3</td>\n",
              "      <td>CBL</td>\n",
              "      <td>N454D</td>\n",
              "      <td>3</td>\n",
              "      <td>Recent evidence has demonstrated that acquired...</td>\n",
              "      <td>recent evidence demonstrated acquired uniparen...</td>\n",
              "      <td>[recent, evidence, demonstrated, acquired, uni...</td>\n",
              "      <td>[recent, evidence, demonstrated, acquired, uni...</td>\n",
              "    </tr>\n",
              "    <tr>\n",
              "      <th>4</th>\n",
              "      <td>4</td>\n",
              "      <td>CBL</td>\n",
              "      <td>L399V</td>\n",
              "      <td>4</td>\n",
              "      <td>Oncogenic mutations in the monomeric Casitas B...</td>\n",
              "      <td>oncogenic mutations monomeric casitas b lineag...</td>\n",
              "      <td>[oncogenic, mutations, monomeric, casitas, b, ...</td>\n",
              "      <td>[oncogenic, mutation, monomeric, casitas, b, l...</td>\n",
              "    </tr>\n",
              "    <tr>\n",
              "      <th>...</th>\n",
              "      <td>...</td>\n",
              "      <td>...</td>\n",
              "      <td>...</td>\n",
              "      <td>...</td>\n",
              "      <td>...</td>\n",
              "      <td>...</td>\n",
              "      <td>...</td>\n",
              "      <td>...</td>\n",
              "    </tr>\n",
              "    <tr>\n",
              "      <th>3316</th>\n",
              "      <td>3316</td>\n",
              "      <td>RUNX1</td>\n",
              "      <td>D171N</td>\n",
              "      <td>4</td>\n",
              "      <td>Introduction  Myelodysplastic syndromes (MDS) ...</td>\n",
              "      <td>introduction myelodysplastic syndromes mds het...</td>\n",
              "      <td>[introduction, myelodysplastic, syndromes, mds...</td>\n",
              "      <td>[introduction, myelodysplastic, syndrome, md, ...</td>\n",
              "    </tr>\n",
              "    <tr>\n",
              "      <th>3317</th>\n",
              "      <td>3317</td>\n",
              "      <td>RUNX1</td>\n",
              "      <td>A122*</td>\n",
              "      <td>1</td>\n",
              "      <td>Introduction  Myelodysplastic syndromes (MDS) ...</td>\n",
              "      <td>introduction myelodysplastic syndromes mds het...</td>\n",
              "      <td>[introduction, myelodysplastic, syndromes, mds...</td>\n",
              "      <td>[introduction, myelodysplastic, syndrome, md, ...</td>\n",
              "    </tr>\n",
              "    <tr>\n",
              "      <th>3318</th>\n",
              "      <td>3318</td>\n",
              "      <td>RUNX1</td>\n",
              "      <td>Fusions</td>\n",
              "      <td>1</td>\n",
              "      <td>The Runt-related transcription factor 1 gene (...</td>\n",
              "      <td>runt related transcription factor 1 gene runx1...</td>\n",
              "      <td>[runt, related, transcription, factor, 1, gene...</td>\n",
              "      <td>[runt, related, transcription, factor, 1, gene...</td>\n",
              "    </tr>\n",
              "    <tr>\n",
              "      <th>3319</th>\n",
              "      <td>3319</td>\n",
              "      <td>RUNX1</td>\n",
              "      <td>R80C</td>\n",
              "      <td>4</td>\n",
              "      <td>The RUNX1/AML1 gene is the most frequent targe...</td>\n",
              "      <td>runx1 aml1 gene frequent target chromosomal tr...</td>\n",
              "      <td>[runx1, aml1, gene, frequent, target, chromoso...</td>\n",
              "      <td>[runx1, aml1, gene, frequent, target, chromoso...</td>\n",
              "    </tr>\n",
              "    <tr>\n",
              "      <th>3320</th>\n",
              "      <td>3320</td>\n",
              "      <td>RUNX1</td>\n",
              "      <td>K83E</td>\n",
              "      <td>4</td>\n",
              "      <td>The most frequent mutations associated with le...</td>\n",
              "      <td>frequent mutations associated leukemia recurre...</td>\n",
              "      <td>[frequent, mutations, associated, leukemia, re...</td>\n",
              "      <td>[frequent, mutation, associated, leukemia, rec...</td>\n",
              "    </tr>\n",
              "  </tbody>\n",
              "</table>\n",
              "<p>3321 rows × 8 columns</p>\n",
              "</div>\n",
              "      <button class=\"colab-df-convert\" onclick=\"convertToInteractive('df-1688f152-5b7c-4865-a72d-4e2ef21eb7e8')\"\n",
              "              title=\"Convert this dataframe to an interactive table.\"\n",
              "              style=\"display:none;\">\n",
              "        \n",
              "  <svg xmlns=\"http://www.w3.org/2000/svg\" height=\"24px\"viewBox=\"0 0 24 24\"\n",
              "       width=\"24px\">\n",
              "    <path d=\"M0 0h24v24H0V0z\" fill=\"none\"/>\n",
              "    <path d=\"M18.56 5.44l.94 2.06.94-2.06 2.06-.94-2.06-.94-.94-2.06-.94 2.06-2.06.94zm-11 1L8.5 8.5l.94-2.06 2.06-.94-2.06-.94L8.5 2.5l-.94 2.06-2.06.94zm10 10l.94 2.06.94-2.06 2.06-.94-2.06-.94-.94-2.06-.94 2.06-2.06.94z\"/><path d=\"M17.41 7.96l-1.37-1.37c-.4-.4-.92-.59-1.43-.59-.52 0-1.04.2-1.43.59L10.3 9.45l-7.72 7.72c-.78.78-.78 2.05 0 2.83L4 21.41c.39.39.9.59 1.41.59.51 0 1.02-.2 1.41-.59l7.78-7.78 2.81-2.81c.8-.78.8-2.07 0-2.86zM5.41 20L4 18.59l7.72-7.72 1.47 1.35L5.41 20z\"/>\n",
              "  </svg>\n",
              "      </button>\n",
              "      \n",
              "  <style>\n",
              "    .colab-df-container {\n",
              "      display:flex;\n",
              "      flex-wrap:wrap;\n",
              "      gap: 12px;\n",
              "    }\n",
              "\n",
              "    .colab-df-convert {\n",
              "      background-color: #E8F0FE;\n",
              "      border: none;\n",
              "      border-radius: 50%;\n",
              "      cursor: pointer;\n",
              "      display: none;\n",
              "      fill: #1967D2;\n",
              "      height: 32px;\n",
              "      padding: 0 0 0 0;\n",
              "      width: 32px;\n",
              "    }\n",
              "\n",
              "    .colab-df-convert:hover {\n",
              "      background-color: #E2EBFA;\n",
              "      box-shadow: 0px 1px 2px rgba(60, 64, 67, 0.3), 0px 1px 3px 1px rgba(60, 64, 67, 0.15);\n",
              "      fill: #174EA6;\n",
              "    }\n",
              "\n",
              "    [theme=dark] .colab-df-convert {\n",
              "      background-color: #3B4455;\n",
              "      fill: #D2E3FC;\n",
              "    }\n",
              "\n",
              "    [theme=dark] .colab-df-convert:hover {\n",
              "      background-color: #434B5C;\n",
              "      box-shadow: 0px 1px 3px 1px rgba(0, 0, 0, 0.15);\n",
              "      filter: drop-shadow(0px 1px 2px rgba(0, 0, 0, 0.3));\n",
              "      fill: #FFFFFF;\n",
              "    }\n",
              "  </style>\n",
              "\n",
              "      <script>\n",
              "        const buttonEl =\n",
              "          document.querySelector('#df-1688f152-5b7c-4865-a72d-4e2ef21eb7e8 button.colab-df-convert');\n",
              "        buttonEl.style.display =\n",
              "          google.colab.kernel.accessAllowed ? 'block' : 'none';\n",
              "\n",
              "        async function convertToInteractive(key) {\n",
              "          const element = document.querySelector('#df-1688f152-5b7c-4865-a72d-4e2ef21eb7e8');\n",
              "          const dataTable =\n",
              "            await google.colab.kernel.invokeFunction('convertToInteractive',\n",
              "                                                     [key], {});\n",
              "          if (!dataTable) return;\n",
              "\n",
              "          const docLinkHtml = 'Like what you see? Visit the ' +\n",
              "            '<a target=\"_blank\" href=https://colab.research.google.com/notebooks/data_table.ipynb>data table notebook</a>'\n",
              "            + ' to learn more about interactive tables.';\n",
              "          element.innerHTML = '';\n",
              "          dataTable['output_type'] = 'display_data';\n",
              "          await google.colab.output.renderOutput(dataTable, element);\n",
              "          const docLink = document.createElement('div');\n",
              "          docLink.innerHTML = docLinkHtml;\n",
              "          element.appendChild(docLink);\n",
              "        }\n",
              "      </script>\n",
              "    </div>\n",
              "  </div>\n",
              "  "
            ]
          },
          "metadata": {},
          "execution_count": 168
        }
      ],
      "source": [
        "train_merge"
      ]
    },
    {
      "cell_type": "code",
      "execution_count": null,
      "id": "cc9c7b06",
      "metadata": {
        "id": "cc9c7b06"
      },
      "outputs": [],
      "source": [
        "# save file ออกเป็น .xlsx\n",
        "#train_merge.to_excel('train_merge_cleaned.xlsx', index=False)"
      ]
    },
    {
      "cell_type": "markdown",
      "id": "a09573d7",
      "metadata": {
        "id": "a09573d7"
      },
      "source": [
        "### word len "
      ]
    },
    {
      "cell_type": "code",
      "execution_count": null,
      "id": "4f06bccd",
      "metadata": {
        "id": "4f06bccd"
      },
      "outputs": [],
      "source": [
        "train_merge['num_tokens'] = train_merge['tokens_word_lemma'].map(len)"
      ]
    },
    {
      "cell_type": "code",
      "execution_count": null,
      "id": "9efa1d0b",
      "metadata": {
        "colab": {
          "base_uri": "https://localhost:8080/"
        },
        "id": "9efa1d0b",
        "outputId": "1cf46f86-08f8-48de-92e1-474532233496"
      },
      "outputs": [
        {
          "output_type": "execute_result",
          "data": {
            "text/plain": [
              "        ID    Gene             Variation  Class  \\\n",
              "0        0  FAM58A  Truncating Mutations      1   \n",
              "1        1     CBL                 W802*      2   \n",
              "2        2     CBL                 Q249E      2   \n",
              "3        3     CBL                 N454D      3   \n",
              "4        4     CBL                 L399V      4   \n",
              "...    ...     ...                   ...    ...   \n",
              "3316  3316   RUNX1                 D171N      4   \n",
              "3317  3317   RUNX1                 A122*      1   \n",
              "3318  3318   RUNX1               Fusions      1   \n",
              "3319  3319   RUNX1                  R80C      4   \n",
              "3320  3320   RUNX1                  K83E      4   \n",
              "\n",
              "                                                   TEXT  \\\n",
              "0     Cyclin-dependent kinases (CDKs) regulate a var...   \n",
              "1      Abstract Background  Non-small cell lung canc...   \n",
              "2      Abstract Background  Non-small cell lung canc...   \n",
              "3     Recent evidence has demonstrated that acquired...   \n",
              "4     Oncogenic mutations in the monomeric Casitas B...   \n",
              "...                                                 ...   \n",
              "3316  Introduction  Myelodysplastic syndromes (MDS) ...   \n",
              "3317  Introduction  Myelodysplastic syndromes (MDS) ...   \n",
              "3318  The Runt-related transcription factor 1 gene (...   \n",
              "3319  The RUNX1/AML1 gene is the most frequent targe...   \n",
              "3320  The most frequent mutations associated with le...   \n",
              "\n",
              "                                           TEXT_cleaned  \\\n",
              "0     cyclin dependent kinases cdks regulate variety...   \n",
              "1      abstract background non small cell lung cance...   \n",
              "2      abstract background non small cell lung cance...   \n",
              "3     recent evidence demonstrated acquired uniparen...   \n",
              "4     oncogenic mutations monomeric casitas b lineag...   \n",
              "...                                                 ...   \n",
              "3316  introduction myelodysplastic syndromes mds het...   \n",
              "3317  introduction myelodysplastic syndromes mds het...   \n",
              "3318  runt related transcription factor 1 gene runx1...   \n",
              "3319  runx1 aml1 gene frequent target chromosomal tr...   \n",
              "3320  frequent mutations associated leukemia recurre...   \n",
              "\n",
              "                                            tokens_word  \\\n",
              "0     [cyclin, dependent, kinases, cdks, regulate, v...   \n",
              "1     [abstract, background, non, small, cell, lung,...   \n",
              "2     [abstract, background, non, small, cell, lung,...   \n",
              "3     [recent, evidence, demonstrated, acquired, uni...   \n",
              "4     [oncogenic, mutations, monomeric, casitas, b, ...   \n",
              "...                                                 ...   \n",
              "3316  [introduction, myelodysplastic, syndromes, mds...   \n",
              "3317  [introduction, myelodysplastic, syndromes, mds...   \n",
              "3318  [runt, related, transcription, factor, 1, gene...   \n",
              "3319  [runx1, aml1, gene, frequent, target, chromoso...   \n",
              "3320  [frequent, mutations, associated, leukemia, re...   \n",
              "\n",
              "                                      tokens_word_lemma  num_tokens  \n",
              "0     [cyclin, dependent, kinase, cdks, regulate, va...        4294  \n",
              "1     [abstract, background, non, small, cell, lung,...        4129  \n",
              "2     [abstract, background, non, small, cell, lung,...        4129  \n",
              "3     [recent, evidence, demonstrated, acquired, uni...        3835  \n",
              "4     [oncogenic, mutation, monomeric, casitas, b, l...        4197  \n",
              "...                                                 ...         ...  \n",
              "3316  [introduction, myelodysplastic, syndrome, md, ...        8112  \n",
              "3317  [introduction, myelodysplastic, syndrome, md, ...        4473  \n",
              "3318  [runt, related, transcription, factor, 1, gene...        4568  \n",
              "3319  [runx1, aml1, gene, frequent, target, chromoso...        3335  \n",
              "3320  [frequent, mutation, associated, leukemia, rec...        6873  \n",
              "\n",
              "[3321 rows x 9 columns]"
            ],
            "text/html": [
              "\n",
              "  <div id=\"df-ace1e272-d900-4825-bc25-10972325d4af\">\n",
              "    <div class=\"colab-df-container\">\n",
              "      <div>\n",
              "<style scoped>\n",
              "    .dataframe tbody tr th:only-of-type {\n",
              "        vertical-align: middle;\n",
              "    }\n",
              "\n",
              "    .dataframe tbody tr th {\n",
              "        vertical-align: top;\n",
              "    }\n",
              "\n",
              "    .dataframe thead th {\n",
              "        text-align: right;\n",
              "    }\n",
              "</style>\n",
              "<table border=\"1\" class=\"dataframe\">\n",
              "  <thead>\n",
              "    <tr style=\"text-align: right;\">\n",
              "      <th></th>\n",
              "      <th>ID</th>\n",
              "      <th>Gene</th>\n",
              "      <th>Variation</th>\n",
              "      <th>Class</th>\n",
              "      <th>TEXT</th>\n",
              "      <th>TEXT_cleaned</th>\n",
              "      <th>tokens_word</th>\n",
              "      <th>tokens_word_lemma</th>\n",
              "      <th>num_tokens</th>\n",
              "    </tr>\n",
              "  </thead>\n",
              "  <tbody>\n",
              "    <tr>\n",
              "      <th>0</th>\n",
              "      <td>0</td>\n",
              "      <td>FAM58A</td>\n",
              "      <td>Truncating Mutations</td>\n",
              "      <td>1</td>\n",
              "      <td>Cyclin-dependent kinases (CDKs) regulate a var...</td>\n",
              "      <td>cyclin dependent kinases cdks regulate variety...</td>\n",
              "      <td>[cyclin, dependent, kinases, cdks, regulate, v...</td>\n",
              "      <td>[cyclin, dependent, kinase, cdks, regulate, va...</td>\n",
              "      <td>4294</td>\n",
              "    </tr>\n",
              "    <tr>\n",
              "      <th>1</th>\n",
              "      <td>1</td>\n",
              "      <td>CBL</td>\n",
              "      <td>W802*</td>\n",
              "      <td>2</td>\n",
              "      <td>Abstract Background  Non-small cell lung canc...</td>\n",
              "      <td>abstract background non small cell lung cance...</td>\n",
              "      <td>[abstract, background, non, small, cell, lung,...</td>\n",
              "      <td>[abstract, background, non, small, cell, lung,...</td>\n",
              "      <td>4129</td>\n",
              "    </tr>\n",
              "    <tr>\n",
              "      <th>2</th>\n",
              "      <td>2</td>\n",
              "      <td>CBL</td>\n",
              "      <td>Q249E</td>\n",
              "      <td>2</td>\n",
              "      <td>Abstract Background  Non-small cell lung canc...</td>\n",
              "      <td>abstract background non small cell lung cance...</td>\n",
              "      <td>[abstract, background, non, small, cell, lung,...</td>\n",
              "      <td>[abstract, background, non, small, cell, lung,...</td>\n",
              "      <td>4129</td>\n",
              "    </tr>\n",
              "    <tr>\n",
              "      <th>3</th>\n",
              "      <td>3</td>\n",
              "      <td>CBL</td>\n",
              "      <td>N454D</td>\n",
              "      <td>3</td>\n",
              "      <td>Recent evidence has demonstrated that acquired...</td>\n",
              "      <td>recent evidence demonstrated acquired uniparen...</td>\n",
              "      <td>[recent, evidence, demonstrated, acquired, uni...</td>\n",
              "      <td>[recent, evidence, demonstrated, acquired, uni...</td>\n",
              "      <td>3835</td>\n",
              "    </tr>\n",
              "    <tr>\n",
              "      <th>4</th>\n",
              "      <td>4</td>\n",
              "      <td>CBL</td>\n",
              "      <td>L399V</td>\n",
              "      <td>4</td>\n",
              "      <td>Oncogenic mutations in the monomeric Casitas B...</td>\n",
              "      <td>oncogenic mutations monomeric casitas b lineag...</td>\n",
              "      <td>[oncogenic, mutations, monomeric, casitas, b, ...</td>\n",
              "      <td>[oncogenic, mutation, monomeric, casitas, b, l...</td>\n",
              "      <td>4197</td>\n",
              "    </tr>\n",
              "    <tr>\n",
              "      <th>...</th>\n",
              "      <td>...</td>\n",
              "      <td>...</td>\n",
              "      <td>...</td>\n",
              "      <td>...</td>\n",
              "      <td>...</td>\n",
              "      <td>...</td>\n",
              "      <td>...</td>\n",
              "      <td>...</td>\n",
              "      <td>...</td>\n",
              "    </tr>\n",
              "    <tr>\n",
              "      <th>3316</th>\n",
              "      <td>3316</td>\n",
              "      <td>RUNX1</td>\n",
              "      <td>D171N</td>\n",
              "      <td>4</td>\n",
              "      <td>Introduction  Myelodysplastic syndromes (MDS) ...</td>\n",
              "      <td>introduction myelodysplastic syndromes mds het...</td>\n",
              "      <td>[introduction, myelodysplastic, syndromes, mds...</td>\n",
              "      <td>[introduction, myelodysplastic, syndrome, md, ...</td>\n",
              "      <td>8112</td>\n",
              "    </tr>\n",
              "    <tr>\n",
              "      <th>3317</th>\n",
              "      <td>3317</td>\n",
              "      <td>RUNX1</td>\n",
              "      <td>A122*</td>\n",
              "      <td>1</td>\n",
              "      <td>Introduction  Myelodysplastic syndromes (MDS) ...</td>\n",
              "      <td>introduction myelodysplastic syndromes mds het...</td>\n",
              "      <td>[introduction, myelodysplastic, syndromes, mds...</td>\n",
              "      <td>[introduction, myelodysplastic, syndrome, md, ...</td>\n",
              "      <td>4473</td>\n",
              "    </tr>\n",
              "    <tr>\n",
              "      <th>3318</th>\n",
              "      <td>3318</td>\n",
              "      <td>RUNX1</td>\n",
              "      <td>Fusions</td>\n",
              "      <td>1</td>\n",
              "      <td>The Runt-related transcription factor 1 gene (...</td>\n",
              "      <td>runt related transcription factor 1 gene runx1...</td>\n",
              "      <td>[runt, related, transcription, factor, 1, gene...</td>\n",
              "      <td>[runt, related, transcription, factor, 1, gene...</td>\n",
              "      <td>4568</td>\n",
              "    </tr>\n",
              "    <tr>\n",
              "      <th>3319</th>\n",
              "      <td>3319</td>\n",
              "      <td>RUNX1</td>\n",
              "      <td>R80C</td>\n",
              "      <td>4</td>\n",
              "      <td>The RUNX1/AML1 gene is the most frequent targe...</td>\n",
              "      <td>runx1 aml1 gene frequent target chromosomal tr...</td>\n",
              "      <td>[runx1, aml1, gene, frequent, target, chromoso...</td>\n",
              "      <td>[runx1, aml1, gene, frequent, target, chromoso...</td>\n",
              "      <td>3335</td>\n",
              "    </tr>\n",
              "    <tr>\n",
              "      <th>3320</th>\n",
              "      <td>3320</td>\n",
              "      <td>RUNX1</td>\n",
              "      <td>K83E</td>\n",
              "      <td>4</td>\n",
              "      <td>The most frequent mutations associated with le...</td>\n",
              "      <td>frequent mutations associated leukemia recurre...</td>\n",
              "      <td>[frequent, mutations, associated, leukemia, re...</td>\n",
              "      <td>[frequent, mutation, associated, leukemia, rec...</td>\n",
              "      <td>6873</td>\n",
              "    </tr>\n",
              "  </tbody>\n",
              "</table>\n",
              "<p>3321 rows × 9 columns</p>\n",
              "</div>\n",
              "      <button class=\"colab-df-convert\" onclick=\"convertToInteractive('df-ace1e272-d900-4825-bc25-10972325d4af')\"\n",
              "              title=\"Convert this dataframe to an interactive table.\"\n",
              "              style=\"display:none;\">\n",
              "        \n",
              "  <svg xmlns=\"http://www.w3.org/2000/svg\" height=\"24px\"viewBox=\"0 0 24 24\"\n",
              "       width=\"24px\">\n",
              "    <path d=\"M0 0h24v24H0V0z\" fill=\"none\"/>\n",
              "    <path d=\"M18.56 5.44l.94 2.06.94-2.06 2.06-.94-2.06-.94-.94-2.06-.94 2.06-2.06.94zm-11 1L8.5 8.5l.94-2.06 2.06-.94-2.06-.94L8.5 2.5l-.94 2.06-2.06.94zm10 10l.94 2.06.94-2.06 2.06-.94-2.06-.94-.94-2.06-.94 2.06-2.06.94z\"/><path d=\"M17.41 7.96l-1.37-1.37c-.4-.4-.92-.59-1.43-.59-.52 0-1.04.2-1.43.59L10.3 9.45l-7.72 7.72c-.78.78-.78 2.05 0 2.83L4 21.41c.39.39.9.59 1.41.59.51 0 1.02-.2 1.41-.59l7.78-7.78 2.81-2.81c.8-.78.8-2.07 0-2.86zM5.41 20L4 18.59l7.72-7.72 1.47 1.35L5.41 20z\"/>\n",
              "  </svg>\n",
              "      </button>\n",
              "      \n",
              "  <style>\n",
              "    .colab-df-container {\n",
              "      display:flex;\n",
              "      flex-wrap:wrap;\n",
              "      gap: 12px;\n",
              "    }\n",
              "\n",
              "    .colab-df-convert {\n",
              "      background-color: #E8F0FE;\n",
              "      border: none;\n",
              "      border-radius: 50%;\n",
              "      cursor: pointer;\n",
              "      display: none;\n",
              "      fill: #1967D2;\n",
              "      height: 32px;\n",
              "      padding: 0 0 0 0;\n",
              "      width: 32px;\n",
              "    }\n",
              "\n",
              "    .colab-df-convert:hover {\n",
              "      background-color: #E2EBFA;\n",
              "      box-shadow: 0px 1px 2px rgba(60, 64, 67, 0.3), 0px 1px 3px 1px rgba(60, 64, 67, 0.15);\n",
              "      fill: #174EA6;\n",
              "    }\n",
              "\n",
              "    [theme=dark] .colab-df-convert {\n",
              "      background-color: #3B4455;\n",
              "      fill: #D2E3FC;\n",
              "    }\n",
              "\n",
              "    [theme=dark] .colab-df-convert:hover {\n",
              "      background-color: #434B5C;\n",
              "      box-shadow: 0px 1px 3px 1px rgba(0, 0, 0, 0.15);\n",
              "      filter: drop-shadow(0px 1px 2px rgba(0, 0, 0, 0.3));\n",
              "      fill: #FFFFFF;\n",
              "    }\n",
              "  </style>\n",
              "\n",
              "      <script>\n",
              "        const buttonEl =\n",
              "          document.querySelector('#df-ace1e272-d900-4825-bc25-10972325d4af button.colab-df-convert');\n",
              "        buttonEl.style.display =\n",
              "          google.colab.kernel.accessAllowed ? 'block' : 'none';\n",
              "\n",
              "        async function convertToInteractive(key) {\n",
              "          const element = document.querySelector('#df-ace1e272-d900-4825-bc25-10972325d4af');\n",
              "          const dataTable =\n",
              "            await google.colab.kernel.invokeFunction('convertToInteractive',\n",
              "                                                     [key], {});\n",
              "          if (!dataTable) return;\n",
              "\n",
              "          const docLinkHtml = 'Like what you see? Visit the ' +\n",
              "            '<a target=\"_blank\" href=https://colab.research.google.com/notebooks/data_table.ipynb>data table notebook</a>'\n",
              "            + ' to learn more about interactive tables.';\n",
              "          element.innerHTML = '';\n",
              "          dataTable['output_type'] = 'display_data';\n",
              "          await google.colab.output.renderOutput(dataTable, element);\n",
              "          const docLink = document.createElement('div');\n",
              "          docLink.innerHTML = docLinkHtml;\n",
              "          element.appendChild(docLink);\n",
              "        }\n",
              "      </script>\n",
              "    </div>\n",
              "  </div>\n",
              "  "
            ]
          },
          "metadata": {},
          "execution_count": 171
        }
      ],
      "source": [
        "train_merge"
      ]
    },
    {
      "cell_type": "markdown",
      "id": "d9d0219d",
      "metadata": {
        "id": "d9d0219d"
      },
      "source": [
        "### ทำ words count "
      ]
    },
    {
      "cell_type": "code",
      "execution_count": null,
      "id": "88f4a284",
      "metadata": {
        "id": "88f4a284"
      },
      "outputs": [],
      "source": [
        "from collections import Counter\n",
        "\n",
        "def count_words(df, column='tokens_word_lemma', preprocess=None, min_freq = 2):\n",
        "    \n",
        "    # process tokens and update counter\n",
        "    def update(doc):\n",
        "        tokens = doc if preprocess is None else preprocess(doc)\n",
        "        counter.update(tokens)\n",
        "    \n",
        "    # create counter and run through all data\n",
        "    counter = Counter()\n",
        "    df[column].map(update)\n",
        "    \n",
        "    # transform counter into a DataFrame\n",
        "    freq_df = pd.DataFrame.from_dict(counter, orient='index', columns=['freq'])\n",
        "    freq_df = freq_df.query('freq > @min_freq')\n",
        "    freq_df.index.name = 'token'\n",
        "    \n",
        "    return freq_df.sort_values('freq', ascending=False)"
      ]
    },
    {
      "cell_type": "code",
      "execution_count": null,
      "id": "98b33b9b",
      "metadata": {
        "colab": {
          "base_uri": "https://localhost:8080/",
          "height": 708
        },
        "id": "98b33b9b",
        "outputId": "6f9f422b-48b2-4bc7-86b5-a6e0247d35cc"
      },
      "outputs": [
        {
          "output_type": "execute_result",
          "data": {
            "text/plain": [
              "            freq\n",
              "token           \n",
              "mutation  343846\n",
              "cell      312490\n",
              "1         215596\n",
              "2         154499\n",
              "3         135431\n",
              "mutant    126586\n",
              "protein   125359\n",
              "tumor     122770\n",
              "cancer    120103\n",
              "patient   111374\n",
              "5         104894\n",
              "c         103123\n",
              "0         102280\n",
              "gene      102268\n",
              "ure        99047\n",
              "variant    90079\n",
              "4          85061\n",
              "domain     84861\n",
              "activity   84061\n",
              "type       83665"
            ],
            "text/html": [
              "\n",
              "  <div id=\"df-bfcb2ff3-6c74-49a0-8ee4-8fed96503a5c\">\n",
              "    <div class=\"colab-df-container\">\n",
              "      <div>\n",
              "<style scoped>\n",
              "    .dataframe tbody tr th:only-of-type {\n",
              "        vertical-align: middle;\n",
              "    }\n",
              "\n",
              "    .dataframe tbody tr th {\n",
              "        vertical-align: top;\n",
              "    }\n",
              "\n",
              "    .dataframe thead th {\n",
              "        text-align: right;\n",
              "    }\n",
              "</style>\n",
              "<table border=\"1\" class=\"dataframe\">\n",
              "  <thead>\n",
              "    <tr style=\"text-align: right;\">\n",
              "      <th></th>\n",
              "      <th>freq</th>\n",
              "    </tr>\n",
              "    <tr>\n",
              "      <th>token</th>\n",
              "      <th></th>\n",
              "    </tr>\n",
              "  </thead>\n",
              "  <tbody>\n",
              "    <tr>\n",
              "      <th>mutation</th>\n",
              "      <td>343846</td>\n",
              "    </tr>\n",
              "    <tr>\n",
              "      <th>cell</th>\n",
              "      <td>312490</td>\n",
              "    </tr>\n",
              "    <tr>\n",
              "      <th>1</th>\n",
              "      <td>215596</td>\n",
              "    </tr>\n",
              "    <tr>\n",
              "      <th>2</th>\n",
              "      <td>154499</td>\n",
              "    </tr>\n",
              "    <tr>\n",
              "      <th>3</th>\n",
              "      <td>135431</td>\n",
              "    </tr>\n",
              "    <tr>\n",
              "      <th>mutant</th>\n",
              "      <td>126586</td>\n",
              "    </tr>\n",
              "    <tr>\n",
              "      <th>protein</th>\n",
              "      <td>125359</td>\n",
              "    </tr>\n",
              "    <tr>\n",
              "      <th>tumor</th>\n",
              "      <td>122770</td>\n",
              "    </tr>\n",
              "    <tr>\n",
              "      <th>cancer</th>\n",
              "      <td>120103</td>\n",
              "    </tr>\n",
              "    <tr>\n",
              "      <th>patient</th>\n",
              "      <td>111374</td>\n",
              "    </tr>\n",
              "    <tr>\n",
              "      <th>5</th>\n",
              "      <td>104894</td>\n",
              "    </tr>\n",
              "    <tr>\n",
              "      <th>c</th>\n",
              "      <td>103123</td>\n",
              "    </tr>\n",
              "    <tr>\n",
              "      <th>0</th>\n",
              "      <td>102280</td>\n",
              "    </tr>\n",
              "    <tr>\n",
              "      <th>gene</th>\n",
              "      <td>102268</td>\n",
              "    </tr>\n",
              "    <tr>\n",
              "      <th>ure</th>\n",
              "      <td>99047</td>\n",
              "    </tr>\n",
              "    <tr>\n",
              "      <th>variant</th>\n",
              "      <td>90079</td>\n",
              "    </tr>\n",
              "    <tr>\n",
              "      <th>4</th>\n",
              "      <td>85061</td>\n",
              "    </tr>\n",
              "    <tr>\n",
              "      <th>domain</th>\n",
              "      <td>84861</td>\n",
              "    </tr>\n",
              "    <tr>\n",
              "      <th>activity</th>\n",
              "      <td>84061</td>\n",
              "    </tr>\n",
              "    <tr>\n",
              "      <th>type</th>\n",
              "      <td>83665</td>\n",
              "    </tr>\n",
              "  </tbody>\n",
              "</table>\n",
              "</div>\n",
              "      <button class=\"colab-df-convert\" onclick=\"convertToInteractive('df-bfcb2ff3-6c74-49a0-8ee4-8fed96503a5c')\"\n",
              "              title=\"Convert this dataframe to an interactive table.\"\n",
              "              style=\"display:none;\">\n",
              "        \n",
              "  <svg xmlns=\"http://www.w3.org/2000/svg\" height=\"24px\"viewBox=\"0 0 24 24\"\n",
              "       width=\"24px\">\n",
              "    <path d=\"M0 0h24v24H0V0z\" fill=\"none\"/>\n",
              "    <path d=\"M18.56 5.44l.94 2.06.94-2.06 2.06-.94-2.06-.94-.94-2.06-.94 2.06-2.06.94zm-11 1L8.5 8.5l.94-2.06 2.06-.94-2.06-.94L8.5 2.5l-.94 2.06-2.06.94zm10 10l.94 2.06.94-2.06 2.06-.94-2.06-.94-.94-2.06-.94 2.06-2.06.94z\"/><path d=\"M17.41 7.96l-1.37-1.37c-.4-.4-.92-.59-1.43-.59-.52 0-1.04.2-1.43.59L10.3 9.45l-7.72 7.72c-.78.78-.78 2.05 0 2.83L4 21.41c.39.39.9.59 1.41.59.51 0 1.02-.2 1.41-.59l7.78-7.78 2.81-2.81c.8-.78.8-2.07 0-2.86zM5.41 20L4 18.59l7.72-7.72 1.47 1.35L5.41 20z\"/>\n",
              "  </svg>\n",
              "      </button>\n",
              "      \n",
              "  <style>\n",
              "    .colab-df-container {\n",
              "      display:flex;\n",
              "      flex-wrap:wrap;\n",
              "      gap: 12px;\n",
              "    }\n",
              "\n",
              "    .colab-df-convert {\n",
              "      background-color: #E8F0FE;\n",
              "      border: none;\n",
              "      border-radius: 50%;\n",
              "      cursor: pointer;\n",
              "      display: none;\n",
              "      fill: #1967D2;\n",
              "      height: 32px;\n",
              "      padding: 0 0 0 0;\n",
              "      width: 32px;\n",
              "    }\n",
              "\n",
              "    .colab-df-convert:hover {\n",
              "      background-color: #E2EBFA;\n",
              "      box-shadow: 0px 1px 2px rgba(60, 64, 67, 0.3), 0px 1px 3px 1px rgba(60, 64, 67, 0.15);\n",
              "      fill: #174EA6;\n",
              "    }\n",
              "\n",
              "    [theme=dark] .colab-df-convert {\n",
              "      background-color: #3B4455;\n",
              "      fill: #D2E3FC;\n",
              "    }\n",
              "\n",
              "    [theme=dark] .colab-df-convert:hover {\n",
              "      background-color: #434B5C;\n",
              "      box-shadow: 0px 1px 3px 1px rgba(0, 0, 0, 0.15);\n",
              "      filter: drop-shadow(0px 1px 2px rgba(0, 0, 0, 0.3));\n",
              "      fill: #FFFFFF;\n",
              "    }\n",
              "  </style>\n",
              "\n",
              "      <script>\n",
              "        const buttonEl =\n",
              "          document.querySelector('#df-bfcb2ff3-6c74-49a0-8ee4-8fed96503a5c button.colab-df-convert');\n",
              "        buttonEl.style.display =\n",
              "          google.colab.kernel.accessAllowed ? 'block' : 'none';\n",
              "\n",
              "        async function convertToInteractive(key) {\n",
              "          const element = document.querySelector('#df-bfcb2ff3-6c74-49a0-8ee4-8fed96503a5c');\n",
              "          const dataTable =\n",
              "            await google.colab.kernel.invokeFunction('convertToInteractive',\n",
              "                                                     [key], {});\n",
              "          if (!dataTable) return;\n",
              "\n",
              "          const docLinkHtml = 'Like what you see? Visit the ' +\n",
              "            '<a target=\"_blank\" href=https://colab.research.google.com/notebooks/data_table.ipynb>data table notebook</a>'\n",
              "            + ' to learn more about interactive tables.';\n",
              "          element.innerHTML = '';\n",
              "          dataTable['output_type'] = 'display_data';\n",
              "          await google.colab.output.renderOutput(dataTable, element);\n",
              "          const docLink = document.createElement('div');\n",
              "          docLink.innerHTML = docLinkHtml;\n",
              "          element.appendChild(docLink);\n",
              "        }\n",
              "      </script>\n",
              "    </div>\n",
              "  </div>\n",
              "  "
            ]
          },
          "metadata": {},
          "execution_count": 173
        }
      ],
      "source": [
        "text = train_merge\n",
        "freq_text = count_words(text)\n",
        "\n",
        "freq_text.head(20)"
      ]
    },
    {
      "cell_type": "code",
      "execution_count": null,
      "id": "e3bf747a",
      "metadata": {
        "scrolled": false,
        "id": "e3bf747a",
        "colab": {
          "base_uri": "https://localhost:8080/",
          "height": 708
        },
        "outputId": "3e717fa2-a6c8-40ef-ee57-ca20d9633034"
      },
      "outputs": [
        {
          "output_type": "execute_result",
          "data": {
            "text/plain": [
              "              freq\n",
              "token             \n",
              "mutation    343846\n",
              "cell        312490\n",
              "mutant      126586\n",
              "protein     125359\n",
              "tumor       122770\n",
              "cancer      120103\n",
              "patient     111374\n",
              "gene        102268\n",
              "ure          99047\n",
              "variant      90079\n",
              "domain       84861\n",
              "activity     84061\n",
              "type         83665\n",
              "expression   77903\n",
              "kinase       76003\n",
              "analysis     69781\n",
              "study        68460\n",
              "also         66221\n",
              "using        63497\n",
              "binding      62840"
            ],
            "text/html": [
              "\n",
              "  <div id=\"df-5edf0ec6-6e5e-4ab0-aff7-731ec7b0f654\">\n",
              "    <div class=\"colab-df-container\">\n",
              "      <div>\n",
              "<style scoped>\n",
              "    .dataframe tbody tr th:only-of-type {\n",
              "        vertical-align: middle;\n",
              "    }\n",
              "\n",
              "    .dataframe tbody tr th {\n",
              "        vertical-align: top;\n",
              "    }\n",
              "\n",
              "    .dataframe thead th {\n",
              "        text-align: right;\n",
              "    }\n",
              "</style>\n",
              "<table border=\"1\" class=\"dataframe\">\n",
              "  <thead>\n",
              "    <tr style=\"text-align: right;\">\n",
              "      <th></th>\n",
              "      <th>freq</th>\n",
              "    </tr>\n",
              "    <tr>\n",
              "      <th>token</th>\n",
              "      <th></th>\n",
              "    </tr>\n",
              "  </thead>\n",
              "  <tbody>\n",
              "    <tr>\n",
              "      <th>mutation</th>\n",
              "      <td>343846</td>\n",
              "    </tr>\n",
              "    <tr>\n",
              "      <th>cell</th>\n",
              "      <td>312490</td>\n",
              "    </tr>\n",
              "    <tr>\n",
              "      <th>mutant</th>\n",
              "      <td>126586</td>\n",
              "    </tr>\n",
              "    <tr>\n",
              "      <th>protein</th>\n",
              "      <td>125359</td>\n",
              "    </tr>\n",
              "    <tr>\n",
              "      <th>tumor</th>\n",
              "      <td>122770</td>\n",
              "    </tr>\n",
              "    <tr>\n",
              "      <th>cancer</th>\n",
              "      <td>120103</td>\n",
              "    </tr>\n",
              "    <tr>\n",
              "      <th>patient</th>\n",
              "      <td>111374</td>\n",
              "    </tr>\n",
              "    <tr>\n",
              "      <th>gene</th>\n",
              "      <td>102268</td>\n",
              "    </tr>\n",
              "    <tr>\n",
              "      <th>ure</th>\n",
              "      <td>99047</td>\n",
              "    </tr>\n",
              "    <tr>\n",
              "      <th>variant</th>\n",
              "      <td>90079</td>\n",
              "    </tr>\n",
              "    <tr>\n",
              "      <th>domain</th>\n",
              "      <td>84861</td>\n",
              "    </tr>\n",
              "    <tr>\n",
              "      <th>activity</th>\n",
              "      <td>84061</td>\n",
              "    </tr>\n",
              "    <tr>\n",
              "      <th>type</th>\n",
              "      <td>83665</td>\n",
              "    </tr>\n",
              "    <tr>\n",
              "      <th>expression</th>\n",
              "      <td>77903</td>\n",
              "    </tr>\n",
              "    <tr>\n",
              "      <th>kinase</th>\n",
              "      <td>76003</td>\n",
              "    </tr>\n",
              "    <tr>\n",
              "      <th>analysis</th>\n",
              "      <td>69781</td>\n",
              "    </tr>\n",
              "    <tr>\n",
              "      <th>study</th>\n",
              "      <td>68460</td>\n",
              "    </tr>\n",
              "    <tr>\n",
              "      <th>also</th>\n",
              "      <td>66221</td>\n",
              "    </tr>\n",
              "    <tr>\n",
              "      <th>using</th>\n",
              "      <td>63497</td>\n",
              "    </tr>\n",
              "    <tr>\n",
              "      <th>binding</th>\n",
              "      <td>62840</td>\n",
              "    </tr>\n",
              "  </tbody>\n",
              "</table>\n",
              "</div>\n",
              "      <button class=\"colab-df-convert\" onclick=\"convertToInteractive('df-5edf0ec6-6e5e-4ab0-aff7-731ec7b0f654')\"\n",
              "              title=\"Convert this dataframe to an interactive table.\"\n",
              "              style=\"display:none;\">\n",
              "        \n",
              "  <svg xmlns=\"http://www.w3.org/2000/svg\" height=\"24px\"viewBox=\"0 0 24 24\"\n",
              "       width=\"24px\">\n",
              "    <path d=\"M0 0h24v24H0V0z\" fill=\"none\"/>\n",
              "    <path d=\"M18.56 5.44l.94 2.06.94-2.06 2.06-.94-2.06-.94-.94-2.06-.94 2.06-2.06.94zm-11 1L8.5 8.5l.94-2.06 2.06-.94-2.06-.94L8.5 2.5l-.94 2.06-2.06.94zm10 10l.94 2.06.94-2.06 2.06-.94-2.06-.94-.94-2.06-.94 2.06-2.06.94z\"/><path d=\"M17.41 7.96l-1.37-1.37c-.4-.4-.92-.59-1.43-.59-.52 0-1.04.2-1.43.59L10.3 9.45l-7.72 7.72c-.78.78-.78 2.05 0 2.83L4 21.41c.39.39.9.59 1.41.59.51 0 1.02-.2 1.41-.59l7.78-7.78 2.81-2.81c.8-.78.8-2.07 0-2.86zM5.41 20L4 18.59l7.72-7.72 1.47 1.35L5.41 20z\"/>\n",
              "  </svg>\n",
              "      </button>\n",
              "      \n",
              "  <style>\n",
              "    .colab-df-container {\n",
              "      display:flex;\n",
              "      flex-wrap:wrap;\n",
              "      gap: 12px;\n",
              "    }\n",
              "\n",
              "    .colab-df-convert {\n",
              "      background-color: #E8F0FE;\n",
              "      border: none;\n",
              "      border-radius: 50%;\n",
              "      cursor: pointer;\n",
              "      display: none;\n",
              "      fill: #1967D2;\n",
              "      height: 32px;\n",
              "      padding: 0 0 0 0;\n",
              "      width: 32px;\n",
              "    }\n",
              "\n",
              "    .colab-df-convert:hover {\n",
              "      background-color: #E2EBFA;\n",
              "      box-shadow: 0px 1px 2px rgba(60, 64, 67, 0.3), 0px 1px 3px 1px rgba(60, 64, 67, 0.15);\n",
              "      fill: #174EA6;\n",
              "    }\n",
              "\n",
              "    [theme=dark] .colab-df-convert {\n",
              "      background-color: #3B4455;\n",
              "      fill: #D2E3FC;\n",
              "    }\n",
              "\n",
              "    [theme=dark] .colab-df-convert:hover {\n",
              "      background-color: #434B5C;\n",
              "      box-shadow: 0px 1px 3px 1px rgba(0, 0, 0, 0.15);\n",
              "      filter: drop-shadow(0px 1px 2px rgba(0, 0, 0, 0.3));\n",
              "      fill: #FFFFFF;\n",
              "    }\n",
              "  </style>\n",
              "\n",
              "      <script>\n",
              "        const buttonEl =\n",
              "          document.querySelector('#df-5edf0ec6-6e5e-4ab0-aff7-731ec7b0f654 button.colab-df-convert');\n",
              "        buttonEl.style.display =\n",
              "          google.colab.kernel.accessAllowed ? 'block' : 'none';\n",
              "\n",
              "        async function convertToInteractive(key) {\n",
              "          const element = document.querySelector('#df-5edf0ec6-6e5e-4ab0-aff7-731ec7b0f654');\n",
              "          const dataTable =\n",
              "            await google.colab.kernel.invokeFunction('convertToInteractive',\n",
              "                                                     [key], {});\n",
              "          if (!dataTable) return;\n",
              "\n",
              "          const docLinkHtml = 'Like what you see? Visit the ' +\n",
              "            '<a target=\"_blank\" href=https://colab.research.google.com/notebooks/data_table.ipynb>data table notebook</a>'\n",
              "            + ' to learn more about interactive tables.';\n",
              "          element.innerHTML = '';\n",
              "          dataTable['output_type'] = 'display_data';\n",
              "          await google.colab.output.renderOutput(dataTable, element);\n",
              "          const docLink = document.createElement('div');\n",
              "          docLink.innerHTML = docLinkHtml;\n",
              "          element.appendChild(docLink);\n",
              "        }\n",
              "      </script>\n",
              "    </div>\n",
              "  </div>\n",
              "  "
            ]
          },
          "metadata": {},
          "execution_count": 174
        }
      ],
      "source": [
        "freq_text = freq_text.drop(['0','1','2','3','4','5','6','7','8','9','10','et','al','c'])\n",
        "freq_text.head(20)"
      ]
    },
    {
      "cell_type": "code",
      "execution_count": null,
      "id": "2d4d6185",
      "metadata": {
        "id": "2d4d6185"
      },
      "outputs": [],
      "source": []
    },
    {
      "cell_type": "markdown",
      "id": "33efd44a",
      "metadata": {
        "id": "33efd44a"
      },
      "source": [
        "### ทำ wordcloud"
      ]
    },
    {
      "cell_type": "code",
      "execution_count": null,
      "id": "bd67f1b6",
      "metadata": {
        "id": "bd67f1b6"
      },
      "outputs": [],
      "source": [
        "import matplotlib.pyplot as plt\n",
        "from wordcloud import WordCloud \n",
        "\n",
        "def wordcloud(word_freq, title=None, max_words=200, stopwords=None):\n",
        "\n",
        "    wc = WordCloud(width=800, height=400, \n",
        "                   background_color= \"white\", colormap=\"tab20b\", \n",
        "                   max_font_size=150, max_words=max_words)\n",
        "    \n",
        "    # convert data frame into dict\n",
        "    if type(word_freq) == pd.Series:\n",
        "        counter = Counter(word_freq.fillna(0).to_dict())\n",
        "    else:\n",
        "        counter = word_freq\n",
        "\n",
        "    # filter stop words in frequency counter\n",
        "    if stopwords is not None:\n",
        "        counter = {token:freq for (token, freq) in counter.items() \n",
        "                              if token not in stopwords}\n",
        "    wc.generate_from_frequencies(counter)\n",
        " \n",
        "    plt.title(title) \n",
        "\n",
        "    plt.imshow(wc, interpolation='bilinear')\n",
        "    plt.axis(\"off\")"
      ]
    },
    {
      "cell_type": "code",
      "execution_count": null,
      "id": "06a8f9a7",
      "metadata": {
        "colab": {
          "base_uri": "https://localhost:8080/",
          "height": 303
        },
        "id": "06a8f9a7",
        "outputId": "bdf648f2-dd28-4f11-9696-0db2920b626f"
      },
      "outputs": [
        {
          "output_type": "display_data",
          "data": {
            "text/plain": [
              "<Figure size 1080x360 with 1 Axes>"
            ],
            "image/png": "[encoded data removed]"
          },
          "metadata": {
            "needs_background": "light"
          }
        }
      ],
      "source": [
        "plt.figure(figsize=(15,5))\n",
        "wordcloud(freq_text['freq'], max_words=100)"
      ]
    },
    {
      "cell_type": "markdown",
      "id": "d2725d05",
      "metadata": {
        "id": "d2725d05"
      },
      "source": [
        "## **3. Modeling** "
      ]
    },
    {
      "cell_type": "code",
      "source": [
        "train_merge"
      ],
      "metadata": {
        "colab": {
          "base_uri": "https://localhost:8080/",
          "height": 641
        },
        "id": "M8zDyInM6m4H",
        "outputId": "07f16764-d73c-43ac-82be-c5115f5176e7"
      },
      "id": "M8zDyInM6m4H",
      "execution_count": null,
      "outputs": [
        {
          "output_type": "execute_result",
          "data": {
            "text/plain": [
              "        ID    Gene             Variation  Class  \\\n",
              "0        0  FAM58A  Truncating Mutations      1   \n",
              "1        1     CBL                 W802*      2   \n",
              "2        2     CBL                 Q249E      2   \n",
              "3        3     CBL                 N454D      3   \n",
              "4        4     CBL                 L399V      4   \n",
              "...    ...     ...                   ...    ...   \n",
              "3316  3316   RUNX1                 D171N      4   \n",
              "3317  3317   RUNX1                 A122*      1   \n",
              "3318  3318   RUNX1               Fusions      1   \n",
              "3319  3319   RUNX1                  R80C      4   \n",
              "3320  3320   RUNX1                  K83E      4   \n",
              "\n",
              "                                                   TEXT  \\\n",
              "0     Cyclin-dependent kinases (CDKs) regulate a var...   \n",
              "1      Abstract Background  Non-small cell lung canc...   \n",
              "2      Abstract Background  Non-small cell lung canc...   \n",
              "3     Recent evidence has demonstrated that acquired...   \n",
              "4     Oncogenic mutations in the monomeric Casitas B...   \n",
              "...                                                 ...   \n",
              "3316  Introduction  Myelodysplastic syndromes (MDS) ...   \n",
              "3317  Introduction  Myelodysplastic syndromes (MDS) ...   \n",
              "3318  The Runt-related transcription factor 1 gene (...   \n",
              "3319  The RUNX1/AML1 gene is the most frequent targe...   \n",
              "3320  The most frequent mutations associated with le...   \n",
              "\n",
              "                                           TEXT_cleaned  \\\n",
              "0     cyclin dependent kinases cdks regulate variety...   \n",
              "1      abstract background non small cell lung cance...   \n",
              "2      abstract background non small cell lung cance...   \n",
              "3     recent evidence demonstrated acquired uniparen...   \n",
              "4     oncogenic mutations monomeric casitas b lineag...   \n",
              "...                                                 ...   \n",
              "3316  introduction myelodysplastic syndromes mds het...   \n",
              "3317  introduction myelodysplastic syndromes mds het...   \n",
              "3318  runt related transcription factor 1 gene runx1...   \n",
              "3319  runx1 aml1 gene frequent target chromosomal tr...   \n",
              "3320  frequent mutations associated leukemia recurre...   \n",
              "\n",
              "                                            tokens_word  \\\n",
              "0     [cyclin, dependent, kinases, cdks, regulate, v...   \n",
              "1     [abstract, background, non, small, cell, lung,...   \n",
              "2     [abstract, background, non, small, cell, lung,...   \n",
              "3     [recent, evidence, demonstrated, acquired, uni...   \n",
              "4     [oncogenic, mutations, monomeric, casitas, b, ...   \n",
              "...                                                 ...   \n",
              "3316  [introduction, myelodysplastic, syndromes, mds...   \n",
              "3317  [introduction, myelodysplastic, syndromes, mds...   \n",
              "3318  [runt, related, transcription, factor, 1, gene...   \n",
              "3319  [runx1, aml1, gene, frequent, target, chromoso...   \n",
              "3320  [frequent, mutations, associated, leukemia, re...   \n",
              "\n",
              "                                      tokens_word_lemma  num_tokens  \n",
              "0     [cyclin, dependent, kinase, cdks, regulate, va...        4294  \n",
              "1     [abstract, background, non, small, cell, lung,...        4129  \n",
              "2     [abstract, background, non, small, cell, lung,...        4129  \n",
              "3     [recent, evidence, demonstrated, acquired, uni...        3835  \n",
              "4     [oncogenic, mutation, monomeric, casitas, b, l...        4197  \n",
              "...                                                 ...         ...  \n",
              "3316  [introduction, myelodysplastic, syndrome, md, ...        8112  \n",
              "3317  [introduction, myelodysplastic, syndrome, md, ...        4473  \n",
              "3318  [runt, related, transcription, factor, 1, gene...        4568  \n",
              "3319  [runx1, aml1, gene, frequent, target, chromoso...        3335  \n",
              "3320  [frequent, mutation, associated, leukemia, rec...        6873  \n",
              "\n",
              "[3321 rows x 9 columns]"
            ],
            "text/html": [
              "\n",
              "  <div id=\"df-cc835ef2-983b-47ea-b840-0f46740bbd14\">\n",
              "    <div class=\"colab-df-container\">\n",
              "      <div>\n",
              "<style scoped>\n",
              "    .dataframe tbody tr th:only-of-type {\n",
              "        vertical-align: middle;\n",
              "    }\n",
              "\n",
              "    .dataframe tbody tr th {\n",
              "        vertical-align: top;\n",
              "    }\n",
              "\n",
              "    .dataframe thead th {\n",
              "        text-align: right;\n",
              "    }\n",
              "</style>\n",
              "<table border=\"1\" class=\"dataframe\">\n",
              "  <thead>\n",
              "    <tr style=\"text-align: right;\">\n",
              "      <th></th>\n",
              "      <th>ID</th>\n",
              "      <th>Gene</th>\n",
              "      <th>Variation</th>\n",
              "      <th>Class</th>\n",
              "      <th>TEXT</th>\n",
              "      <th>TEXT_cleaned</th>\n",
              "      <th>tokens_word</th>\n",
              "      <th>tokens_word_lemma</th>\n",
              "      <th>num_tokens</th>\n",
              "    </tr>\n",
              "  </thead>\n",
              "  <tbody>\n",
              "    <tr>\n",
              "      <th>0</th>\n",
              "      <td>0</td>\n",
              "      <td>FAM58A</td>\n",
              "      <td>Truncating Mutations</td>\n",
              "      <td>1</td>\n",
              "      <td>Cyclin-dependent kinases (CDKs) regulate a var...</td>\n",
              "      <td>cyclin dependent kinases cdks regulate variety...</td>\n",
              "      <td>[cyclin, dependent, kinases, cdks, regulate, v...</td>\n",
              "      <td>[cyclin, dependent, kinase, cdks, regulate, va...</td>\n",
              "      <td>4294</td>\n",
              "    </tr>\n",
              "    <tr>\n",
              "      <th>1</th>\n",
              "      <td>1</td>\n",
              "      <td>CBL</td>\n",
              "      <td>W802*</td>\n",
              "      <td>2</td>\n",
              "      <td>Abstract Background  Non-small cell lung canc...</td>\n",
              "      <td>abstract background non small cell lung cance...</td>\n",
              "      <td>[abstract, background, non, small, cell, lung,...</td>\n",
              "      <td>[abstract, background, non, small, cell, lung,...</td>\n",
              "      <td>4129</td>\n",
              "    </tr>\n",
              "    <tr>\n",
              "      <th>2</th>\n",
              "      <td>2</td>\n",
              "      <td>CBL</td>\n",
              "      <td>Q249E</td>\n",
              "      <td>2</td>\n",
              "      <td>Abstract Background  Non-small cell lung canc...</td>\n",
              "      <td>abstract background non small cell lung cance...</td>\n",
              "      <td>[abstract, background, non, small, cell, lung,...</td>\n",
              "      <td>[abstract, background, non, small, cell, lung,...</td>\n",
              "      <td>4129</td>\n",
              "    </tr>\n",
              "    <tr>\n",
              "      <th>3</th>\n",
              "      <td>3</td>\n",
              "      <td>CBL</td>\n",
              "      <td>N454D</td>\n",
              "      <td>3</td>\n",
              "      <td>Recent evidence has demonstrated that acquired...</td>\n",
              "      <td>recent evidence demonstrated acquired uniparen...</td>\n",
              "      <td>[recent, evidence, demonstrated, acquired, uni...</td>\n",
              "      <td>[recent, evidence, demonstrated, acquired, uni...</td>\n",
              "      <td>3835</td>\n",
              "    </tr>\n",
              "    <tr>\n",
              "      <th>4</th>\n",
              "      <td>4</td>\n",
              "      <td>CBL</td>\n",
              "      <td>L399V</td>\n",
              "      <td>4</td>\n",
              "      <td>Oncogenic mutations in the monomeric Casitas B...</td>\n",
              "      <td>oncogenic mutations monomeric casitas b lineag...</td>\n",
              "      <td>[oncogenic, mutations, monomeric, casitas, b, ...</td>\n",
              "      <td>[oncogenic, mutation, monomeric, casitas, b, l...</td>\n",
              "      <td>4197</td>\n",
              "    </tr>\n",
              "    <tr>\n",
              "      <th>...</th>\n",
              "      <td>...</td>\n",
              "      <td>...</td>\n",
              "      <td>...</td>\n",
              "      <td>...</td>\n",
              "      <td>...</td>\n",
              "      <td>...</td>\n",
              "      <td>...</td>\n",
              "      <td>...</td>\n",
              "      <td>...</td>\n",
              "    </tr>\n",
              "    <tr>\n",
              "      <th>3316</th>\n",
              "      <td>3316</td>\n",
              "      <td>RUNX1</td>\n",
              "      <td>D171N</td>\n",
              "      <td>4</td>\n",
              "      <td>Introduction  Myelodysplastic syndromes (MDS) ...</td>\n",
              "      <td>introduction myelodysplastic syndromes mds het...</td>\n",
              "      <td>[introduction, myelodysplastic, syndromes, mds...</td>\n",
              "      <td>[introduction, myelodysplastic, syndrome, md, ...</td>\n",
              "      <td>8112</td>\n",
              "    </tr>\n",
              "    <tr>\n",
              "      <th>3317</th>\n",
              "      <td>3317</td>\n",
              "      <td>RUNX1</td>\n",
              "      <td>A122*</td>\n",
              "      <td>1</td>\n",
              "      <td>Introduction  Myelodysplastic syndromes (MDS) ...</td>\n",
              "      <td>introduction myelodysplastic syndromes mds het...</td>\n",
              "      <td>[introduction, myelodysplastic, syndromes, mds...</td>\n",
              "      <td>[introduction, myelodysplastic, syndrome, md, ...</td>\n",
              "      <td>4473</td>\n",
              "    </tr>\n",
              "    <tr>\n",
              "      <th>3318</th>\n",
              "      <td>3318</td>\n",
              "      <td>RUNX1</td>\n",
              "      <td>Fusions</td>\n",
              "      <td>1</td>\n",
              "      <td>The Runt-related transcription factor 1 gene (...</td>\n",
              "      <td>runt related transcription factor 1 gene runx1...</td>\n",
              "      <td>[runt, related, transcription, factor, 1, gene...</td>\n",
              "      <td>[runt, related, transcription, factor, 1, gene...</td>\n",
              "      <td>4568</td>\n",
              "    </tr>\n",
              "    <tr>\n",
              "      <th>3319</th>\n",
              "      <td>3319</td>\n",
              "      <td>RUNX1</td>\n",
              "      <td>R80C</td>\n",
              "      <td>4</td>\n",
              "      <td>The RUNX1/AML1 gene is the most frequent targe...</td>\n",
              "      <td>runx1 aml1 gene frequent target chromosomal tr...</td>\n",
              "      <td>[runx1, aml1, gene, frequent, target, chromoso...</td>\n",
              "      <td>[runx1, aml1, gene, frequent, target, chromoso...</td>\n",
              "      <td>3335</td>\n",
              "    </tr>\n",
              "    <tr>\n",
              "      <th>3320</th>\n",
              "      <td>3320</td>\n",
              "      <td>RUNX1</td>\n",
              "      <td>K83E</td>\n",
              "      <td>4</td>\n",
              "      <td>The most frequent mutations associated with le...</td>\n",
              "      <td>frequent mutations associated leukemia recurre...</td>\n",
              "      <td>[frequent, mutations, associated, leukemia, re...</td>\n",
              "      <td>[frequent, mutation, associated, leukemia, rec...</td>\n",
              "      <td>6873</td>\n",
              "    </tr>\n",
              "  </tbody>\n",
              "</table>\n",
              "<p>3321 rows × 9 columns</p>\n",
              "</div>\n",
              "      <button class=\"colab-df-convert\" onclick=\"convertToInteractive('df-cc835ef2-983b-47ea-b840-0f46740bbd14')\"\n",
              "              title=\"Convert this dataframe to an interactive table.\"\n",
              "              style=\"display:none;\">\n",
              "        \n",
              "  <svg xmlns=\"http://www.w3.org/2000/svg\" height=\"24px\"viewBox=\"0 0 24 24\"\n",
              "       width=\"24px\">\n",
              "    <path d=\"M0 0h24v24H0V0z\" fill=\"none\"/>\n",
              "    <path d=\"M18.56 5.44l.94 2.06.94-2.06 2.06-.94-2.06-.94-.94-2.06-.94 2.06-2.06.94zm-11 1L8.5 8.5l.94-2.06 2.06-.94-2.06-.94L8.5 2.5l-.94 2.06-2.06.94zm10 10l.94 2.06.94-2.06 2.06-.94-2.06-.94-.94-2.06-.94 2.06-2.06.94z\"/><path d=\"M17.41 7.96l-1.37-1.37c-.4-.4-.92-.59-1.43-.59-.52 0-1.04.2-1.43.59L10.3 9.45l-7.72 7.72c-.78.78-.78 2.05 0 2.83L4 21.41c.39.39.9.59 1.41.59.51 0 1.02-.2 1.41-.59l7.78-7.78 2.81-2.81c.8-.78.8-2.07 0-2.86zM5.41 20L4 18.59l7.72-7.72 1.47 1.35L5.41 20z\"/>\n",
              "  </svg>\n",
              "      </button>\n",
              "      \n",
              "  <style>\n",
              "    .colab-df-container {\n",
              "      display:flex;\n",
              "      flex-wrap:wrap;\n",
              "      gap: 12px;\n",
              "    }\n",
              "\n",
              "    .colab-df-convert {\n",
              "      background-color: #E8F0FE;\n",
              "      border: none;\n",
              "      border-radius: 50%;\n",
              "      cursor: pointer;\n",
              "      display: none;\n",
              "      fill: #1967D2;\n",
              "      height: 32px;\n",
              "      padding: 0 0 0 0;\n",
              "      width: 32px;\n",
              "    }\n",
              "\n",
              "    .colab-df-convert:hover {\n",
              "      background-color: #E2EBFA;\n",
              "      box-shadow: 0px 1px 2px rgba(60, 64, 67, 0.3), 0px 1px 3px 1px rgba(60, 64, 67, 0.15);\n",
              "      fill: #174EA6;\n",
              "    }\n",
              "\n",
              "    [theme=dark] .colab-df-convert {\n",
              "      background-color: #3B4455;\n",
              "      fill: #D2E3FC;\n",
              "    }\n",
              "\n",
              "    [theme=dark] .colab-df-convert:hover {\n",
              "      background-color: #434B5C;\n",
              "      box-shadow: 0px 1px 3px 1px rgba(0, 0, 0, 0.15);\n",
              "      filter: drop-shadow(0px 1px 2px rgba(0, 0, 0, 0.3));\n",
              "      fill: #FFFFFF;\n",
              "    }\n",
              "  </style>\n",
              "\n",
              "      <script>\n",
              "        const buttonEl =\n",
              "          document.querySelector('#df-cc835ef2-983b-47ea-b840-0f46740bbd14 button.colab-df-convert');\n",
              "        buttonEl.style.display =\n",
              "          google.colab.kernel.accessAllowed ? 'block' : 'none';\n",
              "\n",
              "        async function convertToInteractive(key) {\n",
              "          const element = document.querySelector('#df-cc835ef2-983b-47ea-b840-0f46740bbd14');\n",
              "          const dataTable =\n",
              "            await google.colab.kernel.invokeFunction('convertToInteractive',\n",
              "                                                     [key], {});\n",
              "          if (!dataTable) return;\n",
              "\n",
              "          const docLinkHtml = 'Like what you see? Visit the ' +\n",
              "            '<a target=\"_blank\" href=https://colab.research.google.com/notebooks/data_table.ipynb>data table notebook</a>'\n",
              "            + ' to learn more about interactive tables.';\n",
              "          element.innerHTML = '';\n",
              "          dataTable['output_type'] = 'display_data';\n",
              "          await google.colab.output.renderOutput(dataTable, element);\n",
              "          const docLink = document.createElement('div');\n",
              "          docLink.innerHTML = docLinkHtml;\n",
              "          element.appendChild(docLink);\n",
              "        }\n",
              "      </script>\n",
              "    </div>\n",
              "  </div>\n",
              "  "
            ]
          },
          "metadata": {},
          "execution_count": 177
        }
      ]
    },
    {
      "cell_type": "code",
      "source": [
        "Data_class_1 =  train_merge.query('Class == 1')\n",
        "#Data_class_1\n",
        "Data_class_2 =  train_merge.query('Class == 2')\n",
        "Data_class_3 =  train_merge.query('Class == 3')\n",
        "Data_class_4 =  train_merge.query('Class == 4')\n",
        "Data_class_5 =  train_merge.query('Class == 5')\n",
        "Data_class_6 =  train_merge.query('Class == 6')\n",
        "Data_class_7 =  train_merge.query('Class == 7')\n",
        "Data_class_8 =  train_merge.query('Class == 8')\n",
        "Data_class_9 =  train_merge.query('Class == 9')"
      ],
      "metadata": {
        "id": "ETwsWfcx7sSQ"
      },
      "id": "ETwsWfcx7sSQ",
      "execution_count": null,
      "outputs": []
    },
    {
      "cell_type": "code",
      "source": [
        "from sklearn.decomposition import LatentDirichletAllocation\n",
        "lda = LatentDirichletAllocation(n_components=9, max_iter=5,\n",
        "                                learning_method='online',\n",
        "                                learning_offset=50.,\n",
        "                                random_state=0)"
      ],
      "metadata": {
        "id": "AUueQIgc6Gcd"
      },
      "id": "AUueQIgc6Gcd",
      "execution_count": null,
      "outputs": []
    },
    {
      "cell_type": "markdown",
      "source": [
        "## Class 1 "
      ],
      "metadata": {
        "id": "qaJrtZgK8raX"
      },
      "id": "qaJrtZgK8raX"
    },
    {
      "cell_type": "code",
      "source": [
        "from sklearn.feature_extraction.text import CountVectorizer\n",
        "n_features = 50\n",
        "tf_vectorizer = CountVectorizer(max_df=0.95, min_df=2,\n",
        "                                max_features=50,\n",
        "                                stop_words='english')\n",
        "tf = tf_vectorizer.fit_transform(Data_class_1['TEXT_cleaned'])"
      ],
      "metadata": {
        "id": "c8npUHJ-6Mqq"
      },
      "id": "c8npUHJ-6Mqq",
      "execution_count": null,
      "outputs": []
    },
    {
      "cell_type": "code",
      "source": [
        "tf_feature_names = tf_vectorizer.get_feature_names()\n",
        "tf_feature_names"
      ],
      "metadata": {
        "colab": {
          "base_uri": "https://localhost:8080/"
        },
        "id": "jYEY_D1T6Ps_",
        "outputId": "6b4a671b-5041-4f1c-9a20-7ff8f30186a7"
      },
      "id": "jYEY_D1T6Ps_",
      "execution_count": null,
      "outputs": [
        {
          "output_type": "stream",
          "name": "stderr",
          "text": [
            "/usr/local/lib/python3.7/dist-packages/sklearn/utils/deprecation.py:87: FutureWarning: Function get_feature_names is deprecated; get_feature_names is deprecated in 1.0 and will be removed in 1.2. Please use get_feature_names_out instead.\n",
            "  warnings.warn(msg, category=FutureWarning)\n"
          ]
        },
        {
          "output_type": "execute_result",
          "data": {
            "text/plain": [
              "['15',\n",
              " 'activation',\n",
              " 'activity',\n",
              " 'amino',\n",
              " 'assay',\n",
              " 'assays',\n",
              " 'associated',\n",
              " 'binding',\n",
              " 'brca1',\n",
              " 'breast',\n",
              " 'cancer',\n",
              " 'cases',\n",
              " 'complex',\n",
              " 'control',\n",
              " 'deletion',\n",
              " 'different',\n",
              " 'dna',\n",
              " 'domain',\n",
              " 'exon',\n",
              " 'family',\n",
              " 'functional',\n",
              " 'genes',\n",
              " 'human',\n",
              " 'levels',\n",
              " 'lines',\n",
              " 'loss',\n",
              " 'missense',\n",
              " 'mutant',\n",
              " 'mutants',\n",
              " 'p53',\n",
              " 'patients',\n",
              " 'proteins',\n",
              " 'region',\n",
              " 'residues',\n",
              " 'sequence',\n",
              " 'shown',\n",
              " 'site',\n",
              " 'smad3',\n",
              " 'structure',\n",
              " 'studies',\n",
              " 'supplementary',\n",
              " 'transcriptional',\n",
              " 'tsc2',\n",
              " 'tumor',\n",
              " 'tumors',\n",
              " 'ure',\n",
              " 'used',\n",
              " 'variant',\n",
              " 'variants',\n",
              " 'wild']"
            ]
          },
          "metadata": {},
          "execution_count": 181
        }
      ]
    },
    {
      "cell_type": "code",
      "source": [
        "lda.fit(tf)"
      ],
      "metadata": {
        "colab": {
          "base_uri": "https://localhost:8080/"
        },
        "id": "r7Zvj8Yi6WqY",
        "outputId": "a7d97c1c-90aa-4324-bd7a-19e743c2a3bd"
      },
      "id": "r7Zvj8Yi6WqY",
      "execution_count": null,
      "outputs": [
        {
          "output_type": "execute_result",
          "data": {
            "text/plain": [
              "LatentDirichletAllocation(learning_method='online', learning_offset=50.0,\n",
              "                          max_iter=5, n_components=9, random_state=0)"
            ]
          },
          "metadata": {},
          "execution_count": 182
        }
      ]
    },
    {
      "cell_type": "code",
      "source": [
        "def print_top_words(model, feature_names, n_top_words):\n",
        "    for topic_idx, topic in enumerate(model.components_):\n",
        "        print(\"Topic #%d:\" % topic_idx)\n",
        "        print(\" \".join([feature_names[i]\n",
        "                        for i in topic.argsort()[:-n_top_words - 1:-1]]))\n",
        "    print()"
      ],
      "metadata": {
        "id": "jS9Ex5a56ZcU"
      },
      "id": "jS9Ex5a56ZcU",
      "execution_count": null,
      "outputs": []
    },
    {
      "cell_type": "code",
      "source": [
        "print_top_words(lda, tf_feature_names, 10)"
      ],
      "metadata": {
        "colab": {
          "base_uri": "https://localhost:8080/"
        },
        "id": "4MVvtoOi6bUz",
        "outputId": "fc3e8716-0efe-439b-d8de-56d756ddca47"
      },
      "id": "4MVvtoOi6bUz",
      "execution_count": null,
      "outputs": [
        {
          "output_type": "stream",
          "name": "stdout",
          "text": [
            "Topic #0:\n",
            "ure domain binding proteins mutant dna activity wild mutants residues\n",
            "Topic #1:\n",
            "patients exon cancer deletion cases dna family genes ure associated\n",
            "Topic #2:\n",
            "tumor tumors cancer ure genes loss lines supplementary dna human\n",
            "Topic #3:\n",
            "p53 dna binding wild domain mutant ure site mutants levels\n",
            "Topic #4:\n",
            "binding smad3 complex proteins tsc2 wild ure amino domain activity\n",
            "Topic #5:\n",
            "p53 mutant mutants wild activity dna domain binding cancer transcriptional\n",
            "Topic #6:\n",
            "tsc2 variants variant wild amino ure control assay cases different\n",
            "Topic #7:\n",
            "brca1 breast cancer dna transcriptional binding activation wild domain structure\n",
            "Topic #8:\n",
            "variants cancer functional assays variant brca1 missense binding assay used\n",
            "\n"
          ]
        }
      ]
    },
    {
      "cell_type": "markdown",
      "source": [
        "## Class 2"
      ],
      "metadata": {
        "id": "hhBEWUPz81X8"
      },
      "id": "hhBEWUPz81X8"
    },
    {
      "cell_type": "code",
      "source": [
        "from sklearn.feature_extraction.text import CountVectorizer\n",
        "n_features = 50\n",
        "tf_vectorizer = CountVectorizer(max_df=0.95, min_df=2,\n",
        "                                max_features=50,\n",
        "                                stop_words='english')\n",
        "tf = tf_vectorizer.fit_transform(Data_class_2['TEXT_cleaned'])"
      ],
      "metadata": {
        "id": "Z80UuWPs81X8"
      },
      "execution_count": null,
      "outputs": [],
      "id": "Z80UuWPs81X8"
    },
    {
      "cell_type": "code",
      "source": [
        "tf_feature_names = tf_vectorizer.get_feature_names()\n",
        "tf_feature_names"
      ],
      "metadata": {
        "colab": {
          "base_uri": "https://localhost:8080/"
        },
        "outputId": "3919cf7b-116d-4b9d-9343-1bcba7794f79",
        "id": "HLkWycJz81X9"
      },
      "execution_count": null,
      "outputs": [
        {
          "output_type": "execute_result",
          "data": {
            "text/plain": [
              "['11',\n",
              " '20',\n",
              " 'activation',\n",
              " 'activity',\n",
              " 'associated',\n",
              " 'binding',\n",
              " 'braf',\n",
              " 'cancer',\n",
              " 'cases',\n",
              " 'clinical',\n",
              " 'dna',\n",
              " 'domain',\n",
              " 'egfr',\n",
              " 'exon',\n",
              " 'expression',\n",
              " 'fusion',\n",
              " 'gene',\n",
              " 'genes',\n",
              " 'growth',\n",
              " 'identified',\n",
              " 'imatinib',\n",
              " 'kinase',\n",
              " 'kit',\n",
              " 'lines',\n",
              " 'met',\n",
              " 'mutant',\n",
              " 'mutants',\n",
              " 'mutation',\n",
              " 'mutations',\n",
              " 'notch',\n",
              " 'number',\n",
              " 'observed',\n",
              " 'pathway',\n",
              " 'patient',\n",
              " 'patients',\n",
              " 'protein',\n",
              " 'raf',\n",
              " 'ras',\n",
              " 'resistance',\n",
              " 'response',\n",
              " 'samples',\n",
              " 'shown',\n",
              " 'signaling',\n",
              " 'study',\n",
              " 'treatment',\n",
              " 'tumor',\n",
              " 'tumors',\n",
              " 'type',\n",
              " 'ure',\n",
              " 'wild']"
            ]
          },
          "metadata": {},
          "execution_count": 186
        }
      ],
      "id": "HLkWycJz81X9"
    },
    {
      "cell_type": "code",
      "source": [
        "lda.fit(tf)"
      ],
      "metadata": {
        "colab": {
          "base_uri": "https://localhost:8080/"
        },
        "outputId": "155902a9-31cb-43bb-91e7-3dacd32e2c1b",
        "id": "U4yTqCIv81X9"
      },
      "execution_count": null,
      "outputs": [
        {
          "output_type": "execute_result",
          "data": {
            "text/plain": [
              "LatentDirichletAllocation(learning_method='online', learning_offset=50.0,\n",
              "                          max_iter=5, n_components=9, random_state=0)"
            ]
          },
          "metadata": {},
          "execution_count": 187
        }
      ],
      "id": "U4yTqCIv81X9"
    },
    {
      "cell_type": "code",
      "source": [
        "def print_top_words(model, feature_names, n_top_words):\n",
        "    for topic_idx, topic in enumerate(model.components_):\n",
        "        print(\"Topic #%d:\" % topic_idx)\n",
        "        print(\" \".join([feature_names[i]\n",
        "                        for i in topic.argsort()[:-n_top_words - 1:-1]]))\n",
        "    print()"
      ],
      "metadata": {
        "id": "jh22GCpq81X9"
      },
      "execution_count": null,
      "outputs": [],
      "id": "jh22GCpq81X9"
    },
    {
      "cell_type": "code",
      "source": [
        "print_top_words(lda, tf_feature_names, 10)"
      ],
      "metadata": {
        "colab": {
          "base_uri": "https://localhost:8080/"
        },
        "outputId": "db0a2381-f679-42c9-fd4e-a6ce9239a43f",
        "id": "MaBqUYhf81X9"
      },
      "execution_count": null,
      "outputs": [
        {
          "output_type": "stream",
          "name": "stdout",
          "text": [
            "Topic #0:\n",
            "gene expression cancer fusion genes ure tumor tumors protein cases\n",
            "Topic #1:\n",
            "kinase mutations mutant activity domain mutants protein activation type mutation\n",
            "Topic #2:\n",
            "braf ras raf met mutations activation kinase ure cancer activity\n",
            "Topic #3:\n",
            "patients patient mutations kinase clinical treatment domain fusion response gene\n",
            "Topic #4:\n",
            "resistance ure mutations mutation tumor pathway tumors treatment clinical identified\n",
            "Topic #5:\n",
            "kit mutations imatinib patients exon mutation 11 resistance response kinase\n",
            "Topic #6:\n",
            "notch signaling mutations pathway domain tumor cancer activation expression growth\n",
            "Topic #7:\n",
            "egfr mutations patients exon mutation response 20 clinical treatment study\n",
            "Topic #8:\n",
            "mutations mutation patients cancer tumor tumors dna mutant ure type\n",
            "\n"
          ]
        }
      ],
      "id": "MaBqUYhf81X9"
    },
    {
      "cell_type": "markdown",
      "source": [
        "## Class 3\n"
      ],
      "metadata": {
        "id": "TB4FmHpA-ppR"
      },
      "id": "TB4FmHpA-ppR"
    },
    {
      "cell_type": "code",
      "source": [
        "from sklearn.feature_extraction.text import CountVectorizer\n",
        "n_features = 50\n",
        "tf_vectorizer = CountVectorizer(max_df=0.95, min_df=2,\n",
        "                                max_features=50,\n",
        "                                stop_words='english')\n",
        "tf = tf_vectorizer.fit_transform(Data_class_3['TEXT_cleaned'])"
      ],
      "metadata": {
        "id": "p8Udu9zD-ppS"
      },
      "execution_count": null,
      "outputs": [],
      "id": "p8Udu9zD-ppS"
    },
    {
      "cell_type": "code",
      "source": [
        "tf_feature_names = tf_vectorizer.get_feature_names()\n",
        "tf_feature_names"
      ],
      "metadata": {
        "colab": {
          "base_uri": "https://localhost:8080/"
        },
        "outputId": "8c6143dc-ee97-4b08-fa38-80cbc46cafa5",
        "id": "Hu6WBCVz-ppS"
      },
      "execution_count": null,
      "outputs": [
        {
          "output_type": "execute_result",
          "data": {
            "text/plain": [
              "['acid',\n",
              " 'activating',\n",
              " 'activation',\n",
              " 'alk',\n",
              " 'amino',\n",
              " 'analyzed',\n",
              " 'assay',\n",
              " 'assays',\n",
              " 'associated',\n",
              " 'based',\n",
              " 'binding',\n",
              " 'brca1',\n",
              " 'breast',\n",
              " 'control',\n",
              " 'dna',\n",
              " 'erbb4',\n",
              " 'expressing',\n",
              " 'flt3',\n",
              " 'function',\n",
              " 'functional',\n",
              " 'gene',\n",
              " 'growth',\n",
              " 'human',\n",
              " 'identified',\n",
              " 'kinase',\n",
              " 'levels',\n",
              " 'missense',\n",
              " 'mtor',\n",
              " 'mutants',\n",
              " 'neutral',\n",
              " 'patients',\n",
              " 'pdgfra',\n",
              " 'phosphorylation',\n",
              " 'proteins',\n",
              " 'pten',\n",
              " 'receptor',\n",
              " 'recombination',\n",
              " 'repair',\n",
              " 'residues',\n",
              " 'sequence',\n",
              " 'signaling',\n",
              " 'ssa',\n",
              " 'study',\n",
              " 'supplementary',\n",
              " 'tsc1',\n",
              " 'tumor',\n",
              " 'variant',\n",
              " 'variants',\n",
              " 'vus',\n",
              " 'wt']"
            ]
          },
          "metadata": {},
          "execution_count": 191
        }
      ],
      "id": "Hu6WBCVz-ppS"
    },
    {
      "cell_type": "code",
      "source": [
        "lda.fit(tf)"
      ],
      "metadata": {
        "colab": {
          "base_uri": "https://localhost:8080/"
        },
        "outputId": "80e92ae0-9397-43d9-e4c9-138d2127e9a6",
        "id": "HHtL1q4N-ppT"
      },
      "execution_count": null,
      "outputs": [
        {
          "output_type": "execute_result",
          "data": {
            "text/plain": [
              "LatentDirichletAllocation(learning_method='online', learning_offset=50.0,\n",
              "                          max_iter=5, n_components=9, random_state=0)"
            ]
          },
          "metadata": {},
          "execution_count": 192
        }
      ],
      "id": "HHtL1q4N-ppT"
    },
    {
      "cell_type": "code",
      "source": [
        "def print_top_words(model, feature_names, n_top_words):\n",
        "    for topic_idx, topic in enumerate(model.components_):\n",
        "        print(\"Topic #%d:\" % topic_idx)\n",
        "        print(\" \".join([feature_names[i]\n",
        "                        for i in topic.argsort()[:-n_top_words - 1:-1]]))\n",
        "    print()"
      ],
      "metadata": {
        "id": "GI1QturR-ppT"
      },
      "execution_count": null,
      "outputs": [],
      "id": "GI1QturR-ppT"
    },
    {
      "cell_type": "code",
      "source": [
        "print_top_words(lda, tf_feature_names, 10)"
      ],
      "metadata": {
        "colab": {
          "base_uri": "https://localhost:8080/"
        },
        "outputId": "dcefadc1-6db3-4f0b-f611-6b5f36599667",
        "id": "8TIu1qaV-ppT"
      },
      "execution_count": null,
      "outputs": [
        {
          "output_type": "stream",
          "name": "stdout",
          "text": [
            "Topic #0:\n",
            "flt3 kinase dna sequence signaling activation expressing patients phosphorylation identified\n",
            "Topic #1:\n",
            "alk variants brca1 activating variant patients functional kinase tsc1 assays\n",
            "Topic #2:\n",
            "brca1 variants erbb4 assay ssa recombination repair variant missense mutants\n",
            "Topic #3:\n",
            "brca1 variants assay vus functional neutral assays variant dna function\n",
            "Topic #4:\n",
            "mtor activating supplementary signaling amino mutants identified brca1 variants wt\n",
            "Topic #5:\n",
            "alk pten mutants human kinase patients activation tumor function growth\n",
            "Topic #6:\n",
            "tsc1 variants missense identified phosphorylation variant amino gene patients mtor\n",
            "Topic #7:\n",
            "pdgfra patients receptor breast kinase wt mutants phosphorylation growth gene\n",
            "Topic #8:\n",
            "binding growth recombination vus tumor assay wt missense breast human\n",
            "\n"
          ]
        }
      ],
      "id": "8TIu1qaV-ppT"
    },
    {
      "cell_type": "markdown",
      "source": [
        "## Class 4\n"
      ],
      "metadata": {
        "id": "qDlYrzquD60h"
      },
      "id": "qDlYrzquD60h"
    },
    {
      "cell_type": "code",
      "source": [
        "from sklearn.feature_extraction.text import CountVectorizer\n",
        "n_features = 50\n",
        "tf_vectorizer = CountVectorizer(max_df=0.95, min_df=2,\n",
        "                                max_features=50,\n",
        "                                stop_words='english')\n",
        "tf = tf_vectorizer.fit_transform(Data_class_4['TEXT_cleaned'])"
      ],
      "metadata": {
        "id": "aq1lF3zlD60i"
      },
      "execution_count": null,
      "outputs": [],
      "id": "aq1lF3zlD60i"
    },
    {
      "cell_type": "code",
      "source": [
        "tf_feature_names = tf_vectorizer.get_feature_names()\n",
        "tf_feature_names"
      ],
      "metadata": {
        "colab": {
          "base_uri": "https://localhost:8080/"
        },
        "outputId": "2a02434d-5005-4182-fb96-69e6a2775042",
        "id": "dV3IPtN0D60i"
      },
      "execution_count": null,
      "outputs": [
        {
          "output_type": "execute_result",
          "data": {
            "text/plain": [
              "['20',\n",
              " 'acid',\n",
              " 'activation',\n",
              " 'activity',\n",
              " 'amino',\n",
              " 'assay',\n",
              " 'assays',\n",
              " 'associated',\n",
              " 'binding',\n",
              " 'brca1',\n",
              " 'cancer',\n",
              " 'catalytic',\n",
              " 'control',\n",
              " 'described',\n",
              " 'dna',\n",
              " 'domain',\n",
              " 'function',\n",
              " 'functional',\n",
              " 'genes',\n",
              " 'growth',\n",
              " 'identified',\n",
              " 'interaction',\n",
              " 'kinase',\n",
              " 'levels',\n",
              " 'loss',\n",
              " 'missense',\n",
              " 'mm',\n",
              " 'mutant',\n",
              " 'mutants',\n",
              " 'p53',\n",
              " 'patients',\n",
              " 'phosphatase',\n",
              " 'proteins',\n",
              " 'pten',\n",
              " 'ras',\n",
              " 'residues',\n",
              " 'sequence',\n",
              " 'site',\n",
              " 'spop',\n",
              " 'study',\n",
              " 'supplementary',\n",
              " 'transfected',\n",
              " 'tumor',\n",
              " 'tumors',\n",
              " 'ure',\n",
              " 'used',\n",
              " 'variant',\n",
              " 'variants',\n",
              " 'wild',\n",
              " 'wt']"
            ]
          },
          "metadata": {},
          "execution_count": 196
        }
      ],
      "id": "dV3IPtN0D60i"
    },
    {
      "cell_type": "code",
      "source": [
        "lda.fit(tf)"
      ],
      "metadata": {
        "colab": {
          "base_uri": "https://localhost:8080/"
        },
        "outputId": "48d042fa-ace6-486b-b7ed-092075f9ae58",
        "id": "8hV16b0RD60i"
      },
      "execution_count": null,
      "outputs": [
        {
          "output_type": "execute_result",
          "data": {
            "text/plain": [
              "LatentDirichletAllocation(learning_method='online', learning_offset=50.0,\n",
              "                          max_iter=5, n_components=9, random_state=0)"
            ]
          },
          "metadata": {},
          "execution_count": 197
        }
      ],
      "id": "8hV16b0RD60i"
    },
    {
      "cell_type": "code",
      "source": [
        "def print_top_words(model, feature_names, n_top_words):\n",
        "    for topic_idx, topic in enumerate(model.components_):\n",
        "        print(\"Topic #%d:\" % topic_idx)\n",
        "        print(\" \".join([feature_names[i]\n",
        "                        for i in topic.argsort()[:-n_top_words - 1:-1]]))\n",
        "    print()"
      ],
      "metadata": {
        "id": "JLX4PHV6D60i"
      },
      "execution_count": null,
      "outputs": [],
      "id": "JLX4PHV6D60i"
    },
    {
      "cell_type": "code",
      "source": [
        "print_top_words(lda, tf_feature_names, 10)"
      ],
      "metadata": {
        "colab": {
          "base_uri": "https://localhost:8080/"
        },
        "outputId": "1b92b890-bd3e-4b8f-dc20-cfd73e825d4b",
        "id": "A7pAQLSND60j"
      },
      "execution_count": null,
      "outputs": [
        {
          "output_type": "stream",
          "name": "stdout",
          "text": [
            "Topic #0:\n",
            "dna patients cancer tumors genes binding domain site ure tumor\n",
            "Topic #1:\n",
            "activity catalytic residues kinase acid amino proteins mutant function phosphatase\n",
            "Topic #2:\n",
            "ure tumor genes cancer supplementary tumors mutant identified domain loss\n",
            "Topic #3:\n",
            "brca1 ras cancer activation activity assay ure function loss dna\n",
            "Topic #4:\n",
            "variants variant functional missense assays wild assay binding function activity\n",
            "Topic #5:\n",
            "mutants wt p53 mutant cancer patients activity function associated ure\n",
            "Topic #6:\n",
            "binding ure proteins domain mutant wild mutants activity interaction mm\n",
            "Topic #7:\n",
            "p53 mutant dna binding mutants ure cancer wild activity domain\n",
            "Topic #8:\n",
            "pten spop phosphatase activity tumor ure patients associated cancer proteins\n",
            "\n"
          ]
        }
      ],
      "id": "A7pAQLSND60j"
    },
    {
      "cell_type": "markdown",
      "source": [
        "## Class 5\n"
      ],
      "metadata": {
        "id": "uLzH3GM_D-Rb"
      },
      "id": "uLzH3GM_D-Rb"
    },
    {
      "cell_type": "code",
      "source": [
        "from sklearn.feature_extraction.text import CountVectorizer\n",
        "n_features = 50\n",
        "tf_vectorizer = CountVectorizer(max_df=0.95, min_df=2,\n",
        "                                max_features=50,\n",
        "                                stop_words='english')\n",
        "tf = tf_vectorizer.fit_transform(Data_class_5['TEXT_cleaned'])"
      ],
      "metadata": {
        "id": "r7IDmX9rD-Rc"
      },
      "execution_count": null,
      "outputs": [],
      "id": "r7IDmX9rD-Rc"
    },
    {
      "cell_type": "code",
      "source": [
        "tf_feature_names = tf_vectorizer.get_feature_names()\n",
        "tf_feature_names"
      ],
      "metadata": {
        "colab": {
          "base_uri": "https://localhost:8080/"
        },
        "outputId": "6ead1aa1-79b2-4a4f-ba7c-ccd460830c98",
        "id": "mAVR1EatD-Rc"
      },
      "execution_count": null,
      "outputs": [
        {
          "output_type": "execute_result",
          "data": {
            "text/plain": [
              "['activation',\n",
              " 'assay',\n",
              " 'assays',\n",
              " 'associated',\n",
              " 'author',\n",
              " 'binding',\n",
              " 'brca1',\n",
              " 'brca2',\n",
              " 'brct',\n",
              " 'breast',\n",
              " 'class',\n",
              " 'classification',\n",
              " 'clinical',\n",
              " 'control',\n",
              " 'deleterious',\n",
              " 'dna',\n",
              " 'domain',\n",
              " 'domains',\n",
              " 'effect',\n",
              " 'family',\n",
              " 'functional',\n",
              " 'genes',\n",
              " 'genetic',\n",
              " 'human',\n",
              " 'kinase',\n",
              " 'known',\n",
              " 'levels',\n",
              " 'likely',\n",
              " 'missense',\n",
              " 'mutant',\n",
              " 'mutants',\n",
              " 'neutral',\n",
              " 'number',\n",
              " 'pathogenic',\n",
              " 'patients',\n",
              " 'proteins',\n",
              " 'residues',\n",
              " 'risk',\n",
              " 'sensitivity',\n",
              " 'sequence',\n",
              " 'structure',\n",
              " 'studies',\n",
              " 'supplementary',\n",
              " 'tumor',\n",
              " 'tumors',\n",
              " 'ure',\n",
              " 'variant',\n",
              " 'variants',\n",
              " 'vus',\n",
              " 'wild']"
            ]
          },
          "metadata": {},
          "execution_count": 201
        }
      ],
      "id": "mAVR1EatD-Rc"
    },
    {
      "cell_type": "code",
      "source": [
        "lda.fit(tf)"
      ],
      "metadata": {
        "colab": {
          "base_uri": "https://localhost:8080/"
        },
        "outputId": "0817549f-fa59-4c2a-ad67-8075ad2d1766",
        "id": "1e0T6z65D-Rd"
      },
      "execution_count": null,
      "outputs": [
        {
          "output_type": "execute_result",
          "data": {
            "text/plain": [
              "LatentDirichletAllocation(learning_method='online', learning_offset=50.0,\n",
              "                          max_iter=5, n_components=9, random_state=0)"
            ]
          },
          "metadata": {},
          "execution_count": 202
        }
      ],
      "id": "1e0T6z65D-Rd"
    },
    {
      "cell_type": "code",
      "source": [
        "def print_top_words(model, feature_names, n_top_words):\n",
        "    for topic_idx, topic in enumerate(model.components_):\n",
        "        print(\"Topic #%d:\" % topic_idx)\n",
        "        print(\" \".join([feature_names[i]\n",
        "                        for i in topic.argsort()[:-n_top_words - 1:-1]]))\n",
        "    print()"
      ],
      "metadata": {
        "id": "u-GW_Og6D-Rd"
      },
      "execution_count": null,
      "outputs": [],
      "id": "u-GW_Og6D-Rd"
    },
    {
      "cell_type": "code",
      "source": [
        "print_top_words(lda, tf_feature_names, 10)"
      ],
      "metadata": {
        "colab": {
          "base_uri": "https://localhost:8080/"
        },
        "outputId": "dfc7c504-fea5-4d14-8676-42c3302c9b8c",
        "id": "9ep8m-P6D-Rd"
      },
      "execution_count": null,
      "outputs": [
        {
          "output_type": "stream",
          "name": "stdout",
          "text": [
            "Topic #0:\n",
            "brca1 vus variants neutral deleterious brca2 functional assays assay sequence\n",
            "Topic #1:\n",
            "variants variant classification class pathogenic clinical family missense functional assay\n",
            "Topic #2:\n",
            "ure dna structure residues variants kinase binding supplementary proteins studies\n",
            "Topic #3:\n",
            "domain dna breast binding residues studies domains proteins number wild\n",
            "Topic #4:\n",
            "variants brca1 brct binding functional assays structure missense wild author\n",
            "Topic #5:\n",
            "kinase mutant mutants wild patients ure binding domain activation tumor\n",
            "Topic #6:\n",
            "ure human activation variants domain tumors wild mutants kinase mutant\n",
            "Topic #7:\n",
            "tumors tumor studies genes known number variants functional wild breast\n",
            "Topic #8:\n",
            "ure residues proteins mutant wild binding domain missense mutants levels\n",
            "\n"
          ]
        }
      ],
      "id": "9ep8m-P6D-Rd"
    },
    {
      "cell_type": "markdown",
      "source": [
        "## Class 6\n"
      ],
      "metadata": {
        "id": "yKaYMgxzEAt1"
      },
      "id": "yKaYMgxzEAt1"
    },
    {
      "cell_type": "code",
      "source": [
        "from sklearn.feature_extraction.text import CountVectorizer\n",
        "n_features = 50\n",
        "tf_vectorizer = CountVectorizer(max_df=0.95, min_df=2,\n",
        "                                max_features=50,\n",
        "                                stop_words='english')\n",
        "tf = tf_vectorizer.fit_transform(Data_class_6['TEXT_cleaned'])"
      ],
      "metadata": {
        "id": "AUzs_3hlEAt1"
      },
      "execution_count": null,
      "outputs": [],
      "id": "AUzs_3hlEAt1"
    },
    {
      "cell_type": "code",
      "source": [
        "tf_feature_names = tf_vectorizer.get_feature_names()\n",
        "tf_feature_names"
      ],
      "metadata": {
        "colab": {
          "base_uri": "https://localhost:8080/"
        },
        "outputId": "dad81306-0957-49dc-8df3-176d7b747b87",
        "id": "stUOifHxEAt2"
      },
      "execution_count": null,
      "outputs": [
        {
          "output_type": "execute_result",
          "data": {
            "text/plain": [
              "['11',\n",
              " '12',\n",
              " '20',\n",
              " 'activation',\n",
              " 'activity',\n",
              " 'assay',\n",
              " 'associated',\n",
              " 'bard1',\n",
              " 'binding',\n",
              " 'brca',\n",
              " 'brca1',\n",
              " 'brca2',\n",
              " 'breast',\n",
              " 'cell',\n",
              " 'cells',\n",
              " 'clinical',\n",
              " 'deleterious',\n",
              " 'dna',\n",
              " 'domains',\n",
              " 'e2',\n",
              " 'erbb2',\n",
              " 'expression',\n",
              " 'family',\n",
              " 'function',\n",
              " 'functional',\n",
              " 'history',\n",
              " 'interaction',\n",
              " 'kinase',\n",
              " 'known',\n",
              " 'likely',\n",
              " 'loss',\n",
              " 'missense',\n",
              " 'mutant',\n",
              " 'neutral',\n",
              " 'observed',\n",
              " 'odds',\n",
              " 'patients',\n",
              " 'proteins',\n",
              " 'residues',\n",
              " 'resistance',\n",
              " 'sequence',\n",
              " 'site',\n",
              " 'structure',\n",
              " 'tumor',\n",
              " 'tumors',\n",
              " 'ure',\n",
              " 'variant',\n",
              " 'variants',\n",
              " 'vus',\n",
              " 'wild']"
            ]
          },
          "metadata": {},
          "execution_count": 206
        }
      ],
      "id": "stUOifHxEAt2"
    },
    {
      "cell_type": "code",
      "source": [
        "lda.fit(tf)"
      ],
      "metadata": {
        "colab": {
          "base_uri": "https://localhost:8080/"
        },
        "outputId": "1c5c7dc6-5d71-47f8-e13b-cad6013ac66b",
        "id": "_gBLHw88EAt2"
      },
      "execution_count": null,
      "outputs": [
        {
          "output_type": "execute_result",
          "data": {
            "text/plain": [
              "LatentDirichletAllocation(learning_method='online', learning_offset=50.0,\n",
              "                          max_iter=5, n_components=9, random_state=0)"
            ]
          },
          "metadata": {},
          "execution_count": 207
        }
      ],
      "id": "_gBLHw88EAt2"
    },
    {
      "cell_type": "code",
      "source": [
        "def print_top_words(model, feature_names, n_top_words):\n",
        "    for topic_idx, topic in enumerate(model.components_):\n",
        "        print(\"Topic #%d:\" % topic_idx)\n",
        "        print(\" \".join([feature_names[i]\n",
        "                        for i in topic.argsort()[:-n_top_words - 1:-1]]))\n",
        "    print()"
      ],
      "metadata": {
        "id": "3NIW7XpOEAt2"
      },
      "execution_count": null,
      "outputs": [],
      "id": "3NIW7XpOEAt2"
    },
    {
      "cell_type": "code",
      "source": [
        "print_top_words(lda, tf_feature_names, 10)"
      ],
      "metadata": {
        "colab": {
          "base_uri": "https://localhost:8080/"
        },
        "outputId": "3cfed55c-03ab-4a81-9e95-0c376bbda196",
        "id": "fXi8x1piEAt2"
      },
      "execution_count": null,
      "outputs": [
        {
          "output_type": "stream",
          "name": "stdout",
          "text": [
            "Topic #0:\n",
            "cells ure dna erbb2 cell associated resistance activity binding expression\n",
            "Topic #1:\n",
            "brca1 variants assay cells functional missense variant activity expression breast\n",
            "Topic #2:\n",
            "variants brca1 deleterious brca2 vus family sequence variant neutral history\n",
            "Topic #3:\n",
            "patients expression cells tumor tumors ure cell clinical mutant 12\n",
            "Topic #4:\n",
            "binding site kinase resistance variants ure cells residues activation structure\n",
            "Topic #5:\n",
            "cell cells kinase expression observed ure activation loss tumor mutant\n",
            "Topic #6:\n",
            "mutant wild activity binding function cells cell proteins structure residues\n",
            "Topic #7:\n",
            "brca tumors odds deleterious variants history family breast variant brca2\n",
            "Topic #8:\n",
            "brca1 e2 interaction bard1 activity variants tumor missense loss binding\n",
            "\n"
          ]
        }
      ],
      "id": "fXi8x1piEAt2"
    },
    {
      "cell_type": "markdown",
      "source": [
        "## Class 7\n"
      ],
      "metadata": {
        "id": "aK52anFUECdo"
      },
      "id": "aK52anFUECdo"
    },
    {
      "cell_type": "code",
      "source": [
        "from sklearn.feature_extraction.text import CountVectorizer\n",
        "n_features = 50\n",
        "tf_vectorizer = CountVectorizer(max_df=0.95, min_df=2,\n",
        "                                max_features=50,\n",
        "                                stop_words='english')\n",
        "tf = tf_vectorizer.fit_transform(Data_class_7['TEXT_cleaned'])"
      ],
      "metadata": {
        "id": "ZdFDD6uBECdo"
      },
      "execution_count": null,
      "outputs": [],
      "id": "ZdFDD6uBECdo"
    },
    {
      "cell_type": "code",
      "source": [
        "tf_feature_names = tf_vectorizer.get_feature_names()\n",
        "tf_feature_names"
      ],
      "metadata": {
        "colab": {
          "base_uri": "https://localhost:8080/"
        },
        "outputId": "2a251ffd-0878-4866-ac6d-bd45ace31d13",
        "id": "sqPctqPyECdp"
      },
      "execution_count": null,
      "outputs": [
        {
          "output_type": "execute_result",
          "data": {
            "text/plain": [
              "['11',\n",
              " '14',\n",
              " 'alk',\n",
              " 'associated',\n",
              " 'binding',\n",
              " 'braf',\n",
              " 'cancer',\n",
              " 'clinical',\n",
              " 'disease',\n",
              " 'dna',\n",
              " 'egfr',\n",
              " 'exon',\n",
              " 'expressing',\n",
              " 'flt3',\n",
              " 'gefitinib',\n",
              " 'gene',\n",
              " 'genes',\n",
              " 'growth',\n",
              " 'human',\n",
              " 'imatinib',\n",
              " 'inhibitor',\n",
              " 'inhibitors',\n",
              " 'kit',\n",
              " 'levels',\n",
              " 'lines',\n",
              " 'lung',\n",
              " 'mutant',\n",
              " 'mutants',\n",
              " 'observed',\n",
              " 'pathway',\n",
              " 'patient',\n",
              " 'patients',\n",
              " 'phosphorylation',\n",
              " 'proteins',\n",
              " 'raf',\n",
              " 'ras',\n",
              " 'receptor',\n",
              " 'resistance',\n",
              " 'response',\n",
              " 'signaling',\n",
              " 'studies',\n",
              " 'study',\n",
              " 'survival',\n",
              " 'treatment',\n",
              " 'tumor',\n",
              " 'tumors',\n",
              " 'tyrosine',\n",
              " 'ure',\n",
              " 'wild',\n",
              " 'wt']"
            ]
          },
          "metadata": {},
          "execution_count": 211
        }
      ],
      "id": "sqPctqPyECdp"
    },
    {
      "cell_type": "code",
      "source": [
        "lda.fit(tf)"
      ],
      "metadata": {
        "colab": {
          "base_uri": "https://localhost:8080/"
        },
        "outputId": "a81159ed-83bf-4ba8-e1bd-b5a3affc90b8",
        "id": "Vpo6aG05ECdp"
      },
      "execution_count": null,
      "outputs": [
        {
          "output_type": "execute_result",
          "data": {
            "text/plain": [
              "LatentDirichletAllocation(learning_method='online', learning_offset=50.0,\n",
              "                          max_iter=5, n_components=9, random_state=0)"
            ]
          },
          "metadata": {},
          "execution_count": 212
        }
      ],
      "id": "Vpo6aG05ECdp"
    },
    {
      "cell_type": "code",
      "source": [
        "def print_top_words(model, feature_names, n_top_words):\n",
        "    for topic_idx, topic in enumerate(model.components_):\n",
        "        print(\"Topic #%d:\" % topic_idx)\n",
        "        print(\" \".join([feature_names[i]\n",
        "                        for i in topic.argsort()[:-n_top_words - 1:-1]]))\n",
        "    print()"
      ],
      "metadata": {
        "id": "h0c1pEX3ECdp"
      },
      "execution_count": null,
      "outputs": [],
      "id": "h0c1pEX3ECdp"
    },
    {
      "cell_type": "code",
      "source": [
        "print_top_words(lda, tf_feature_names, 10)"
      ],
      "metadata": {
        "colab": {
          "base_uri": "https://localhost:8080/"
        },
        "outputId": "9a011535-c1f3-4309-ae1b-3fdb6d90d527",
        "id": "1gJSKL1fECdp"
      },
      "execution_count": null,
      "outputs": [
        {
          "output_type": "stream",
          "name": "stdout",
          "text": [
            "Topic #0:\n",
            "egfr patients gefitinib lung response treatment cancer exon clinical tumor\n",
            "Topic #1:\n",
            "patients exon kit patient 11 clinical response study disease tumor\n",
            "Topic #2:\n",
            "egfr exon patients gefitinib response clinical treatment tumor survival study\n",
            "Topic #3:\n",
            "cancer tumor gene tumors genes ure dna pathway human binding\n",
            "Topic #4:\n",
            "ure mutants mutant signaling phosphorylation wt expressing receptor wild growth\n",
            "Topic #5:\n",
            "alk ure patients tumor lines cancer resistance inhibitors lung tumors\n",
            "Topic #6:\n",
            "kit flt3 imatinib patients mutant resistance ure 11 tyrosine wild\n",
            "Topic #7:\n",
            "ras raf braf ure mutant proteins cancer patients pathway mutants\n",
            "Topic #8:\n",
            "resistance egfr inhibitors inhibitor patients treatment tumor clinical mutant cancer\n",
            "\n"
          ]
        }
      ],
      "id": "1gJSKL1fECdp"
    },
    {
      "cell_type": "code",
      "source": [],
      "metadata": {
        "id": "ld8qs4ZQEFIT"
      },
      "id": "ld8qs4ZQEFIT",
      "execution_count": null,
      "outputs": []
    },
    {
      "cell_type": "markdown",
      "source": [
        "## Class 8\n"
      ],
      "metadata": {
        "id": "GhuS6ORwEFik"
      },
      "id": "GhuS6ORwEFik"
    },
    {
      "cell_type": "code",
      "source": [
        "from sklearn.feature_extraction.text import CountVectorizer\n",
        "n_features = 50\n",
        "tf_vectorizer = CountVectorizer(max_df=0.95, min_df=2,\n",
        "                                max_features=50,\n",
        "                                stop_words='english')\n",
        "tf = tf_vectorizer.fit_transform(Data_class_8['TEXT_cleaned'])"
      ],
      "metadata": {
        "id": "GjYT9eK2EFil"
      },
      "execution_count": null,
      "outputs": [],
      "id": "GjYT9eK2EFil"
    },
    {
      "cell_type": "code",
      "source": [
        "tf_feature_names = tf_vectorizer.get_feature_names()\n",
        "tf_feature_names"
      ],
      "metadata": {
        "colab": {
          "base_uri": "https://localhost:8080/"
        },
        "outputId": "4c05712c-adc4-4d61-c2c7-eb53b9005ba8",
        "id": "QbeRZMLlEFil"
      },
      "execution_count": null,
      "outputs": [
        {
          "output_type": "execute_result",
          "data": {
            "text/plain": [
              "['2hg',\n",
              " 'activation',\n",
              " 'activity',\n",
              " 'akt',\n",
              " 'alleles',\n",
              " 'associated',\n",
              " 'bcor',\n",
              " 'binding',\n",
              " 'different',\n",
              " 'erbb2',\n",
              " 'expressing',\n",
              " 'function',\n",
              " 'gbm',\n",
              " 'gene',\n",
              " 'genes',\n",
              " 'growth',\n",
              " 'h3',\n",
              " 'histone',\n",
              " 'hotspots',\n",
              " 'idh',\n",
              " 'idh1',\n",
              " 'idh2',\n",
              " 'including',\n",
              " 'k42a',\n",
              " 'kinase',\n",
              " 'levels',\n",
              " 'lines',\n",
              " 'methylation',\n",
              " 'mutant',\n",
              " 'mutants',\n",
              " 'mutated',\n",
              " 'mutation',\n",
              " 'observed',\n",
              " 'patients',\n",
              " 'pcr',\n",
              " 'previously',\n",
              " 'proteins',\n",
              " 'rara',\n",
              " 'results',\n",
              " 'rna',\n",
              " 'samples',\n",
              " 'sequencing',\n",
              " 'sf3b1',\n",
              " 'specific',\n",
              " 'supplementary',\n",
              " 'transcription',\n",
              " 'tumor',\n",
              " 'tumors',\n",
              " 'ure',\n",
              " 'wild']"
            ]
          },
          "metadata": {},
          "execution_count": 216
        }
      ],
      "id": "QbeRZMLlEFil"
    },
    {
      "cell_type": "code",
      "source": [
        "lda.fit(tf)"
      ],
      "metadata": {
        "colab": {
          "base_uri": "https://localhost:8080/"
        },
        "outputId": "02efc829-7831-4336-98c8-4ea89bf7b30a",
        "id": "7jzDoAuVEFil"
      },
      "execution_count": null,
      "outputs": [
        {
          "output_type": "execute_result",
          "data": {
            "text/plain": [
              "LatentDirichletAllocation(learning_method='online', learning_offset=50.0,\n",
              "                          max_iter=5, n_components=9, random_state=0)"
            ]
          },
          "metadata": {},
          "execution_count": 217
        }
      ],
      "id": "7jzDoAuVEFil"
    },
    {
      "cell_type": "code",
      "source": [
        "def print_top_words(model, feature_names, n_top_words):\n",
        "    for topic_idx, topic in enumerate(model.components_):\n",
        "        print(\"Topic #%d:\" % topic_idx)\n",
        "        print(\" \".join([feature_names[i]\n",
        "                        for i in topic.argsort()[:-n_top_words - 1:-1]]))\n",
        "    print()"
      ],
      "metadata": {
        "id": "9r3dASO-EFil"
      },
      "execution_count": null,
      "outputs": [],
      "id": "9r3dASO-EFil"
    },
    {
      "cell_type": "code",
      "source": [
        "print_top_words(lda, tf_feature_names, 10)"
      ],
      "metadata": {
        "colab": {
          "base_uri": "https://localhost:8080/"
        },
        "outputId": "8b7fdb16-a5f8-482c-d556-8073ead5b994",
        "id": "RnZluDxxEFim"
      },
      "execution_count": null,
      "outputs": [
        {
          "output_type": "stream",
          "name": "stdout",
          "text": [
            "Topic #0:\n",
            "idh1 idh2 2hg mutant idh alleles wild tumor mutation ure\n",
            "Topic #1:\n",
            "akt ure kinase activation mutant activity lines binding supplementary mutation\n",
            "Topic #2:\n",
            "mutant erbb2 genes tumors mutation kinase idh1 sf3b1 expressing associated\n",
            "Topic #3:\n",
            "erbb2 mutation kinase associated growth binding expressing mutant activity activation\n",
            "Topic #4:\n",
            "genes gene tumors methylation ure tumor observed rna supplementary lines\n",
            "Topic #5:\n",
            "hotspots mutant mutation genes sf3b1 gene tumor mutants different tumors\n",
            "Topic #6:\n",
            "gene tumors alleles bcor 2hg idh1 tumor idh2 ure idh\n",
            "Topic #7:\n",
            "h3 histone k42a gbm methylation samples genes transcription ure gene\n",
            "Topic #8:\n",
            "bcor rara ure pcr proteins binding gene activation akt results\n",
            "\n"
          ]
        }
      ],
      "id": "RnZluDxxEFim"
    },
    {
      "cell_type": "code",
      "source": [],
      "metadata": {
        "id": "_MQHTOiyEJsk"
      },
      "id": "_MQHTOiyEJsk",
      "execution_count": null,
      "outputs": []
    },
    {
      "cell_type": "markdown",
      "source": [
        "## Class 9\n"
      ],
      "metadata": {
        "id": "odaLuYjPEKSn"
      },
      "id": "odaLuYjPEKSn"
    },
    {
      "cell_type": "code",
      "source": [
        "from sklearn.feature_extraction.text import CountVectorizer\n",
        "n_features = 50\n",
        "tf_vectorizer = CountVectorizer(max_df=0.95, min_df=2,\n",
        "                                max_features=50,\n",
        "                                stop_words='english')\n",
        "tf = tf_vectorizer.fit_transform(Data_class_9['TEXT_cleaned'])"
      ],
      "metadata": {
        "id": "Zopmtfk-EKSo"
      },
      "execution_count": null,
      "outputs": [],
      "id": "Zopmtfk-EKSo"
    },
    {
      "cell_type": "code",
      "source": [
        "tf_feature_names = tf_vectorizer.get_feature_names()\n",
        "tf_feature_names"
      ],
      "metadata": {
        "colab": {
          "base_uri": "https://localhost:8080/"
        },
        "outputId": "380c40a8-bbf8-42bc-8f61-8e959748b1d8",
        "id": "l1SG-wC7EKSo"
      },
      "execution_count": null,
      "outputs": [
        {
          "output_type": "execute_result",
          "data": {
            "text/plain": [
              "['10',\n",
              " '2hg',\n",
              " 'aberrant',\n",
              " 'activity',\n",
              " 'ag',\n",
              " 'alternative',\n",
              " 'aml',\n",
              " 'cancer',\n",
              " 'cases',\n",
              " 'cell',\n",
              " 'compared',\n",
              " 'complex',\n",
              " 'control',\n",
              " 'dna',\n",
              " 'exon',\n",
              " 'ezh2',\n",
              " 'function',\n",
              " 'gene',\n",
              " 'genes',\n",
              " 'h3k27',\n",
              " 'histone',\n",
              " 'human',\n",
              " 'idh',\n",
              " 'idh1',\n",
              " 'idh2',\n",
              " 'increased',\n",
              " 'levels',\n",
              " 'lines',\n",
              " 'mds',\n",
              " 'methylation',\n",
              " 'mice',\n",
              " 'mutated',\n",
              " 'patients',\n",
              " 'performed',\n",
              " 'rna',\n",
              " 's34f',\n",
              " 'sequencing',\n",
              " 'sf3b1',\n",
              " 'sf3b1mut',\n",
              " 'shown',\n",
              " 'splice',\n",
              " 'splicing',\n",
              " 'study',\n",
              " 'supplementary',\n",
              " 'tumors',\n",
              " 'u2af1',\n",
              " 'u2af35',\n",
              " 'ure',\n",
              " 'used',\n",
              " 'wt']"
            ]
          },
          "metadata": {},
          "execution_count": 221
        }
      ],
      "id": "l1SG-wC7EKSo"
    },
    {
      "cell_type": "code",
      "source": [
        "lda.fit(tf)"
      ],
      "metadata": {
        "colab": {
          "base_uri": "https://localhost:8080/"
        },
        "outputId": "6eee278c-58b8-4fec-b967-3efc4e1b652b",
        "id": "OmcML0TEEKSo"
      },
      "execution_count": null,
      "outputs": [
        {
          "output_type": "execute_result",
          "data": {
            "text/plain": [
              "LatentDirichletAllocation(learning_method='online', learning_offset=50.0,\n",
              "                          max_iter=5, n_components=9, random_state=0)"
            ]
          },
          "metadata": {},
          "execution_count": 222
        }
      ],
      "id": "OmcML0TEEKSo"
    },
    {
      "cell_type": "code",
      "source": [
        "def print_top_words(model, feature_names, n_top_words):\n",
        "    for topic_idx, topic in enumerate(model.components_):\n",
        "        print(\"Topic #%d:\" % topic_idx)\n",
        "        print(\" \".join([feature_names[i]\n",
        "                        for i in topic.argsort()[:-n_top_words - 1:-1]]))\n",
        "    print()"
      ],
      "metadata": {
        "id": "kZlCSnP1EKSo"
      },
      "execution_count": null,
      "outputs": [],
      "id": "kZlCSnP1EKSo"
    },
    {
      "cell_type": "code",
      "source": [
        "print_top_words(lda, tf_feature_names, 10)"
      ],
      "metadata": {
        "colab": {
          "base_uri": "https://localhost:8080/"
        },
        "outputId": "35970b6d-4ec6-4e21-daa7-7df7260a696b",
        "id": "wpjyV-blEKSo"
      },
      "execution_count": null,
      "outputs": [
        {
          "output_type": "stream",
          "name": "stdout",
          "text": [
            "Topic #0:\n",
            "sf3b1 genes splicing cell gene u2af35 exon mds supplementary rna\n",
            "Topic #1:\n",
            "ezh2 cell ure histone h3k27 levels methylation activity wt cancer\n",
            "Topic #2:\n",
            "sf3b1 splicing ure genes mds patients rna aberrant sf3b1mut cell\n",
            "Topic #3:\n",
            "ag cell alternative ezh2 methylation sf3b1 levels lines idh1 histone\n",
            "Topic #4:\n",
            "sf3b1 idh1 idh2 2hg splicing cell idh ure patients genes\n",
            "Topic #5:\n",
            "idh2 idh mice idh1 2hg ezh2 genes levels cell methylation\n",
            "Topic #6:\n",
            "idh1 2hg idh2 idh cell ure levels mice aml dna\n",
            "Topic #7:\n",
            "u2af1 splicing s34f splice ure rna wt genes mds supplementary\n",
            "Topic #8:\n",
            "idh2 idh1 idh 2hg u2af1 aml ure cell mice gene\n",
            "\n"
          ]
        }
      ],
      "id": "wpjyV-blEKSo"
    },
    {
      "cell_type": "code",
      "source": [],
      "metadata": {
        "id": "h9gCj9vjExBE"
      },
      "id": "h9gCj9vjExBE",
      "execution_count": null,
      "outputs": []
    }
  ],
  "metadata": {
    "kernelspec": {
      "display_name": "Python 3",
      "language": "python",
      "name": "python3"
    },
    "language_info": {
      "codemirror_mode": {
        "name": "ipython",
        "version": 3
      },
      "file_extension": ".py",
      "mimetype": "text/x-python",
      "name": "python",
      "nbconvert_exporter": "python",
      "pygments_lexer": "ipython3",
      "version": "3.8.8"
    },
    "colab": {
      "provenance": [],
      "collapsed_sections": [
        "2a7e56ba",
        "hhBEWUPz81X8",
        "GhuS6ORwEFik"
      ],
      "toc_visible": true
    },
    "gpuClass": "standard"
  },
  "nbformat": 4,
  "nbformat_minor": 5
}